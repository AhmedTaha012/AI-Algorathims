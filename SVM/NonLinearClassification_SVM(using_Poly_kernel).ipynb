{
  "nbformat": 4,
  "nbformat_minor": 0,
  "metadata": {
    "colab": {
      "name": "NonLinearClassification_SVM(using Poly kernel).ipynb",
      "provenance": [],
      "collapsed_sections": []
    },
    "kernelspec": {
      "name": "python3",
      "display_name": "Python 3"
    },
    "language_info": {
      "name": "python"
    }
  },
  "cells": [
    {
      "cell_type": "markdown",
      "source": [
        "##Support Vector Machine "
      ],
      "metadata": {
        "id": "BIvFc-W59oL0"
      }
    },
    {
      "cell_type": "markdown",
      "source": [
        "# ***Modules***"
      ],
      "metadata": {
        "id": "wjEEuSSp9vtp"
      }
    },
    {
      "cell_type": "code",
      "execution_count": 1,
      "metadata": {
        "id": "aG_DT00d9btW"
      },
      "outputs": [],
      "source": [
        "import pandas as pd\n",
        "import numpy as np\n",
        "import matplotlib as mpl\n",
        "import matplotlib.pyplot as plt\n",
        "import seaborn as sns\n",
        "sns.set_context('notebook')\n",
        "sns.set_style('white')\n",
        "from scipy.io import loadmat\n",
        "from sklearn import svm\n"
      ]
    },
    {
      "cell_type": "markdown",
      "source": [
        "# Read The Data"
      ],
      "metadata": {
        "id": "untFRobN90AG"
      }
    },
    {
      "cell_type": "code",
      "source": [
        "data1 = loadmat('/content/ex6data3.mat')"
      ],
      "metadata": {
        "id": "Qwn2GqJZ9nhJ"
      },
      "execution_count": 2,
      "outputs": []
    },
    {
      "cell_type": "markdown",
      "source": [
        "# Read the data as x and y\n"
      ],
      "metadata": {
        "id": "YLBCOjDn-A9p"
      }
    },
    {
      "cell_type": "code",
      "source": [
        "y1 = data1['y']\n",
        "X1 = data1['X']\n"
      ],
      "metadata": {
        "id": "SDPZXiUH-vDm"
      },
      "execution_count": 3,
      "outputs": []
    },
    {
      "cell_type": "markdown",
      "source": [
        "# Print the x data"
      ],
      "metadata": {
        "id": "1lsPQ37i-1IC"
      }
    },
    {
      "cell_type": "code",
      "source": [
        "print(X1)"
      ],
      "metadata": {
        "id": "_9obH4U1-3yi"
      },
      "execution_count": null,
      "outputs": []
    },
    {
      "cell_type": "markdown",
      "source": [
        "Print Y "
      ],
      "metadata": {
        "id": "cR27air__Al7"
      }
    },
    {
      "cell_type": "code",
      "source": [
        "print(y1)"
      ],
      "metadata": {
        "id": "Jh7Z9gOW_CNM"
      },
      "execution_count": null,
      "outputs": []
    },
    {
      "cell_type": "markdown",
      "source": [
        "# Function to plot the data in to terms"
      ],
      "metadata": {
        "id": "iJyE-lDzRJ6Y"
      }
    },
    {
      "cell_type": "code",
      "source": [
        "def plotData(X, y ,S):\n",
        "    pos = (y == 1).ravel()\n",
        "    neg = (y == 0).ravel()\n",
        "    \n",
        "    plt.scatter(X[pos,0], X[pos,1], s=S, c='c', marker='x', linewidths=1)\n",
        "    plt.scatter(X[neg,0], X[neg,1], s=S, c='r', marker='o', linewidths=1)\n"
      ],
      "metadata": {
        "id": "XjVKD2MLRFBt"
      },
      "execution_count": 7,
      "outputs": []
    },
    {
      "cell_type": "markdown",
      "source": [
        "Ploting the data "
      ],
      "metadata": {
        "id": "Z2X6dei3NTkm"
      }
    },
    {
      "cell_type": "code",
      "source": [
        "plotData(X1,y1,80)\n"
      ],
      "metadata": {
        "colab": {
          "base_uri": "https://localhost:8080/",
          "height": 268
        },
        "id": "Btve2DgQNYSK",
        "outputId": "5d5ea523-a8b9-4386-d8cf-2077d166e651"
      },
      "execution_count": 8,
      "outputs": [
        {
          "output_type": "display_data",
          "data": {
            "image/png": "[encoded data removed]",
            "text/plain": [
              "<Figure size 432x288 with 1 Axes>"
            ]
          },
          "metadata": {
            "needs_background": "light"
          }
        }
      ]
    },
    {
      "cell_type": "markdown",
      "source": [
        "Function to plot the result of the svm"
      ],
      "metadata": {
        "id": "wCVEeyYEQ9c-"
      }
    },
    {
      "cell_type": "code",
      "source": [
        "def plot_svc(svc, X, y, h=0.02, pad=0.25):\n",
        "    x_min, x_max = X[:, 0].min()-pad, X[:, 0].max()+pad\n",
        "    y_min, y_max = X[:, 1].min()-pad, X[:, 1].max()+pad\n",
        "    xx, yy = np.meshgrid(np.arange(x_min, x_max, h), np.arange(y_min, y_max, h))\n",
        "    Z = svc.predict(np.c_[xx.ravel(), yy.ravel()])\n",
        "    Z = Z.reshape(xx.shape)\n",
        "    plt.contourf(xx, yy, Z, cmap=plt.cm.Paired, alpha=0.2)\n",
        "\n",
        "    plotData(X, y,6)\n",
        "    #plt.scatter(X[:,0], X[:,1], s=70, c=y, cmap=mpl.cm.Paired)\n",
        "    # Support vectors indicated in plot by vertical lines\n",
        "    sv = svc.support_vectors_\n",
        "    plt.scatter(sv[:,0], sv[:,1], c='y', marker='|', s=100, linewidths=5)\n",
        "    plt.xlim(x_min, x_max)\n",
        "    plt.ylim(y_min, y_max)\n",
        "    plt.xlabel('X1')\n",
        "    plt.ylabel('X2')\n",
        "    plt.show()\n",
        "    print('Number of support vectors: ', svc.support_.size)\n"
      ],
      "metadata": {
        "id": "m9qt3IQeQ7hE"
      },
      "execution_count": 9,
      "outputs": []
    },
    {
      "cell_type": "markdown",
      "source": [
        "Using Linear SVM Method on this data "
      ],
      "metadata": {
        "id": "6Ca00uXBN0I2"
      }
    },
    {
      "cell_type": "code",
      "source": [
        "clf2 = svm.SVC(C=1.0, kernel='poly', degree=3, gamma=10)\n",
        "clf2.fit(X1, y1.ravel())\n",
        "plot_svc(clf2, X1, y1)\n"
      ],
      "metadata": {
        "colab": {
          "base_uri": "https://localhost:8080/",
          "height": 303
        },
        "id": "Imlbc1gpNzjR",
        "outputId": "b2f14bab-1b3b-4bd6-d9e5-48ecd89e01af"
      },
      "execution_count": 22,
      "outputs": [
        {
          "output_type": "display_data",
          "data": {
            "image/png": "[encoded data removed]",
            "text/plain": [
              "<Figure size 432x288 with 1 Axes>"
            ]
          },
          "metadata": {
            "needs_background": "light"
          }
        },
        {
          "output_type": "stream",
          "name": "stdout",
          "text": [
            "Number of support vectors:  78\n"
          ]
        }
      ]
    },
    {
      "cell_type": "code",
      "source": [
        "print(f\"The model accuracy is {round(clf2.score(X1, y1.ravel())*100,2)}%\")"
      ],
      "metadata": {
        "colab": {
          "base_uri": "https://localhost:8080/"
        },
        "id": "hxb4M_sPT88S",
        "outputId": "33e3aa6c-f19f-4ec5-e15f-d2664335d9d1"
      },
      "execution_count": 23,
      "outputs": [
        {
          "output_type": "stream",
          "name": "stdout",
          "text": [
            "The model accuracy is 88.15%\n"
          ]
        }
      ]
    }
  ]
}