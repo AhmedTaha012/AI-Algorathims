{
  "nbformat": 4,
  "nbformat_minor": 0,
  "metadata": {
    "colab": {
      "name": "LinearClassification_SVM.ipynb",
      "provenance": [],
      "collapsed_sections": []
    },
    "kernelspec": {
      "name": "python3",
      "display_name": "Python 3"
    },
    "language_info": {
      "name": "python"
    }
  },
  "cells": [
    {
      "cell_type": "markdown",
      "source": [
        "##Support Vector Machine "
      ],
      "metadata": {
        "id": "BIvFc-W59oL0"
      }
    },
    {
      "cell_type": "markdown",
      "source": [
        "# ***Modules***"
      ],
      "metadata": {
        "id": "wjEEuSSp9vtp"
      }
    },
    {
      "cell_type": "code",
      "execution_count": 2,
      "metadata": {
        "id": "aG_DT00d9btW"
      },
      "outputs": [],
      "source": [
        "import pandas as pd\n",
        "import numpy as np\n",
        "import matplotlib as mpl\n",
        "import matplotlib.pyplot as plt\n",
        "import seaborn as sns\n",
        "sns.set_context('notebook')\n",
        "sns.set_style('white')\n",
        "from scipy.io import loadmat\n",
        "from sklearn import svm\n"
      ]
    },
    {
      "cell_type": "markdown",
      "source": [
        "# Read The Data"
      ],
      "metadata": {
        "id": "untFRobN90AG"
      }
    },
    {
      "cell_type": "code",
      "source": [
        "data1 = loadmat('/content/ex6data1.mat')"
      ],
      "metadata": {
        "id": "Qwn2GqJZ9nhJ"
      },
      "execution_count": 4,
      "outputs": []
    },
    {
      "cell_type": "markdown",
      "source": [
        "# Read the data as x and y\n"
      ],
      "metadata": {
        "id": "YLBCOjDn-A9p"
      }
    },
    {
      "cell_type": "code",
      "source": [
        "y1 = data1['y']\n",
        "X1 = data1['X']\n"
      ],
      "metadata": {
        "id": "SDPZXiUH-vDm"
      },
      "execution_count": 7,
      "outputs": []
    },
    {
      "cell_type": "markdown",
      "source": [
        "# Print the x data"
      ],
      "metadata": {
        "id": "1lsPQ37i-1IC"
      }
    },
    {
      "cell_type": "code",
      "source": [
        "print(X1)"
      ],
      "metadata": {
        "id": "_9obH4U1-3yi"
      },
      "execution_count": null,
      "outputs": []
    },
    {
      "cell_type": "markdown",
      "source": [
        "Print Y "
      ],
      "metadata": {
        "id": "cR27air__Al7"
      }
    },
    {
      "cell_type": "code",
      "source": [
        "print(y1)"
      ],
      "metadata": {
        "id": "Jh7Z9gOW_CNM"
      },
      "execution_count": null,
      "outputs": []
    },
    {
      "cell_type": "markdown",
      "source": [
        "# Function to plot the data in to terms"
      ],
      "metadata": {
        "id": "iJyE-lDzRJ6Y"
      }
    },
    {
      "cell_type": "code",
      "source": [
        "def plotData(X, y ,S):\n",
        "    pos = (y == 1).ravel()\n",
        "    neg = (y == 0).ravel()\n",
        "    \n",
        "    plt.scatter(X[pos,0], X[pos,1], s=S, c='b', marker='+', linewidths=1)\n",
        "    plt.scatter(X[neg,0], X[neg,1], s=S, c='r', marker='o', linewidths=1)\n"
      ],
      "metadata": {
        "id": "XjVKD2MLRFBt"
      },
      "execution_count": 15,
      "outputs": []
    },
    {
      "cell_type": "markdown",
      "source": [
        "Ploting the data "
      ],
      "metadata": {
        "id": "Z2X6dei3NTkm"
      }
    },
    {
      "cell_type": "code",
      "source": [
        "plotData(X1,y1,100)\n"
      ],
      "metadata": {
        "colab": {
          "base_uri": "https://localhost:8080/",
          "height": 268
        },
        "id": "Btve2DgQNYSK",
        "outputId": "daf4019a-81d7-4ede-f3ed-8272517b46e5"
      },
      "execution_count": 17,
      "outputs": [
        {
          "output_type": "display_data",
          "data": {
            "image/png": "[encoded data removed]",
            "text/plain": [
              "<Figure size 432x288 with 1 Axes>"
            ]
          },
          "metadata": {}
        }
      ]
    },
    {
      "cell_type": "markdown",
      "source": [
        "Function to plot the result of the svm"
      ],
      "metadata": {
        "id": "wCVEeyYEQ9c-"
      }
    },
    {
      "cell_type": "code",
      "source": [
        "def plot_svc(svc, X, y, h=0.02, pad=0.25):\n",
        "    x_min, x_max = X[:, 0].min()-pad, X[:, 0].max()+pad\n",
        "    y_min, y_max = X[:, 1].min()-pad, X[:, 1].max()+pad\n",
        "    xx, yy = np.meshgrid(np.arange(x_min, x_max, h), np.arange(y_min, y_max, h))\n",
        "    Z = svc.predict(np.c_[xx.ravel(), yy.ravel()])\n",
        "    Z = Z.reshape(xx.shape)\n",
        "    plt.contourf(xx, yy, Z, cmap=plt.cm.Paired, alpha=0.2)\n",
        "\n",
        "    plotData(X, y,6)\n",
        "    #plt.scatter(X[:,0], X[:,1], s=70, c=y, cmap=mpl.cm.Paired)\n",
        "    # Support vectors indicated in plot by vertical lines\n",
        "    sv = svc.support_vectors_\n",
        "    plt.scatter(sv[:,0], sv[:,1], c='y', marker='|', s=100, linewidths=5)\n",
        "    plt.xlim(x_min, x_max)\n",
        "    plt.ylim(y_min, y_max)\n",
        "    plt.xlabel('X1')\n",
        "    plt.ylabel('X2')\n",
        "    plt.show()\n",
        "    print('Number of support vectors: ', svc.support_.size)\n"
      ],
      "metadata": {
        "id": "m9qt3IQeQ7hE"
      },
      "execution_count": 19,
      "outputs": []
    },
    {
      "cell_type": "markdown",
      "source": [
        "Using Linear SVM Method on this data "
      ],
      "metadata": {
        "id": "6Ca00uXBN0I2"
      }
    },
    {
      "cell_type": "markdown",
      "source": [
        "**Note**\n",
        "We use a small number of c to shows the effect of the c on the mode since the model cost is CA+B so by small c so A will increase and b will decreae which may caused the under fit while in the other case we try a large number of the c so it A will decreasee and B will increase so it's may cause over fit"
      ],
      "metadata": {
        "id": "chwZF32HRn7R"
      }
    },
    {
      "cell_type": "markdown",
      "source": [
        "Case:1 (Small value of c)"
      ],
      "metadata": {
        "id": "zAo-C_-VSMpO"
      }
    },
    {
      "cell_type": "code",
      "source": [
        "clf = svm.SVC(C=1.0, kernel='linear')\n",
        "clf.fit(X1, y1.ravel())\n",
        "plot_svc(clf, X1, y1)"
      ],
      "metadata": {
        "colab": {
          "base_uri": "https://localhost:8080/",
          "height": 302
        },
        "id": "Imlbc1gpNzjR",
        "outputId": "f6e5788f-0092-423c-eb77-3a6b12b85d09"
      },
      "execution_count": 25,
      "outputs": [
        {
          "output_type": "display_data",
          "data": {
            "image/png": "[encoded data removed]",
            "text/plain": [
              "<Figure size 432x288 with 1 Axes>"
            ]
          },
          "metadata": {}
        },
        {
          "output_type": "stream",
          "name": "stdout",
          "text": [
            "Number of support vectors:  12\n"
          ]
        }
      ]
    },
    {
      "cell_type": "code",
      "source": [
        "print(f\"The model accuracy is {round(clf.score(X1, y1.ravel())*100,2)}%\")"
      ],
      "metadata": {
        "colab": {
          "base_uri": "https://localhost:8080/"
        },
        "id": "C4ZWq4TbU8Ue",
        "outputId": "7d22650a-349a-431a-ff2f-6f48386d67cf"
      },
      "execution_count": 26,
      "outputs": [
        {
          "output_type": "stream",
          "name": "stdout",
          "text": [
            "The model accuracy is 98.04%\n"
          ]
        }
      ]
    },
    {
      "cell_type": "markdown",
      "source": [
        "Case:2 (Large value of c)"
      ],
      "metadata": {
        "id": "PZU4_VVOSQQ1"
      }
    },
    {
      "cell_type": "code",
      "source": [
        "clf.set_params(C=100)\n",
        "clf.fit(X1, y1.ravel())\n",
        "plot_svc(clf, X1, y1)"
      ],
      "metadata": {
        "colab": {
          "base_uri": "https://localhost:8080/",
          "height": 302
        },
        "id": "i1gDGWYfOPcQ",
        "outputId": "9befe0a8-5b43-4624-95d5-4ececcd79590"
      },
      "execution_count": 27,
      "outputs": [
        {
          "output_type": "display_data",
          "data": {
            "image/png": "[encoded data removed]",
            "text/plain": [
              "<Figure size 432x288 with 1 Axes>"
            ]
          },
          "metadata": {}
        },
        {
          "output_type": "stream",
          "name": "stdout",
          "text": [
            "Number of support vectors:  3\n"
          ]
        }
      ]
    },
    {
      "cell_type": "code",
      "source": [
        "print(f\"The model accuracy is {round(clf.score(X1, y1.ravel())*100,2)}%\")"
      ],
      "metadata": {
        "colab": {
          "base_uri": "https://localhost:8080/"
        },
        "id": "hsPFCaG_U3R6",
        "outputId": "6b2e67de-c4f2-4226-ecfd-ca9773975210"
      },
      "execution_count": 28,
      "outputs": [
        {
          "output_type": "stream",
          "name": "stdout",
          "text": [
            "The model accuracy is 100.0%\n"
          ]
        }
      ]
    }
  ]
}