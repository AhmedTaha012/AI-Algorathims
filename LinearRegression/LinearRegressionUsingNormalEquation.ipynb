{
  "nbformat": 4,
  "nbformat_minor": 0,
  "metadata": {
    "colab": {
      "name": "LinearRegressionUsingNormalEquation.ipynb",
      "provenance": [],
      "collapsed_sections": []
    },
    "kernelspec": {
      "name": "python3",
      "display_name": "Python 3"
    },
    "language_info": {
      "name": "python"
    }
  },
  "cells": [
    {
      "cell_type": "markdown",
      "source": [
        "Import the modules "
      ],
      "metadata": {
        "id": "QirHddpNzxJo"
      }
    },
    {
      "cell_type": "code",
      "execution_count": 1,
      "metadata": {
        "id": "2_K-XdhxzpCF"
      },
      "outputs": [],
      "source": [
        "import numpy as np"
      ]
    },
    {
      "cell_type": "markdown",
      "source": [
        "My Data"
      ],
      "metadata": {
        "id": "iGIBu9Rr0IPN"
      }
    },
    {
      "cell_type": "code",
      "source": [
        "data=[[ 23,  3,  8,6562],\n",
        "\n",
        "         [  15,  2,  7,4569],\n",
        "\n",
        "         [ 24,  4,  9,6897],\n",
        "\n",
        "         [  29,  5,  4,7562],\n",
        "\n",
        "         [ 31,  7,  6,8234]\n",
        "\n",
        "         ]"
      ],
      "metadata": {
        "id": "kkHvFtpI0Kx3"
      },
      "execution_count": 121,
      "outputs": []
    },
    {
      "cell_type": "markdown",
      "source": [
        "Get the X and Y**values**"
      ],
      "metadata": {
        "id": "CaVZbr-K0nSF"
      }
    },
    {
      "cell_type": "code",
      "source": [
        "x=[]\n",
        "y=[]\n",
        "for i in range(len(data)):\n",
        "  x.append(data[i][0:-1])\n",
        "  y.append(data[i][-1])\n",
        "print(x)\n",
        "print(y)"
      ],
      "metadata": {
        "colab": {
          "base_uri": "https://localhost:8080/"
        },
        "id": "9pTgLCob0sal",
        "outputId": "0a31fe7c-c159-4a92-8f71-04de3be579cc"
      },
      "execution_count": 122,
      "outputs": [
        {
          "output_type": "stream",
          "name": "stdout",
          "text": [
            "[[23, 3, 8], [15, 2, 7], [24, 4, 9], [29, 5, 4], [31, 7, 6]]\n",
            "[6562, 4569, 6897, 7562, 8234]\n"
          ]
        }
      ]
    },
    {
      "cell_type": "markdown",
      "source": [
        "Convert X and Y to numpy arrays"
      ],
      "metadata": {
        "id": "5BeKahLw2TBO"
      }
    },
    {
      "cell_type": "code",
      "source": [
        "x=np.array(x)\n",
        "ones=np.ones((x.shape[0],1))\n",
        "x=np.concatenate((ones,x),axis=1)\n",
        "print(x)\n",
        "print(x.shape)\n",
        "y=np.array(y)\n",
        "y=np.expand_dims(y,axis=-1)\n",
        "print(y)\n",
        "print(y.shape)"
      ],
      "metadata": {
        "colab": {
          "base_uri": "https://localhost:8080/"
        },
        "id": "fs42U1ca2W2R",
        "outputId": "113afa39-e57c-4b12-c91a-6660244a012a"
      },
      "execution_count": 123,
      "outputs": [
        {
          "output_type": "stream",
          "name": "stdout",
          "text": [
            "[[ 1. 23.  3.  8.]\n",
            " [ 1. 15.  2.  7.]\n",
            " [ 1. 24.  4.  9.]\n",
            " [ 1. 29.  5.  4.]\n",
            " [ 1. 31.  7.  6.]]\n",
            "(5, 4)\n",
            "[[6562]\n",
            " [4569]\n",
            " [6897]\n",
            " [7562]\n",
            " [8234]]\n",
            "(5, 1)\n"
          ]
        }
      ]
    },
    {
      "cell_type": "markdown",
      "source": [
        "Transpose The X Matrix "
      ],
      "metadata": {
        "id": "3_A9dW2t7hwU"
      }
    },
    {
      "cell_type": "code",
      "source": [
        "x_transpose=x.T\n",
        "print(x_transpose)\n",
        "print(x_transpose.shape)"
      ],
      "metadata": {
        "colab": {
          "base_uri": "https://localhost:8080/"
        },
        "id": "O1P9AgZI7nE_",
        "outputId": "6eb13f1b-17fe-4f9f-dc94-76c6d83ddc21"
      },
      "execution_count": 124,
      "outputs": [
        {
          "output_type": "stream",
          "name": "stdout",
          "text": [
            "[[ 1.  1.  1.  1.  1.]\n",
            " [23. 15. 24. 29. 31.]\n",
            " [ 3.  2.  4.  5.  7.]\n",
            " [ 8.  7.  9.  4.  6.]]\n",
            "(4, 5)\n"
          ]
        }
      ]
    },
    {
      "cell_type": "markdown",
      "source": [
        "## Multiply The Xtranspose by X take care xt*x not x*xt **bold text**"
      ],
      "metadata": {
        "id": "FHvMbGYC72ad"
      }
    },
    {
      "cell_type": "code",
      "source": [
        "x_mult_x_transpose=np.matmul(x.T,x)\n",
        "print(x_mult_x_transpose)\n",
        "print(x_mult_x_transpose.shape)"
      ],
      "metadata": {
        "colab": {
          "base_uri": "https://localhost:8080/"
        },
        "id": "ASV-FhP8787q",
        "outputId": "e9a26419-ab63-43a7-e16a-2b73df0ea714"
      },
      "execution_count": 125,
      "outputs": [
        {
          "output_type": "stream",
          "name": "stdout",
          "text": [
            "[[   5.  122.   21.   34.]\n",
            " [ 122. 3132.  557.  807.]\n",
            " [  21.  557.  103.  136.]\n",
            " [  34.  807.  136.  246.]]\n",
            "(4, 4)\n"
          ]
        }
      ]
    },
    {
      "cell_type": "markdown",
      "source": [
        "Get The Matrix inverse"
      ],
      "metadata": {
        "id": "GDm2utAc9idR"
      }
    },
    {
      "cell_type": "code",
      "source": [
        "x_mult_x_transpose_all_inverse=np.linalg.inv(x_mult_x_transpose)\n",
        "print(x_mult_x_transpose_all_inverse)\n",
        "print(x_mult_x_transpose_all_inverse.shape)"
      ],
      "metadata": {
        "colab": {
          "base_uri": "https://localhost:8080/"
        },
        "id": "enHiY3ER9lca",
        "outputId": "974e4a93-76ff-4593-f61b-f75953ada1e7"
      },
      "execution_count": 126,
      "outputs": [
        {
          "output_type": "stream",
          "name": "stdout",
          "text": [
            "[[ 1.66083333e+01 -6.52380952e-01  1.28452381e+00 -8.65476190e-01]\n",
            " [-6.52380952e-01  4.89795918e-02 -1.43537415e-01  8.84353741e-03]\n",
            " [ 1.28452381e+00 -1.43537415e-01  5.06292517e-01  1.34353741e-02]\n",
            " [-8.65476190e-01  8.84353741e-03  1.34353741e-02  8.72448980e-02]]\n",
            "(4, 4)\n"
          ]
        }
      ]
    },
    {
      "cell_type": "markdown",
      "source": [
        "Multiply The Inversed Matrix multiply by the X transpose matrix"
      ],
      "metadata": {
        "id": "JbkH3TVNAEQk"
      }
    },
    {
      "cell_type": "code",
      "source": [
        "x_mult_x_transpose_all_inverse_multiplyby_xtranspose=np.dot(x_mult_x_transpose_all_inverse,x_transpose)\n",
        "print(x_mult_x_transpose_all_inverse_multiplyby_xtranspose)\n",
        "print(x_mult_x_transpose_all_inverse_multiplyby_xtranspose.shape)"
      ],
      "metadata": {
        "colab": {
          "base_uri": "https://localhost:8080/"
        },
        "id": "HVYNZjG6AEmF",
        "outputId": "b3dfc8d7-76d5-4d8e-f619-7b0420057bcc"
      },
      "execution_count": 127,
      "outputs": [
        {
          "output_type": "stream",
          "name": "stdout",
          "text": [
            "[[-1.46666667  3.33333333 -1.7         0.65        0.18333333]\n",
            " [ 0.11428571 -0.14285714  0.02857143  0.08571429 -0.08571429]\n",
            " [-0.39047619  0.23809524 -0.01428571 -0.29285714  0.45952381]\n",
            " [ 0.07619048 -0.0952381   0.18571429 -0.19285714  0.02619048]]\n",
            "(4, 5)\n"
          ]
        }
      ]
    },
    {
      "cell_type": "markdown",
      "source": [
        "Get The Thetass"
      ],
      "metadata": {
        "id": "wZWJBNnZBwzk"
      }
    },
    {
      "cell_type": "code",
      "source": [
        "thetas=np.dot(x_mult_x_transpose_all_inverse_multiplyby_xtranspose,y)\n",
        "print(thetas)\n",
        "print(thetas.shape)"
      ],
      "metadata": {
        "colab": {
          "base_uri": "https://localhost:8080/"
        },
        "id": "i-kQ-TNJBz_w",
        "outputId": "58811111-0196-43a4-bdbe-97f214aa065d"
      },
      "execution_count": 128,
      "outputs": [
        {
          "output_type": "stream",
          "name": "stdout",
          "text": [
            "[[305.7       ]\n",
            " [236.68571429]\n",
            " [ -3.84285714]\n",
            " [102.95714286]]\n",
            "(4, 1)\n"
          ]
        }
      ]
    },
    {
      "cell_type": "markdown",
      "source": [
        "test the model"
      ],
      "metadata": {
        "id": "dN5P1yocJ_6b"
      }
    },
    {
      "cell_type": "code",
      "source": [
        "x_test=np.array([ 1,25,  3,  10])\n",
        "y_test=7485\n",
        "result=np.dot(thetas.T,x_test)\n",
        "print(\"Accuracy Result:\",100-((y_test-result)/y_test)*100)"
      ],
      "metadata": {
        "colab": {
          "base_uri": "https://localhost:8080/"
        },
        "id": "TEZnjnxcKC3h",
        "outputId": "08640f8a-cac6-46ff-c74b-2d1f747e84ca"
      },
      "execution_count": 134,
      "outputs": [
        {
          "output_type": "stream",
          "name": "stdout",
          "text": [
            "Accuracy Result: [96.7386201]\n"
          ]
        }
      ]
    }
  ]
}