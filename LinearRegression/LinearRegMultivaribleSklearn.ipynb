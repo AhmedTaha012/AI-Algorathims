{
  "nbformat": 4,
  "nbformat_minor": 0,
  "metadata": {
    "colab": {
      "name": "LinearRegMultivaribleSklearn.ipynb",
      "provenance": [],
      "collapsed_sections": []
    },
    "kernelspec": {
      "name": "python3",
      "display_name": "Python 3"
    },
    "language_info": {
      "name": "python"
    }
  },
  "cells": [
    {
      "cell_type": "markdown",
      "source": [
        "Import used module"
      ],
      "metadata": {
        "id": "nJyTz9Z2hzEj"
      }
    },
    {
      "cell_type": "code",
      "execution_count": 2,
      "metadata": {
        "id": "FCeScQOWPGkQ"
      },
      "outputs": [],
      "source": [
        "from sklearn import linear_model\n",
        "import pandas as pd"
      ]
    },
    {
      "cell_type": "markdown",
      "source": [
        "Read The Data from The Csv and normalize them "
      ],
      "metadata": {
        "id": "MLbjVi4whJoy"
      }
    },
    {
      "cell_type": "code",
      "source": [
        "df=pd.read_csv(\"CarPrice_Assignment.csv\")\n",
        "x=df[[\"car_ID\",\"wheelbase\",\"carwidth\",\"carheight\"]]\n",
        "x=x/x.max()\n",
        "y=df[\"price\"]\n",
        "y=y/y.max()\n",
        "print(x)\n",
        "print(y)"
      ],
      "metadata": {
        "colab": {
          "base_uri": "https://localhost:8080/"
        },
        "id": "8FETy0pJPo5v",
        "outputId": "25f7e3ad-e651-4468-9a8a-b58166f517fb"
      },
      "execution_count": 42,
      "outputs": [
        {
          "output_type": "stream",
          "name": "stdout",
          "text": [
            "       car_ID  wheelbase  carwidth  carheight\n",
            "0    0.006711   0.732837  0.886584   0.816054\n",
            "1    0.013423   0.732837  0.886584   0.816054\n",
            "2    0.020134   0.781638  0.905947   0.876254\n",
            "3    0.026846   0.825476  0.915629   0.908027\n",
            "4    0.033557   0.822167  0.918396   0.908027\n",
            "..        ...        ...       ...        ...\n",
            "144  0.973154   0.802316  0.904564   0.908027\n",
            "145  0.979866   0.802316  0.904564   0.908027\n",
            "146  0.986577   0.802316  0.904564   0.886288\n",
            "147  0.993289   0.802316  0.904564   0.886288\n",
            "148  1.000000   0.801489  0.904564   0.918060\n",
            "\n",
            "[149 rows x 4 columns]\n",
            "0      0.297247\n",
            "1      0.363436\n",
            "2      0.363436\n",
            "3      0.307269\n",
            "4      0.384361\n",
            "         ...   \n",
            "144    0.203370\n",
            "145    0.247996\n",
            "146    0.164383\n",
            "147    0.224626\n",
            "148    0.176498\n",
            "Name: price, Length: 149, dtype: float64\n"
          ]
        }
      ]
    },
    {
      "cell_type": "markdown",
      "source": [
        "Fit the data "
      ],
      "metadata": {
        "id": "mRXFB8WfhVU8"
      }
    },
    {
      "cell_type": "code",
      "source": [
        "regr = linear_model.LinearRegression()\n",
        "regr.fit(x, y)\n"
      ],
      "metadata": {
        "colab": {
          "base_uri": "https://localhost:8080/"
        },
        "id": "He6eq4HDRNE0",
        "outputId": "5c67bc24-8529-4455-d6c7-0f009fe8943d"
      },
      "execution_count": 43,
      "outputs": [
        {
          "output_type": "execute_result",
          "data": {
            "text/plain": [
              "LinearRegression()"
            ]
          },
          "metadata": {},
          "execution_count": 43
        }
      ]
    },
    {
      "cell_type": "markdown",
      "source": [
        "Read The data from Test csv and normalize them and the result of coefienat  "
      ],
      "metadata": {
        "id": "mGlE_PszhYR_"
      }
    },
    {
      "cell_type": "code",
      "source": [
        "df2=pd.read_csv(\"test.csv\")\n",
        "x_test=df2[[\"car_ID\",\"wheelbase\",\"carwidth\",\"carheight\"]]\n",
        "x_test=x_test/x_test.max()\n",
        "y_test=df2[\"price\"]\n",
        "y_test=y_test/y_test.max()\n",
        "predictedprice = regr.predict(x_test)\n",
        "print(regr.coef_)"
      ],
      "metadata": {
        "colab": {
          "base_uri": "https://localhost:8080/"
        },
        "id": "43-OeAmTUuk5",
        "outputId": "7bfa941f-4052-4fe4-e141-699fc5318293"
      },
      "execution_count": 58,
      "outputs": [
        {
          "output_type": "stream",
          "name": "stdout",
          "text": [
            "[-0.06762993  0.2551833   4.52612394 -0.53714734]\n"
          ]
        }
      ]
    },
    {
      "cell_type": "markdown",
      "source": [
        "Function to print the accuracy"
      ],
      "metadata": {
        "id": "T4iv_xwxho-d"
      }
    },
    {
      "cell_type": "code",
      "source": [
        "def print_accuracy():\n",
        "  if sum(100-((y_test-predictedprice)/y_test)*100)/len(y_test)>=100:\n",
        "    print(\"Accuracy is : 100% \")\n",
        "  else:\n",
        "    print(\"Accuracy is :\", sum(100-((y_test-predictedprice)/y_test)*100)/len(y_test)>100 )\n"
      ],
      "metadata": {
        "id": "Rm4v1aKZgav9"
      },
      "execution_count": 56,
      "outputs": []
    },
    {
      "cell_type": "markdown",
      "source": [
        "call the print accuracy function"
      ],
      "metadata": {
        "id": "hyg10VMAhudA"
      }
    },
    {
      "cell_type": "code",
      "source": [
        "print_accuracy()"
      ],
      "metadata": {
        "colab": {
          "base_uri": "https://localhost:8080/"
        },
        "id": "Sd3yiKV9hAWy",
        "outputId": "30de503a-ef8c-4634-ae67-5e893655fd29"
      },
      "execution_count": 57,
      "outputs": [
        {
          "output_type": "stream",
          "name": "stdout",
          "text": [
            "Accuracy is : 100% \n"
          ]
        }
      ]
    }
  ]
}