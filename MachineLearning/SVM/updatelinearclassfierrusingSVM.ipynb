{
  "nbformat": 4,
  "nbformat_minor": 0,
  "metadata": {
    "colab": {
      "name": "updatelinearclassfierrusingSVM.ipynb",
      "provenance": [],
      "collapsed_sections": []
    },
    "kernelspec": {
      "name": "python3",
      "display_name": "Python 3"
    },
    "language_info": {
      "name": "python"
    }
  },
  "cells": [
    {
      "cell_type": "code",
      "execution_count": 1,
      "metadata": {
        "id": "UEdGh2QAIBvF"
      },
      "outputs": [],
      "source": [
        "import pandas as pd\n",
        "import numpy as np\n",
        "import matplotlib.pyplot as plt\n",
        "from scipy.io import loadmat\n",
        "from sklearn import svm"
      ]
    },
    {
      "cell_type": "code",
      "source": [
        "data1 = loadmat('/content/ex6data1.mat')"
      ],
      "metadata": {
        "id": "yM1er12WIfuT"
      },
      "execution_count": 2,
      "outputs": []
    },
    {
      "cell_type": "code",
      "source": [
        "y = data1['y']\n",
        "x = data1['X']"
      ],
      "metadata": {
        "id": "kUCu8AvqIh2t"
      },
      "execution_count": 11,
      "outputs": []
    },
    {
      "cell_type": "code",
      "source": [
        "svm_clf=svm.SVC(kernel='linear',C=1)"
      ],
      "metadata": {
        "id": "vqZ8qWaoIpEZ"
      },
      "execution_count": 31,
      "outputs": []
    },
    {
      "cell_type": "code",
      "source": [
        "svm_clf.fit(x,y.ravel())"
      ],
      "metadata": {
        "colab": {
          "base_uri": "https://localhost:8080/"
        },
        "id": "w2fbTILMI61d",
        "outputId": "27c9d43f-abeb-4338-8def-fc8653cef968"
      },
      "execution_count": 32,
      "outputs": [
        {
          "output_type": "execute_result",
          "data": {
            "text/plain": [
              "SVC(C=1, kernel='linear')"
            ]
          },
          "metadata": {},
          "execution_count": 32
        }
      ]
    },
    {
      "cell_type": "code",
      "source": [
        "x0=np.linspace(0,5,200)"
      ],
      "metadata": {
        "id": "2ZNahGgONMp8"
      },
      "execution_count": 33,
      "outputs": []
    },
    {
      "cell_type": "code",
      "source": [
        "def plot_Svc_decision_boundary(scm_clf,xmin,xmax):\n",
        "  w=svm_clf.coef_[0]\n",
        "  b=svm_clf.intercept_[0]\n",
        "  ##xmin and x max is the number line boundry\n",
        "  x0=np.linspace(xmin,xmax,200)\n",
        "  ##Decision boundry is : w0*x0+w1*x1+b=0\n",
        "  ##so we get x1\n",
        "  decision_boundry=-w[0]/w[1]*x0-b/w[1]\n",
        "  margin=1/w[1]\n",
        "  upperpart=decision_boundry+margin \n",
        "  lowerpart=decision_boundry-margin \n",
        "  ##now we need to  get the svms that model use to put shadow on them \n",
        "  svs=svm_clf.support_vectors_\n",
        "  ## this svs contains the points which used to get the boundries its coloum 0 is point of x and it's coulom 1 is point of y so we draw red shadow on every point of them\n",
        "  plt.scatter(svs[:,0],svs[:,1],s=180,facecolors='#FFAAAA')\n",
        "  ## here we plot the decision boundry\n",
        "  plt.plot(x0,decision_boundry,\"k-\",linewidth=2)\n",
        "  ##here we plot the upper margin \n",
        "  plt.plot(x0,upperpart,\"k--\",linewidth=2)\n",
        "  ##here we plot the lower margin \n",
        "  plt.plot(x0,lowerpart,\"k--\",linewidth=2)"
      ],
      "metadata": {
        "id": "NWLmkt_bJGvB"
      },
      "execution_count": 34,
      "outputs": []
    },
    {
      "cell_type": "code",
      "source": [
        "plot_Svc_decision_boundary(svm_clf,0,5)\n",
        "pos = (y == 1).ravel()\n",
        "neg = (y == 0).ravel()\n",
        "plt.scatter(x[pos,0], x[pos,1], s=100, c='b', marker='+', linewidths=1)\n",
        "plt.scatter(x[neg,0], x[neg,1], s=100, c='y', marker='o', linewidths=1)"
      ],
      "metadata": {
        "colab": {
          "base_uri": "https://localhost:8080/",
          "height": 282
        },
        "id": "RM4sdt7WNYM8",
        "outputId": "7ddb260a-6677-47db-b3fc-e88d416fd8d2"
      },
      "execution_count": 35,
      "outputs": [
        {
          "output_type": "execute_result",
          "data": {
            "text/plain": [
              "<matplotlib.collections.PathCollection at 0x7fa7a95e35d0>"
            ]
          },
          "metadata": {},
          "execution_count": 35
        },
        {
          "output_type": "display_data",
          "data": {
            "image/png": "[encoded data removed]",
            "text/plain": [
              "<Figure size 432x288 with 1 Axes>"
            ]
          },
          "metadata": {
            "needs_background": "light"
          }
        }
      ]
    },
    {
      "cell_type": "code",
      "source": [
        "print(f\"The model accuracy is {round(svm_clf.score(x, y.ravel())*100,2)}%\")"
      ],
      "metadata": {
        "colab": {
          "base_uri": "https://localhost:8080/"
        },
        "id": "p5nA6UqAQ5pG",
        "outputId": "20baea8f-dcf6-41da-bab0-1ac123924fc0"
      },
      "execution_count": 36,
      "outputs": [
        {
          "output_type": "stream",
          "name": "stdout",
          "text": [
            "The model accuracy is 98.04%\n"
          ]
        }
      ]
    }
  ]
}