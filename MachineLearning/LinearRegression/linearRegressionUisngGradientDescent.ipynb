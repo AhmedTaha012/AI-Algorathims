{
  "nbformat": 4,
  "nbformat_minor": 0,
  "metadata": {
    "colab": {
      "name": "linearRegressionUisngGradientDescent.ipynb",
      "provenance": []
    },
    "kernelspec": {
      "name": "python3",
      "display_name": "Python 3"
    },
    "language_info": {
      "name": "python"
    }
  },
  "cells": [
    {
      "cell_type": "markdown",
      "source": [
        "Import Modules"
      ],
      "metadata": {
        "id": "sUz9Mh1g9vC9"
      }
    },
    {
      "cell_type": "code",
      "execution_count": 16,
      "metadata": {
        "id": "jlofZosU9OwP"
      },
      "outputs": [],
      "source": [
        "import pandas as pd\n",
        "import numpy as np\n",
        "import matplotlib.pyplot as plt\n"
      ]
    },
    {
      "cell_type": "markdown",
      "source": [
        "Function To Read The X and Y in DataSet from Csv"
      ],
      "metadata": {
        "id": "0snYl0BsbQuL"
      }
    },
    {
      "cell_type": "code",
      "source": [
        "def DataRead():\n",
        "  df=pd.read_csv(\"DataSet.csv\")\n",
        "  x=list(df[\"x\"])\n",
        "  y=list(df[\"y\"])\n",
        "  return x,y  "
      ],
      "metadata": {
        "id": "OIM3Wn7z_bFz"
      },
      "execution_count": 17,
      "outputs": []
    },
    {
      "cell_type": "markdown",
      "source": [
        "Call the read function from get x and y in lists"
      ],
      "metadata": {
        "id": "-4QiYqp5_VGm"
      }
    },
    {
      "cell_type": "code",
      "source": [
        "x,y=DataRead()\n"
      ],
      "metadata": {
        "id": "J9JoDxneaKVu"
      },
      "execution_count": 18,
      "outputs": []
    },
    {
      "cell_type": "markdown",
      "source": [
        "You Divid The Data into Two Parts one for Testing and for Training "
      ],
      "metadata": {
        "id": "XVX6KEz6aTHp"
      }
    },
    {
      "cell_type": "markdown",
      "source": [
        "Takes last 20 element for testing"
      ],
      "metadata": {
        "id": "9VCpyyeUbApo"
      }
    },
    {
      "cell_type": "code",
      "source": [
        "x_test=x[-20::1] \n",
        "y_test=y[-20::1]"
      ],
      "metadata": {
        "id": "gkGaoWC0aSF8"
      },
      "execution_count": 30,
      "outputs": []
    },
    {
      "cell_type": "markdown",
      "source": [
        "Takes Remaining Elements for Training "
      ],
      "metadata": {
        "id": "kzn4ZIoMbID8"
      }
    },
    {
      "cell_type": "code",
      "source": [
        "x=x[:-20:1] \n",
        "y=y[:-20:1]"
      ],
      "metadata": {
        "id": "JjuZxr6QbM8O"
      },
      "execution_count": 31,
      "outputs": []
    },
    {
      "cell_type": "markdown",
      "source": [
        "Convert the lists to numpy array"
      ],
      "metadata": {
        "id": "eEB5CD2xbELk"
      }
    },
    {
      "cell_type": "code",
      "source": [
        "x_test=np.array(x_test)\n",
        "y_test=np.array(y_test)\n",
        "x=np.array(x)\n",
        "y=np.array(y)"
      ],
      "metadata": {
        "id": "1g4Eo5j4aNJh"
      },
      "execution_count": 32,
      "outputs": []
    },
    {
      "cell_type": "markdown",
      "source": [
        "Ploting The Data X vs Y"
      ],
      "metadata": {
        "id": "uDtS1_U8UiM3"
      }
    },
    {
      "cell_type": "code",
      "source": [
        "plt.scatter(x,y)\n",
        "plt.gca().set_title(\"Training Data X vs Y\")"
      ],
      "metadata": {
        "colab": {
          "base_uri": "https://localhost:8080/",
          "height": 298
        },
        "id": "042yIB4__a-h",
        "outputId": "1a8019cc-c273-45b4-f241-7d264d0101db"
      },
      "execution_count": 33,
      "outputs": [
        {
          "output_type": "execute_result",
          "data": {
            "text/plain": [
              "Text(0.5, 1.0, 'Training Data X vs Y')"
            ]
          },
          "metadata": {},
          "execution_count": 33
        },
        {
          "output_type": "display_data",
          "data": {
            "image/png": "[encoded data removed]",
            "text/plain": [
              "<Figure size 432x288 with 1 Axes>"
            ]
          },
          "metadata": {
            "needs_background": "light"
          }
        }
      ]
    },
    {
      "cell_type": "markdown",
      "source": [
        "hybotenise function"
      ],
      "metadata": {
        "id": "Kve9yxaDEP98"
      }
    },
    {
      "cell_type": "code",
      "source": [
        "def hypo(th0,th1,x):\n",
        "  return th0+th1*x"
      ],
      "metadata": {
        "id": "w1PguKZ0cB1M"
      },
      "execution_count": 34,
      "outputs": []
    },
    {
      "cell_type": "markdown",
      "source": [
        "Function to Calculate Acuuracy"
      ],
      "metadata": {
        "id": "ejv911Y1cDPD"
      }
    },
    {
      "cell_type": "code",
      "source": [
        "def print_accuracy(theta0,theta1,x_test):\n",
        "  calculate=theta0+theta1*x_test\n",
        "  acc=sum(100-(y_test-calculate))/len(y_test)\n",
        "  if acc>100:\n",
        "     acc=100\n",
        "  elif acc<=0: \n",
        "    acc=0\n",
        "  print(\"Accuracy is:\",acc,\"%\")"
      ],
      "metadata": {
        "id": "ZXS1LQQccH6U"
      },
      "execution_count": 35,
      "outputs": []
    },
    {
      "cell_type": "markdown",
      "source": [
        "### The Inzilizations need to Change the ***`learing rate::`*** and **`epochs`** if you will use the code it's different from dataset to another"
      ],
      "metadata": {
        "id": "Y0YU82z6GBZT"
      }
    },
    {
      "cell_type": "code",
      "source": [
        "sum1=0\n",
        "sum2=0\n",
        "temp0=0\n",
        "temp1=0\n",
        "epochs=1000\n",
        "learningrate=0.000000001\n",
        "theta0=0\n",
        "theta1=5"
      ],
      "metadata": {
        "id": "XLviA6YacvQT"
      },
      "execution_count": 36,
      "outputs": []
    },
    {
      "cell_type": "markdown",
      "source": [
        "Two Looping Function One to doing the epoches and one to get the sumation part in equation ![image.png](data:image/png;base64,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)"
      ],
      "metadata": {
        "id": "hjaxQwK7c6Kz"
      }
    },
    {
      "cell_type": "code",
      "source": [
        "for i in range(epochs):\n",
        "  theta0=temp0\n",
        "  theta1=temp1\n",
        "  # print(sum1,sum2)\n",
        "  for j in range(len(x)):\n",
        "      sum1=sum1+hypo(theta0,theta1,x[j])-y[j]\n",
        "      sum2=sum2+(hypo(theta0,theta1,x[j])-y[j])*x[j]\n",
        "  temp0=theta0-learningrate*1/len(x)*sum1\n",
        "  temp1=theta1-learningrate*1/len(x)*sum2"
      ],
      "metadata": {
        "id": "BYh95k3fGIDc"
      },
      "execution_count": 37,
      "outputs": []
    },
    {
      "cell_type": "markdown",
      "source": [
        "Print the Value of Thetas"
      ],
      "metadata": {
        "id": "Z6VTQ8aKgoxL"
      }
    },
    {
      "cell_type": "code",
      "source": [
        "print(\"The Results is\",\"Theta0=\",theta0,\"Theta1=\",theta1)"
      ],
      "metadata": {
        "colab": {
          "base_uri": "https://localhost:8080/"
        },
        "id": "5Jxz-CMCgSS_",
        "outputId": "1e33f512-9a13-44fb-ff91-c3556870d767"
      },
      "execution_count": 38,
      "outputs": [
        {
          "output_type": "stream",
          "name": "stdout",
          "text": [
            "The Results is Theta0= 0.02892306724725254 Theta1= 1.4584468011190812\n"
          ]
        }
      ]
    },
    {
      "cell_type": "markdown",
      "source": [
        "Print The accuarcy"
      ],
      "metadata": {
        "id": "ouYVM_dpgrd2"
      }
    },
    {
      "cell_type": "code",
      "source": [
        "print_accuracy(theta0,theta1,x_test)"
      ],
      "metadata": {
        "colab": {
          "base_uri": "https://localhost:8080/"
        },
        "id": "iuRIoCsygvJT",
        "outputId": "19ae91e7-fc43-4ba0-a737-347ce95d1bde"
      },
      "execution_count": 39,
      "outputs": [
        {
          "output_type": "stream",
          "name": "stdout",
          "text": [
            "Accuracy is: 99.75987486330762 %\n"
          ]
        }
      ]
    },
    {
      "cell_type": "markdown",
      "source": [
        "Ploting the Result  "
      ],
      "metadata": {
        "id": "R5KO3_KZgzA1"
      }
    },
    {
      "cell_type": "code",
      "source": [
        "ypre=theta0+theta1*x\n",
        "plt.scatter(x, y) \n",
        "plt.plot(x,ypre,color='red')\n",
        "plt.show()"
      ],
      "metadata": {
        "colab": {
          "base_uri": "https://localhost:8080/",
          "height": 265
        },
        "id": "phW7pbF5gyX4",
        "outputId": "1293b09d-da3c-4c43-e737-4747c55ab373"
      },
      "execution_count": 40,
      "outputs": [
        {
          "output_type": "display_data",
          "data": {
            "image/png": "[encoded data removed]",
            "text/plain": [
              "<Figure size 432x288 with 1 Axes>"
            ]
          },
          "metadata": {
            "needs_background": "light"
          }
        }
      ]
    }
  ]
}