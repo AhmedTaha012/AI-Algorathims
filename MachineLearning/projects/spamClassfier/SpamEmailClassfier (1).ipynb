{
  "nbformat": 4,
  "nbformat_minor": 0,
  "metadata": {
    "colab": {
      "name": "SpamEmailClassfier.ipynb",
      "provenance": [],
      "collapsed_sections": []
    },
    "kernelspec": {
      "name": "python3",
      "display_name": "Python 3"
    },
    "language_info": {
      "name": "python"
    }
  },
  "cells": [
    {
      "cell_type": "markdown",
      "source": [
        "##Support Vector Machine "
      ],
      "metadata": {
        "id": "BIvFc-W59oL0"
      }
    },
    {
      "cell_type": "markdown",
      "source": [
        "# ***Modules***"
      ],
      "metadata": {
        "id": "wjEEuSSp9vtp"
      }
    },
    {
      "cell_type": "code",
      "execution_count": 1,
      "metadata": {
        "id": "aG_DT00d9btW"
      },
      "outputs": [],
      "source": [
        "import pandas as pd\n",
        "import numpy as np\n",
        "import matplotlib as mpl\n",
        "import matplotlib.pyplot as plt\n",
        "import seaborn as sns\n",
        "sns.set_context('notebook')\n",
        "sns.set_style('white')\n",
        "from scipy.io import loadmat\n",
        "from sklearn import svm\n"
      ]
    },
    {
      "cell_type": "markdown",
      "source": [
        "# Read The Data"
      ],
      "metadata": {
        "id": "untFRobN90AG"
      }
    },
    {
      "cell_type": "code",
      "source": [
        "data1 = loadmat('/content/spamTrain.mat')"
      ],
      "metadata": {
        "id": "Qwn2GqJZ9nhJ"
      },
      "execution_count": 2,
      "outputs": []
    },
    {
      "cell_type": "markdown",
      "source": [
        "# Read the data as x and y\n"
      ],
      "metadata": {
        "id": "YLBCOjDn-A9p"
      }
    },
    {
      "cell_type": "code",
      "source": [
        "y1 = data1['y']\n",
        "X1 = data1['X']\n",
        "print(X1.shape)"
      ],
      "metadata": {
        "id": "SDPZXiUH-vDm",
        "colab": {
          "base_uri": "https://localhost:8080/"
        },
        "outputId": "76f2a1f2-6c1f-4268-c90d-6eeed7c67a49"
      },
      "execution_count": 46,
      "outputs": [
        {
          "output_type": "stream",
          "name": "stdout",
          "text": [
            "(4000, 1899)\n"
          ]
        }
      ]
    },
    {
      "cell_type": "markdown",
      "source": [
        "# Print the x data"
      ],
      "metadata": {
        "id": "1lsPQ37i-1IC"
      }
    },
    {
      "cell_type": "code",
      "source": [
        "print(X1)"
      ],
      "metadata": {
        "id": "_9obH4U1-3yi"
      },
      "execution_count": null,
      "outputs": []
    },
    {
      "cell_type": "markdown",
      "source": [
        "# Print Y Data"
      ],
      "metadata": {
        "id": "cR27air__Al7"
      }
    },
    {
      "cell_type": "code",
      "source": [
        "print(y1)"
      ],
      "metadata": {
        "id": "Jh7Z9gOW_CNM",
        "colab": {
          "base_uri": "https://localhost:8080/"
        },
        "outputId": "6ad368f2-71ba-428f-e0b4-53f9918e4da4"
      },
      "execution_count": 5,
      "outputs": [
        {
          "output_type": "stream",
          "name": "stdout",
          "text": [
            "[[1]\n",
            " [1]\n",
            " [0]\n",
            " ...\n",
            " [1]\n",
            " [0]\n",
            " [0]]\n"
          ]
        }
      ]
    },
    {
      "cell_type": "markdown",
      "source": [
        "# Make instance then fit the model to the data"
      ],
      "metadata": {
        "id": "KdaiB9NAfWSg"
      }
    },
    {
      "cell_type": "code",
      "source": [
        "svc = svm.SVC()\n",
        "svc.fit(X1, y1)\n"
      ],
      "metadata": {
        "colab": {
          "base_uri": "https://localhost:8080/"
        },
        "id": "Imlbc1gpNzjR",
        "outputId": "331bf28d-ca41-4a5e-e97f-18c183cf0076"
      },
      "execution_count": 58,
      "outputs": [
        {
          "output_type": "stream",
          "name": "stderr",
          "text": [
            "/usr/local/lib/python3.7/dist-packages/sklearn/utils/validation.py:993: DataConversionWarning: A column-vector y was passed when a 1d array was expected. Please change the shape of y to (n_samples, ), for example using ravel().\n",
            "  y = column_or_1d(y, warn=True)\n"
          ]
        },
        {
          "output_type": "execute_result",
          "data": {
            "text/plain": [
              "SVC()"
            ]
          },
          "metadata": {},
          "execution_count": 58
        }
      ]
    },
    {
      "cell_type": "markdown",
      "source": [
        "# Print the trainng accuracy"
      ],
      "metadata": {
        "id": "tMpwGDdJfa88"
      }
    },
    {
      "cell_type": "code",
      "source": [
        "print(f\"The Train model accuracy is {round(svc.score(X1, y1)*100,2)}%\")"
      ],
      "metadata": {
        "colab": {
          "base_uri": "https://localhost:8080/"
        },
        "id": "hxb4M_sPT88S",
        "outputId": "b7e2635f-5ff5-4822-9f39-3b01e1ffa6ad"
      },
      "execution_count": 59,
      "outputs": [
        {
          "output_type": "stream",
          "name": "stdout",
          "text": [
            "The Train model accuracy is 99.32%\n"
          ]
        }
      ]
    },
    {
      "cell_type": "markdown",
      "source": [
        "# Load the test data "
      ],
      "metadata": {
        "id": "Cf3W5xfnfeE0"
      }
    },
    {
      "cell_type": "code",
      "source": [
        "data2 = loadmat('/content/spamTest.mat')"
      ],
      "metadata": {
        "id": "N3mlsnfZalsZ"
      },
      "execution_count": 60,
      "outputs": []
    },
    {
      "cell_type": "markdown",
      "source": [
        "# Get the x test and y test"
      ],
      "metadata": {
        "id": "L1rbvQfZfhq4"
      }
    },
    {
      "cell_type": "code",
      "source": [
        "y_test = data2['ytest']\n",
        "X_test = data2['Xtest']"
      ],
      "metadata": {
        "id": "6NLO6XdKaqph"
      },
      "execution_count": 61,
      "outputs": []
    },
    {
      "cell_type": "markdown",
      "source": [
        "# Print the accuracy of the model on the test data"
      ],
      "metadata": {
        "id": "yjTxcm_Kfkxm"
      }
    },
    {
      "cell_type": "code",
      "source": [
        "print(f\"The Test model accuracy is {round(svc.score(X_test, y_test)*100,2)}%\")"
      ],
      "metadata": {
        "colab": {
          "base_uri": "https://localhost:8080/"
        },
        "id": "nQ7c8Jcfaj2c",
        "outputId": "34beddc4-e7d7-417d-bd25-a5cd14cd0a22"
      },
      "execution_count": 62,
      "outputs": [
        {
          "output_type": "stream",
          "name": "stdout",
          "text": [
            "The Test model accuracy is 98.7%\n"
          ]
        }
      ]
    },
    {
      "cell_type": "markdown",
      "source": [
        "# Try to see any example and perdict it "
      ],
      "metadata": {
        "id": "1iJQN5vvfv8j"
      }
    },
    {
      "cell_type": "code",
      "source": [
        "email1=np.array(X1[1500])\n",
        "email1=np.expand_dims(email1,-1)\n",
        "svc.predict(email1.T)"
      ],
      "metadata": {
        "colab": {
          "base_uri": "https://localhost:8080/"
        },
        "id": "V6ARQfQebmxp",
        "outputId": "4fc6dc25-82b2-454c-db7a-9352be43c4e3"
      },
      "execution_count": 63,
      "outputs": [
        {
          "output_type": "execute_result",
          "data": {
            "text/plain": [
              "array([0], dtype=uint8)"
            ]
          },
          "metadata": {},
          "execution_count": 63
        }
      ]
    }
  ]
}