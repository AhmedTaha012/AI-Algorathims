{
 "cells": [
  {
   "cell_type": "code",
   "execution_count": 1,
   "id": "c5df8ecc",
   "metadata": {
    "ExecuteTime": {
     "end_time": "2022-04-30T22:52:06.963015Z",
     "start_time": "2022-04-30T22:51:10.208375Z"
    }
   },
   "outputs": [],
   "source": [
    "import numpy as np\n",
    "import tensorflow as tf\n"
   ]
  },
  {
   "cell_type": "code",
   "execution_count": 2,
   "id": "3c2abb59",
   "metadata": {
    "ExecuteTime": {
     "end_time": "2022-04-30T22:52:07.151351Z",
     "start_time": "2022-04-30T22:52:07.101135Z"
    }
   },
   "outputs": [],
   "source": [
    "with open(\"anna.txt\",'r') as f:\n",
    "    line=f.read()"
   ]
  },
  {
   "cell_type": "code",
   "execution_count": 15,
   "id": "d049ba32",
   "metadata": {
    "ExecuteTime": {
     "end_time": "2022-04-30T22:54:40.299557Z",
     "start_time": "2022-04-30T22:54:40.264293Z"
    }
   },
   "outputs": [
    {
     "data": {
      "text/plain": [
       "83"
      ]
     },
     "execution_count": 15,
     "metadata": {},
     "output_type": "execute_result"
    }
   ],
   "source": [
    "## This is the all charasters in the txt file \n",
    "charsinfile=set(line)\n",
    "len(charsinfile)"
   ]
  },
  {
   "cell_type": "code",
   "execution_count": 25,
   "id": "a1d13e46",
   "metadata": {
    "ExecuteTime": {
     "end_time": "2022-04-30T22:59:06.852126Z",
     "start_time": "2022-04-30T22:59:06.836169Z"
    },
    "scrolled": true
   },
   "outputs": [
    {
     "data": {
      "text/plain": [
       "{'C': 0,\n",
       " 'R': 1,\n",
       " '7': 2,\n",
       " 'q': 3,\n",
       " '1': 4,\n",
       " '.': 5,\n",
       " 'x': 6,\n",
       " 'T': 7,\n",
       " 'F': 8,\n",
       " 'z': 9,\n",
       " 'Z': 10,\n",
       " 'U': 11,\n",
       " '?': 12,\n",
       " '2': 13,\n",
       " 'L': 14,\n",
       " 'I': 15,\n",
       " 'r': 16,\n",
       " 'v': 17,\n",
       " 'V': 18,\n",
       " '8': 19,\n",
       " 'K': 20,\n",
       " '_': 21,\n",
       " ' ': 22,\n",
       " 'u': 23,\n",
       " 'a': 24,\n",
       " 'Q': 25,\n",
       " 'o': 26,\n",
       " 'd': 27,\n",
       " '3': 28,\n",
       " '-': 29,\n",
       " 'h': 30,\n",
       " '\\n': 31,\n",
       " 'A': 32,\n",
       " '%': 33,\n",
       " 'j': 34,\n",
       " '$': 35,\n",
       " 'f': 36,\n",
       " '6': 37,\n",
       " 'P': 38,\n",
       " '@': 39,\n",
       " 'm': 40,\n",
       " 'Y': 41,\n",
       " \"'\": 42,\n",
       " 'b': 43,\n",
       " '\"': 44,\n",
       " '5': 45,\n",
       " 'n': 46,\n",
       " '(': 47,\n",
       " '`': 48,\n",
       " 'p': 49,\n",
       " 'y': 50,\n",
       " 'g': 51,\n",
       " 'G': 52,\n",
       " 'w': 53,\n",
       " 'S': 54,\n",
       " '&': 55,\n",
       " 'c': 56,\n",
       " 'l': 57,\n",
       " 'i': 58,\n",
       " 's': 59,\n",
       " 'M': 60,\n",
       " ':': 61,\n",
       " ';': 62,\n",
       " 'e': 63,\n",
       " '!': 64,\n",
       " '0': 65,\n",
       " 'O': 66,\n",
       " ')': 67,\n",
       " 'N': 68,\n",
       " 'B': 69,\n",
       " ',': 70,\n",
       " 'J': 71,\n",
       " '9': 72,\n",
       " '4': 73,\n",
       " 'k': 74,\n",
       " 'X': 75,\n",
       " '/': 76,\n",
       " 't': 77,\n",
       " 'E': 78,\n",
       " '*': 79,\n",
       " 'W': 80,\n",
       " 'H': 81,\n",
       " 'D': 82}"
      ]
     },
     "execution_count": 25,
     "metadata": {},
     "output_type": "execute_result"
    }
   ],
   "source": [
    "dict_char={c:i for i,c in enumerate(charsinfile)}\n",
    "dict_char"
   ]
  },
  {
   "cell_type": "code",
   "execution_count": 181,
   "id": "64989a88",
   "metadata": {
    "ExecuteTime": {
     "end_time": "2022-05-01T01:22:11.245115Z",
     "start_time": "2022-05-01T01:22:10.228507Z"
    }
   },
   "outputs": [],
   "source": [
    "## Concevert all chars in text to numbers\n",
    "encoded=np.array([dict_char[c] for c in line],dtype=np.int32)"
   ]
  },
  {
   "cell_type": "code",
   "execution_count": 182,
   "id": "f45a87e3",
   "metadata": {
    "ExecuteTime": {
     "end_time": "2022-05-01T01:22:12.213057Z",
     "start_time": "2022-05-01T01:22:12.191115Z"
    }
   },
   "outputs": [
    {
     "data": {
      "text/plain": [
       "'Chapter 1\\n\\n\\nHappy families are all alike; every unhappy family is unhappy in its own\\nway.\\n\\nEverythin'"
      ]
     },
     "execution_count": 182,
     "metadata": {},
     "output_type": "execute_result"
    }
   ],
   "source": [
    "## print the first 100 in text\n",
    "line[:100]"
   ]
  },
  {
   "cell_type": "code",
   "execution_count": 183,
   "id": "edfc539d",
   "metadata": {
    "ExecuteTime": {
     "end_time": "2022-05-01T01:22:13.139784Z",
     "start_time": "2022-05-01T01:22:13.113804Z"
    },
    "scrolled": false
   },
   "outputs": [
    {
     "data": {
      "text/plain": [
       "array([ 0, 30, 24, 49, 77, 63, 16, 22,  4, 31, 31, 31, 81, 24, 49, 49, 50,\n",
       "       22, 36, 24, 40, 58, 57, 58, 63, 59, 22, 24, 16, 63, 22, 24, 57, 57,\n",
       "       22, 24, 57, 58, 74, 63, 62, 22, 63, 17, 63, 16, 50, 22, 23, 46, 30,\n",
       "       24, 49, 49, 50, 22, 36, 24, 40, 58, 57, 50, 22, 58, 59, 22, 23, 46,\n",
       "       30, 24, 49, 49, 50, 22, 58, 46, 22, 58, 77, 59, 22, 26, 53, 46, 31,\n",
       "       53, 24, 50,  5, 31, 31, 78, 17, 63, 16, 50, 77, 30, 58, 46])"
      ]
     },
     "execution_count": 183,
     "metadata": {},
     "output_type": "execute_result"
    }
   ],
   "source": [
    "encoded[:100]"
   ]
  },
  {
   "cell_type": "code",
   "execution_count": null,
   "id": "811f8976",
   "metadata": {},
   "outputs": [],
   "source": [
    "def get_batches(arr, batch_size, n_steps):\n",
    "    '''Create a generator that returns batches of size\n",
    "       batch_size x n_steps from arr.\n",
    "       \n",
    "       Arguments\n",
    "       ---------\n",
    "       arr: Array you want to make batches from\n",
    "       batch_size: Batch size, the number of sequences per batch\n",
    "       n_steps: Number of sequence steps per batch\n",
    "    '''\n",
    "    # Get the number of characters per batch and number of batches we can make\n",
    "    chars_per_batch = batch_size * n_steps\n",
    "    n_batches = len(arr)//chars_per_batch\n",
    "    \n",
    "    # Keep only enough characters to make full batches\n",
    "    arr = arr[:n_batches * chars_per_batch]\n",
    "    \n",
    "    # Reshape into batch_size rows\n",
    "    arr = arr.reshape((batch_size, -1))\n",
    "    \n",
    "    for n in range(0, arr.shape[1], n_steps):\n",
    "        # The features\n",
    "        x = arr[:, n:n+n_steps]\n",
    "        # The targets, shifted by one\n",
    "        y_temp = arr[:, n+1:n+n_steps+1]\n",
    "        \n",
    "        # For the very last batch, y will be one character short at the end of \n",
    "        # the sequences which breaks things. To get around this, I'll make an \n",
    "        # array of the appropriate size first, of all zeros, then add the targets.\n",
    "        # This will introduce a small artifact in the last batch, but it won't matter.\n",
    "        y = np.zeros(x.shape, dtype=x.dtype)\n",
    "        y[:,:y_temp.shape[1]] = y_temp\n",
    "        \n",
    "        yield x, y"
   ]
  },
  {
   "cell_type": "code",
   "execution_count": 293,
   "id": "1b835ab6",
   "metadata": {
    "ExecuteTime": {
     "end_time": "2022-05-01T02:09:36.267165Z",
     "start_time": "2022-05-01T02:09:36.249214Z"
    },
    "scrolled": false
   },
   "outputs": [],
   "source": [
    "batches = get_batches(encoded, 100, 100)\n",
    "x, y = next(batches)"
   ]
  },
  {
   "cell_type": "code",
   "execution_count": 297,
   "id": "fa71505a",
   "metadata": {
    "ExecuteTime": {
     "end_time": "2022-05-01T02:09:52.702268Z",
     "start_time": "2022-05-01T02:09:52.691256Z"
    }
   },
   "outputs": [
    {
     "data": {
      "text/plain": [
       "81"
      ]
     },
     "execution_count": 297,
     "metadata": {},
     "output_type": "execute_result"
    }
   ],
   "source": [
    "np.max(x[2])"
   ]
  },
  {
   "cell_type": "code",
   "execution_count": 296,
   "id": "29903246",
   "metadata": {
    "ExecuteTime": {
     "end_time": "2022-05-01T02:09:47.884974Z",
     "start_time": "2022-05-01T02:09:47.880943Z"
    }
   },
   "outputs": [
    {
     "data": {
      "text/plain": [
       "81"
      ]
     },
     "execution_count": 296,
     "metadata": {},
     "output_type": "execute_result"
    }
   ],
   "source": [
    "np.max(y[2])"
   ]
  },
  {
   "cell_type": "code",
   "execution_count": 335,
   "id": "984640a0",
   "metadata": {
    "ExecuteTime": {
     "end_time": "2022-05-01T02:20:20.343845Z",
     "start_time": "2022-05-01T02:20:20.326891Z"
    }
   },
   "outputs": [
    {
     "data": {
      "text/plain": [
       "array([[30, 24, 49, ..., 58, 46, 51],\n",
       "       [46, 27, 22, ..., 77, 77, 57],\n",
       "       [58, 77, 56, ..., 17, 63, 22],\n",
       "       ...,\n",
       "       [63, 63, 46, ..., 77, 42, 59],\n",
       "       [57, 53, 24, ..., 15, 17, 24],\n",
       "       [22, 30, 26, ..., 22, 15, 22]])"
      ]
     },
     "execution_count": 335,
     "metadata": {},
     "output_type": "execute_result"
    }
   ],
   "source": [
    "y"
   ]
  },
  {
   "cell_type": "code",
   "execution_count": 202,
   "id": "ff1dbe06",
   "metadata": {
    "ExecuteTime": {
     "end_time": "2022-05-01T01:26:39.797407Z",
     "start_time": "2022-05-01T01:26:38.705491Z"
    }
   },
   "outputs": [],
   "source": [
    "from sklearn.preprocessing import OneHotEncoder\n",
    "ohe = OneHotEncoder()\n",
    "encodedn_transformed = ohe.fit_transform(encoded.reshape(-1,1))\n",
    "encodedn_transformed=encodedn_transformed.toarray()"
   ]
  },
  {
   "cell_type": "code",
   "execution_count": 336,
   "id": "b277656b",
   "metadata": {
    "ExecuteTime": {
     "end_time": "2022-05-01T02:21:49.745399Z",
     "start_time": "2022-05-01T02:21:49.731394Z"
    }
   },
   "outputs": [
    {
     "data": {
      "text/plain": [
       "(100, 26)"
      ]
     },
     "execution_count": 336,
     "metadata": {},
     "output_type": "execute_result"
    }
   ],
   "source": [
    "X_train=[]\n",
    "y_train=[]\n",
    "encodedn_transformed = ohe.fit_transform(x.reshape(-1,1))\n",
    "X_train.append(encodedn_transformed.toarray())\n",
    "ohe = OneHotEncoder()\n",
    "# for i in range(len(x)):\n",
    "#     encodedn_transformed = ohe.fit_transform(x[i].reshape(-1,1))\n",
    "#     X_train.append(encodedn_transformed.toarray().reshape(x[i].shape[0],x[i].shape[1]))\n",
    "#     encodedn_transformed = ohe.fit_transform(y[i].reshape(-1,1))\n",
    "#     y_train.append(encodedn_transformed.toarray\n",
    "\n",
    "encodedn_transformed = ohe.fit_transform(x[0].reshape(-1,1))\n",
    "encodedn_transformed.toarray()\n",
    "encodedn_y_transformed = ohe.fit_transform(y[0].reshape(-1,1))\n",
    "encodedn_y_transformed.toarray()"
   ]
  },
  {
   "cell_type": "code",
   "execution_count": 341,
   "id": "51a41d25",
   "metadata": {
    "ExecuteTime": {
     "end_time": "2022-05-01T02:23:33.583522Z",
     "start_time": "2022-05-01T02:23:33.538641Z"
    }
   },
   "outputs": [
    {
     "ename": "TypeError",
     "evalue": "_expand_dims_dispatcher() got multiple values for argument 'axis'",
     "output_type": "error",
     "traceback": [
      "\u001b[1;31m---------------------------------------------------------------------------\u001b[0m",
      "\u001b[1;31mTypeError\u001b[0m                                 Traceback (most recent call last)",
      "\u001b[1;32m~\\AppData\\Local\\Temp/ipykernel_13996/1189297267.py\u001b[0m in \u001b[0;36m<module>\u001b[1;34m\u001b[0m\n\u001b[1;32m----> 1\u001b[1;33m \u001b[0mnp\u001b[0m\u001b[1;33m.\u001b[0m\u001b[0mexpand_dims\u001b[0m\u001b[1;33m(\u001b[0m\u001b[0mencodedn_transformed\u001b[0m\u001b[1;33m,\u001b[0m\u001b[1;36m1\u001b[0m\u001b[1;33m,\u001b[0m\u001b[0maxis\u001b[0m\u001b[1;33m=\u001b[0m\u001b[1;33m-\u001b[0m\u001b[1;36m1\u001b[0m\u001b[1;33m)\u001b[0m\u001b[1;33m\u001b[0m\u001b[1;33m\u001b[0m\u001b[0m\n\u001b[0m\u001b[0;32m      2\u001b[0m \u001b[0mencodedn_transformed\u001b[0m\u001b[1;33m.\u001b[0m\u001b[0mshape\u001b[0m\u001b[1;33m\u001b[0m\u001b[1;33m\u001b[0m\u001b[0m\n",
      "\u001b[1;32m<__array_function__ internals>\u001b[0m in \u001b[0;36mexpand_dims\u001b[1;34m(*args, **kwargs)\u001b[0m\n",
      "\u001b[1;31mTypeError\u001b[0m: _expand_dims_dispatcher() got multiple values for argument 'axis'"
     ]
    }
   ],
   "source": [
    "np.expand_dims(encodedn_transformed,1,axis=-1)\n",
    "encodedn_transformed.shape"
   ]
  },
  {
   "cell_type": "code",
   "execution_count": 315,
   "id": "65a1cec8",
   "metadata": {
    "ExecuteTime": {
     "end_time": "2022-05-01T02:14:08.858648Z",
     "start_time": "2022-05-01T02:14:08.839655Z"
    }
   },
   "outputs": [],
   "source": [
    "from keras.models import Sequential\n",
    "from keras.layers import Dense\n",
    "from keras.layers import LSTM\n",
    "from keras.layers import Dropout"
   ]
  },
  {
   "cell_type": "code",
   "execution_count": 337,
   "id": "bbf9853e",
   "metadata": {
    "ExecuteTime": {
     "end_time": "2022-05-01T02:22:03.370753Z",
     "start_time": "2022-05-01T02:22:03.090971Z"
    }
   },
   "outputs": [
    {
     "name": "stdout",
     "output_type": "stream",
     "text": [
      "Epoch 1/10\n"
     ]
    },
    {
     "ename": "ValueError",
     "evalue": "in user code:\n\n    File \"C:\\Users\\DELL\\anaconda3\\lib\\site-packages\\keras\\engine\\training.py\", line 1021, in train_function  *\n        return step_function(self, iterator)\n    File \"C:\\Users\\DELL\\anaconda3\\lib\\site-packages\\keras\\engine\\training.py\", line 1010, in step_function  **\n        outputs = model.distribute_strategy.run(run_step, args=(data,))\n    File \"C:\\Users\\DELL\\anaconda3\\lib\\site-packages\\keras\\engine\\training.py\", line 1000, in run_step  **\n        outputs = model.train_step(data)\n    File \"C:\\Users\\DELL\\anaconda3\\lib\\site-packages\\keras\\engine\\training.py\", line 859, in train_step\n        y_pred = self(x, training=True)\n    File \"C:\\Users\\DELL\\anaconda3\\lib\\site-packages\\keras\\utils\\traceback_utils.py\", line 67, in error_handler\n        raise e.with_traceback(filtered_tb) from None\n    File \"C:\\Users\\DELL\\anaconda3\\lib\\site-packages\\keras\\engine\\input_spec.py\", line 264, in assert_input_compatibility\n        raise ValueError(f'Input {input_index} of layer \"{layer_name}\" is '\n\n    ValueError: Input 0 of layer \"sequential_58\" is incompatible with the layer: expected shape=(None, 100, 26), found shape=(None, 62)\n",
     "output_type": "error",
     "traceback": [
      "\u001b[1;31m---------------------------------------------------------------------------\u001b[0m",
      "\u001b[1;31mValueError\u001b[0m                                Traceback (most recent call last)",
      "\u001b[1;32m~\\AppData\\Local\\Temp/ipykernel_13996/3639760090.py\u001b[0m in \u001b[0;36m<module>\u001b[1;34m\u001b[0m\n\u001b[0;32m     17\u001b[0m \u001b[1;33m\u001b[0m\u001b[0m\n\u001b[0;32m     18\u001b[0m \u001b[1;31m# Fitting the RNN to the Training set\u001b[0m\u001b[1;33m\u001b[0m\u001b[1;33m\u001b[0m\u001b[0m\n\u001b[1;32m---> 19\u001b[1;33m \u001b[0mregressor\u001b[0m\u001b[1;33m.\u001b[0m\u001b[0mfit\u001b[0m\u001b[1;33m(\u001b[0m\u001b[0mX_train\u001b[0m\u001b[1;33m,\u001b[0m \u001b[0my_train\u001b[0m\u001b[1;33m,\u001b[0m \u001b[0mepochs\u001b[0m \u001b[1;33m=\u001b[0m \u001b[1;36m10\u001b[0m\u001b[1;33m)\u001b[0m\u001b[1;33m\u001b[0m\u001b[1;33m\u001b[0m\u001b[0m\n\u001b[0m",
      "\u001b[1;32m~\\anaconda3\\lib\\site-packages\\keras\\utils\\traceback_utils.py\u001b[0m in \u001b[0;36merror_handler\u001b[1;34m(*args, **kwargs)\u001b[0m\n\u001b[0;32m     65\u001b[0m     \u001b[1;32mexcept\u001b[0m \u001b[0mException\u001b[0m \u001b[1;32mas\u001b[0m \u001b[0me\u001b[0m\u001b[1;33m:\u001b[0m  \u001b[1;31m# pylint: disable=broad-except\u001b[0m\u001b[1;33m\u001b[0m\u001b[1;33m\u001b[0m\u001b[0m\n\u001b[0;32m     66\u001b[0m       \u001b[0mfiltered_tb\u001b[0m \u001b[1;33m=\u001b[0m \u001b[0m_process_traceback_frames\u001b[0m\u001b[1;33m(\u001b[0m\u001b[0me\u001b[0m\u001b[1;33m.\u001b[0m\u001b[0m__traceback__\u001b[0m\u001b[1;33m)\u001b[0m\u001b[1;33m\u001b[0m\u001b[1;33m\u001b[0m\u001b[0m\n\u001b[1;32m---> 67\u001b[1;33m       \u001b[1;32mraise\u001b[0m \u001b[0me\u001b[0m\u001b[1;33m.\u001b[0m\u001b[0mwith_traceback\u001b[0m\u001b[1;33m(\u001b[0m\u001b[0mfiltered_tb\u001b[0m\u001b[1;33m)\u001b[0m \u001b[1;32mfrom\u001b[0m \u001b[1;32mNone\u001b[0m\u001b[1;33m\u001b[0m\u001b[1;33m\u001b[0m\u001b[0m\n\u001b[0m\u001b[0;32m     68\u001b[0m     \u001b[1;32mfinally\u001b[0m\u001b[1;33m:\u001b[0m\u001b[1;33m\u001b[0m\u001b[1;33m\u001b[0m\u001b[0m\n\u001b[0;32m     69\u001b[0m       \u001b[1;32mdel\u001b[0m \u001b[0mfiltered_tb\u001b[0m\u001b[1;33m\u001b[0m\u001b[1;33m\u001b[0m\u001b[0m\n",
      "\u001b[1;32m~\\anaconda3\\lib\\site-packages\\tensorflow\\python\\framework\\func_graph.py\u001b[0m in \u001b[0;36mautograph_handler\u001b[1;34m(*args, **kwargs)\u001b[0m\n\u001b[0;32m   1145\u001b[0m           \u001b[1;32mexcept\u001b[0m \u001b[0mException\u001b[0m \u001b[1;32mas\u001b[0m \u001b[0me\u001b[0m\u001b[1;33m:\u001b[0m  \u001b[1;31m# pylint:disable=broad-except\u001b[0m\u001b[1;33m\u001b[0m\u001b[1;33m\u001b[0m\u001b[0m\n\u001b[0;32m   1146\u001b[0m             \u001b[1;32mif\u001b[0m \u001b[0mhasattr\u001b[0m\u001b[1;33m(\u001b[0m\u001b[0me\u001b[0m\u001b[1;33m,\u001b[0m \u001b[1;34m\"ag_error_metadata\"\u001b[0m\u001b[1;33m)\u001b[0m\u001b[1;33m:\u001b[0m\u001b[1;33m\u001b[0m\u001b[1;33m\u001b[0m\u001b[0m\n\u001b[1;32m-> 1147\u001b[1;33m               \u001b[1;32mraise\u001b[0m \u001b[0me\u001b[0m\u001b[1;33m.\u001b[0m\u001b[0mag_error_metadata\u001b[0m\u001b[1;33m.\u001b[0m\u001b[0mto_exception\u001b[0m\u001b[1;33m(\u001b[0m\u001b[0me\u001b[0m\u001b[1;33m)\u001b[0m\u001b[1;33m\u001b[0m\u001b[1;33m\u001b[0m\u001b[0m\n\u001b[0m\u001b[0;32m   1148\u001b[0m             \u001b[1;32melse\u001b[0m\u001b[1;33m:\u001b[0m\u001b[1;33m\u001b[0m\u001b[1;33m\u001b[0m\u001b[0m\n\u001b[0;32m   1149\u001b[0m               \u001b[1;32mraise\u001b[0m\u001b[1;33m\u001b[0m\u001b[1;33m\u001b[0m\u001b[0m\n",
      "\u001b[1;31mValueError\u001b[0m: in user code:\n\n    File \"C:\\Users\\DELL\\anaconda3\\lib\\site-packages\\keras\\engine\\training.py\", line 1021, in train_function  *\n        return step_function(self, iterator)\n    File \"C:\\Users\\DELL\\anaconda3\\lib\\site-packages\\keras\\engine\\training.py\", line 1010, in step_function  **\n        outputs = model.distribute_strategy.run(run_step, args=(data,))\n    File \"C:\\Users\\DELL\\anaconda3\\lib\\site-packages\\keras\\engine\\training.py\", line 1000, in run_step  **\n        outputs = model.train_step(data)\n    File \"C:\\Users\\DELL\\anaconda3\\lib\\site-packages\\keras\\engine\\training.py\", line 859, in train_step\n        y_pred = self(x, training=True)\n    File \"C:\\Users\\DELL\\anaconda3\\lib\\site-packages\\keras\\utils\\traceback_utils.py\", line 67, in error_handler\n        raise e.with_traceback(filtered_tb) from None\n    File \"C:\\Users\\DELL\\anaconda3\\lib\\site-packages\\keras\\engine\\input_spec.py\", line 264, in assert_input_compatibility\n        raise ValueError(f'Input {input_index} of layer \"{layer_name}\" is '\n\n    ValueError: Input 0 of layer \"sequential_58\" is incompatible with the layer: expected shape=(None, 100, 26), found shape=(None, 62)\n"
     ]
    }
   ],
   "source": [
    "regressor = Sequential()\n",
    "\n",
    "# Adding the first LSTM layer and some Dropout regularisation\n",
    "regressor.add(LSTM(units = 26,input_shape = (encodedn_transformed.shape[0],encodedn_transformed.shape[1])))\n",
    "regressor.add(Dropout(0.5))\n",
    "\n",
    "regressor.add(Dense(units = 26,activation=\"softmax\"))\n",
    "\n",
    "# regressor.add(LSTM(units = 50))\n",
    "# regressor.add(Dropout(0.2))\n",
    "\n",
    "# # Adding the output layer\n",
    "# regressor.add(Dense(units = 50,activation=\"softmax\"))\n",
    "\n",
    "# Compiling the RNN\n",
    "regressor.compile(optimizer = 'adam', loss = 'categorical_crossentropy')\n",
    "\n",
    "# Fitting the RNN to the Training set\n",
    "regressor.fit(X_train, y_train, epochs = 10)"
   ]
  },
  {
   "cell_type": "code",
   "execution_count": null,
   "id": "95368db6",
   "metadata": {},
   "outputs": [],
   "source": []
  }
 ],
 "metadata": {
  "kernelspec": {
   "display_name": "Python 3 (ipykernel)",
   "language": "python",
   "name": "python3"
  },
  "language_info": {
   "codemirror_mode": {
    "name": "ipython",
    "version": 3
   },
   "file_extension": ".py",
   "mimetype": "text/x-python",
   "name": "python",
   "nbconvert_exporter": "python",
   "pygments_lexer": "ipython3",
   "version": "3.9.7"
  }
 },
 "nbformat": 4,
 "nbformat_minor": 5
}
