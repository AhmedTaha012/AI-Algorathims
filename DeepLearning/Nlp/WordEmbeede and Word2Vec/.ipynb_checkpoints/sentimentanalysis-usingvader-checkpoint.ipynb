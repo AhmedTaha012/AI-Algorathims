{
 "cells": [
  {
   "cell_type": "code",
   "execution_count": 21,
   "id": "d49fff58",
   "metadata": {
    "ExecuteTime": {
     "end_time": "2022-06-26T02:14:56.679607Z",
     "start_time": "2022-06-26T02:14:49.319785Z"
    }
   },
   "outputs": [],
   "source": [
    "import nltk\n",
    "import pandas as pd"
   ]
  },
  {
   "cell_type": "code",
   "execution_count": 2,
   "id": "8a77f0e3",
   "metadata": {
    "ExecuteTime": {
     "end_time": "2022-06-26T02:10:28.747809Z",
     "start_time": "2022-06-26T02:10:26.216268Z"
    }
   },
   "outputs": [
    {
     "name": "stderr",
     "output_type": "stream",
     "text": [
      "[nltk_data] Downloading package vader_lexicon to\n",
      "[nltk_data]     C:\\Users\\DELL\\AppData\\Roaming\\nltk_data...\n"
     ]
    },
    {
     "data": {
      "text/plain": [
       "True"
      ]
     },
     "execution_count": 2,
     "metadata": {},
     "output_type": "execute_result"
    }
   ],
   "source": [
    "nltk.download('vader_lexicon')"
   ]
  },
  {
   "cell_type": "code",
   "execution_count": 3,
   "id": "dc9f4bb3",
   "metadata": {
    "ExecuteTime": {
     "end_time": "2022-06-26T02:11:06.255877Z",
     "start_time": "2022-06-26T02:11:06.241852Z"
    }
   },
   "outputs": [],
   "source": [
    "from nltk.sentiment.vader import SentimentIntensityAnalyzer"
   ]
  },
  {
   "cell_type": "code",
   "execution_count": 4,
   "id": "fe7d3638",
   "metadata": {
    "ExecuteTime": {
     "end_time": "2022-06-26T02:11:17.734279Z",
     "start_time": "2022-06-26T02:11:17.527000Z"
    }
   },
   "outputs": [],
   "source": [
    "sid=SentimentIntensityAnalyzer()"
   ]
  },
  {
   "cell_type": "code",
   "execution_count": 17,
   "id": "4e03fa7e",
   "metadata": {
    "ExecuteTime": {
     "end_time": "2022-06-26T02:12:59.858135Z",
     "start_time": "2022-06-26T02:12:59.855134Z"
    }
   },
   "outputs": [],
   "source": [
    "text=\"This is the WORST movie\""
   ]
  },
  {
   "cell_type": "code",
   "execution_count": 18,
   "id": "ce9545f9",
   "metadata": {
    "ExecuteTime": {
     "end_time": "2022-06-26T02:13:01.598143Z",
     "start_time": "2022-06-26T02:13:01.591119Z"
    }
   },
   "outputs": [
    {
     "data": {
      "text/plain": [
       "{'neg': 0.547, 'neu': 0.453, 'pos': 0.0, 'compound': -0.7034}"
      ]
     },
     "execution_count": 18,
     "metadata": {},
     "output_type": "execute_result"
    }
   ],
   "source": [
    "sid.polarity_scores(text)"
   ]
  },
  {
   "cell_type": "code",
   "execution_count": 19,
   "id": "24ffdcc7",
   "metadata": {
    "ExecuteTime": {
     "end_time": "2022-06-26T02:13:31.110421Z",
     "start_time": "2022-06-26T02:13:31.096459Z"
    }
   },
   "outputs": [],
   "source": [
    "text=\"This is the VERY GOOD movie\""
   ]
  },
  {
   "cell_type": "code",
   "execution_count": 20,
   "id": "a5ddbab3",
   "metadata": {
    "ExecuteTime": {
     "end_time": "2022-06-26T02:13:36.103126Z",
     "start_time": "2022-06-26T02:13:36.089168Z"
    }
   },
   "outputs": [
    {
     "data": {
      "text/plain": [
       "{'neg': 0.0, 'neu': 0.518, 'pos': 0.482, 'compound': 0.6867}"
      ]
     },
     "execution_count": 20,
     "metadata": {},
     "output_type": "execute_result"
    }
   ],
   "source": [
    "sid.polarity_scores(text)"
   ]
  },
  {
   "cell_type": "markdown",
   "id": "be4673d8",
   "metadata": {},
   "source": [
    "## Try it on amazon reviews file"
   ]
  },
  {
   "cell_type": "code",
   "execution_count": 76,
   "id": "86307198",
   "metadata": {
    "ExecuteTime": {
     "end_time": "2022-06-26T02:45:16.485615Z",
     "start_time": "2022-06-26T02:45:16.417490Z"
    }
   },
   "outputs": [],
   "source": [
    "df=pd.read_csv(\"amazonreviews.tsv\",sep='\\t')"
   ]
  },
  {
   "cell_type": "code",
   "execution_count": 24,
   "id": "a6683886",
   "metadata": {
    "ExecuteTime": {
     "end_time": "2022-06-26T02:15:38.967305Z",
     "start_time": "2022-06-26T02:15:38.787403Z"
    }
   },
   "outputs": [
    {
     "data": {
      "text/html": [
       "<div>\n",
       "<style scoped>\n",
       "    .dataframe tbody tr th:only-of-type {\n",
       "        vertical-align: middle;\n",
       "    }\n",
       "\n",
       "    .dataframe tbody tr th {\n",
       "        vertical-align: top;\n",
       "    }\n",
       "\n",
       "    .dataframe thead th {\n",
       "        text-align: right;\n",
       "    }\n",
       "</style>\n",
       "<table border=\"1\" class=\"dataframe\">\n",
       "  <thead>\n",
       "    <tr style=\"text-align: right;\">\n",
       "      <th></th>\n",
       "      <th>label</th>\n",
       "      <th>review</th>\n",
       "    </tr>\n",
       "  </thead>\n",
       "  <tbody>\n",
       "    <tr>\n",
       "      <th>0</th>\n",
       "      <td>pos</td>\n",
       "      <td>Stuning even for the non-gamer: This sound tra...</td>\n",
       "    </tr>\n",
       "    <tr>\n",
       "      <th>1</th>\n",
       "      <td>pos</td>\n",
       "      <td>The best soundtrack ever to anything.: I'm rea...</td>\n",
       "    </tr>\n",
       "    <tr>\n",
       "      <th>2</th>\n",
       "      <td>pos</td>\n",
       "      <td>Amazing!: This soundtrack is my favorite music...</td>\n",
       "    </tr>\n",
       "    <tr>\n",
       "      <th>3</th>\n",
       "      <td>pos</td>\n",
       "      <td>Excellent Soundtrack: I truly like this soundt...</td>\n",
       "    </tr>\n",
       "    <tr>\n",
       "      <th>4</th>\n",
       "      <td>pos</td>\n",
       "      <td>Remember, Pull Your Jaw Off The Floor After He...</td>\n",
       "    </tr>\n",
       "  </tbody>\n",
       "</table>\n",
       "</div>"
      ],
      "text/plain": [
       "  label                                             review\n",
       "0   pos  Stuning even for the non-gamer: This sound tra...\n",
       "1   pos  The best soundtrack ever to anything.: I'm rea...\n",
       "2   pos  Amazing!: This soundtrack is my favorite music...\n",
       "3   pos  Excellent Soundtrack: I truly like this soundt...\n",
       "4   pos  Remember, Pull Your Jaw Off The Floor After He..."
      ]
     },
     "execution_count": 24,
     "metadata": {},
     "output_type": "execute_result"
    }
   ],
   "source": [
    "df.head()"
   ]
  },
  {
   "cell_type": "code",
   "execution_count": 25,
   "id": "c46b5508",
   "metadata": {
    "ExecuteTime": {
     "end_time": "2022-06-26T02:16:17.680626Z",
     "start_time": "2022-06-26T02:16:17.661631Z"
    }
   },
   "outputs": [
    {
     "data": {
      "text/plain": [
       "label     0\n",
       "review    0\n",
       "dtype: int64"
      ]
     },
     "execution_count": 25,
     "metadata": {},
     "output_type": "execute_result"
    }
   ],
   "source": [
    "df.isnull().sum()"
   ]
  },
  {
   "cell_type": "code",
   "execution_count": 28,
   "id": "79734e71",
   "metadata": {
    "ExecuteTime": {
     "end_time": "2022-06-26T02:16:58.273756Z",
     "start_time": "2022-06-26T02:16:58.232787Z"
    }
   },
   "outputs": [
    {
     "data": {
      "text/plain": [
       "array(['pos', 'neg'], dtype=object)"
      ]
     },
     "execution_count": 28,
     "metadata": {},
     "output_type": "execute_result"
    }
   ],
   "source": [
    "df['label'].unique()"
   ]
  },
  {
   "cell_type": "code",
   "execution_count": 29,
   "id": "688eb070",
   "metadata": {
    "ExecuteTime": {
     "end_time": "2022-06-26T02:17:36.219088Z",
     "start_time": "2022-06-26T02:17:36.206082Z"
    }
   },
   "outputs": [
    {
     "data": {
      "text/plain": [
       "label     0\n",
       "review    0\n",
       "dtype: int64"
      ]
     },
     "execution_count": 29,
     "metadata": {},
     "output_type": "execute_result"
    }
   ],
   "source": [
    "df.isna().sum()"
   ]
  },
  {
   "cell_type": "code",
   "execution_count": 77,
   "id": "8fb469c8",
   "metadata": {
    "ExecuteTime": {
     "end_time": "2022-06-26T02:45:30.578975Z",
     "start_time": "2022-06-26T02:45:23.419886Z"
    }
   },
   "outputs": [],
   "source": [
    "df['prediction']=df['review'].apply(lambda x:'pos' if sid.polarity_scores(x)['compound']>0 else 'neg')"
   ]
  },
  {
   "cell_type": "code",
   "execution_count": 78,
   "id": "f732f802",
   "metadata": {
    "ExecuteTime": {
     "end_time": "2022-06-26T02:45:31.392389Z",
     "start_time": "2022-06-26T02:45:31.372605Z"
    }
   },
   "outputs": [
    {
     "data": {
      "text/html": [
       "<div>\n",
       "<style scoped>\n",
       "    .dataframe tbody tr th:only-of-type {\n",
       "        vertical-align: middle;\n",
       "    }\n",
       "\n",
       "    .dataframe tbody tr th {\n",
       "        vertical-align: top;\n",
       "    }\n",
       "\n",
       "    .dataframe thead th {\n",
       "        text-align: right;\n",
       "    }\n",
       "</style>\n",
       "<table border=\"1\" class=\"dataframe\">\n",
       "  <thead>\n",
       "    <tr style=\"text-align: right;\">\n",
       "      <th></th>\n",
       "      <th>label</th>\n",
       "      <th>review</th>\n",
       "      <th>prediction</th>\n",
       "    </tr>\n",
       "  </thead>\n",
       "  <tbody>\n",
       "    <tr>\n",
       "      <th>0</th>\n",
       "      <td>pos</td>\n",
       "      <td>Stuning even for the non-gamer: This sound tra...</td>\n",
       "      <td>pos</td>\n",
       "    </tr>\n",
       "    <tr>\n",
       "      <th>1</th>\n",
       "      <td>pos</td>\n",
       "      <td>The best soundtrack ever to anything.: I'm rea...</td>\n",
       "      <td>pos</td>\n",
       "    </tr>\n",
       "    <tr>\n",
       "      <th>2</th>\n",
       "      <td>pos</td>\n",
       "      <td>Amazing!: This soundtrack is my favorite music...</td>\n",
       "      <td>pos</td>\n",
       "    </tr>\n",
       "    <tr>\n",
       "      <th>3</th>\n",
       "      <td>pos</td>\n",
       "      <td>Excellent Soundtrack: I truly like this soundt...</td>\n",
       "      <td>pos</td>\n",
       "    </tr>\n",
       "    <tr>\n",
       "      <th>4</th>\n",
       "      <td>pos</td>\n",
       "      <td>Remember, Pull Your Jaw Off The Floor After He...</td>\n",
       "      <td>pos</td>\n",
       "    </tr>\n",
       "  </tbody>\n",
       "</table>\n",
       "</div>"
      ],
      "text/plain": [
       "  label                                             review prediction\n",
       "0   pos  Stuning even for the non-gamer: This sound tra...        pos\n",
       "1   pos  The best soundtrack ever to anything.: I'm rea...        pos\n",
       "2   pos  Amazing!: This soundtrack is my favorite music...        pos\n",
       "3   pos  Excellent Soundtrack: I truly like this soundt...        pos\n",
       "4   pos  Remember, Pull Your Jaw Off The Floor After He...        pos"
      ]
     },
     "execution_count": 78,
     "metadata": {},
     "output_type": "execute_result"
    }
   ],
   "source": [
    "df.head()"
   ]
  },
  {
   "cell_type": "code",
   "execution_count": 80,
   "id": "b7ff80cd",
   "metadata": {
    "ExecuteTime": {
     "end_time": "2022-06-26T02:46:51.923418Z",
     "start_time": "2022-06-26T02:46:51.907420Z"
    }
   },
   "outputs": [],
   "source": [
    "from sklearn.metrics import accuracy_score,classification_report,confusion_matrix"
   ]
  },
  {
   "cell_type": "code",
   "execution_count": 81,
   "id": "34e766ab",
   "metadata": {
    "ExecuteTime": {
     "end_time": "2022-06-26T02:47:11.092552Z",
     "start_time": "2022-06-26T02:47:11.063085Z"
    }
   },
   "outputs": [
    {
     "data": {
      "text/plain": [
       "0.713"
      ]
     },
     "execution_count": 81,
     "metadata": {},
     "output_type": "execute_result"
    }
   ],
   "source": [
    "accuracy_score(df['label'],df['prediction'])"
   ]
  },
  {
   "cell_type": "code",
   "execution_count": 86,
   "id": "ca0ff5e9",
   "metadata": {
    "ExecuteTime": {
     "end_time": "2022-06-26T02:49:38.587336Z",
     "start_time": "2022-06-26T02:49:38.548116Z"
    }
   },
   "outputs": [],
   "source": [
    "cm=confusion_matrix(df['label'],df['prediction'])"
   ]
  },
  {
   "cell_type": "code",
   "execution_count": 84,
   "id": "4883d3ec",
   "metadata": {
    "ExecuteTime": {
     "end_time": "2022-06-26T02:49:27.183980Z",
     "start_time": "2022-06-26T02:49:27.168000Z"
    }
   },
   "outputs": [],
   "source": [
    "import seaborn as sns\n",
    "import matplotlib.pyplot as plt"
   ]
  },
  {
   "cell_type": "code",
   "execution_count": 87,
   "id": "f48bec2a",
   "metadata": {
    "ExecuteTime": {
     "end_time": "2022-06-26T02:49:40.121959Z",
     "start_time": "2022-06-26T02:49:39.902062Z"
    }
   },
   "outputs": [
    {
     "data": {
      "text/plain": [
       "<AxesSubplot:>"
      ]
     },
     "execution_count": 87,
     "metadata": {},
     "output_type": "execute_result"
    },
    {
     "data": {
      "image/png": "[encoded data removed]",
      "text/plain": [
       "<Figure size 504x360 with 2 Axes>"
      ]
     },
     "metadata": {
      "needs_background": "light"
     },
     "output_type": "display_data"
    }
   ],
   "source": [
    "plt.figure(figsize=(7,5))\n",
    "sns.heatmap(cm, annot=True)"
   ]
  },
  {
   "cell_type": "code",
   "execution_count": null,
   "id": "44b04236",
   "metadata": {},
   "outputs": [],
   "source": []
  }
 ],
 "metadata": {
  "kernelspec": {
   "display_name": "Python 3 (ipykernel)",
   "language": "python",
   "name": "python3"
  },
  "language_info": {
   "codemirror_mode": {
    "name": "ipython",
    "version": 3
   },
   "file_extension": ".py",
   "mimetype": "text/x-python",
   "name": "python",
   "nbconvert_exporter": "python",
   "pygments_lexer": "ipython3",
   "version": "3.9.7"
  }
 },
 "nbformat": 4,
 "nbformat_minor": 5
}
