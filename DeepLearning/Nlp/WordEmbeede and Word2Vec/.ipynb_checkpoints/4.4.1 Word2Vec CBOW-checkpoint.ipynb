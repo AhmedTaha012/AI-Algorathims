{
 "cells": [
  {
   "cell_type": "markdown",
   "metadata": {},
   "source": [
    "Original Notebook\n",
    "\n",
    "https://www.kaggle.com/alincijov/continuous-bag-of-words-cbow-numpy-for-beginners"
   ]
  },
  {
   "cell_type": "markdown",
   "metadata": {},
   "source": [
    "### Imports"
   ]
  },
  {
   "cell_type": "code",
   "execution_count": 1,
   "metadata": {
    "ExecuteTime": {
     "end_time": "2022-06-26T01:27:39.578761Z",
     "start_time": "2022-06-26T01:27:31.735114Z"
    }
   },
   "outputs": [],
   "source": [
    "import re\n",
    "import numpy as np\n",
    "import matplotlib.pyplot as plt"
   ]
  },
  {
   "cell_type": "markdown",
   "metadata": {},
   "source": [
    "### Data"
   ]
  },
  {
   "cell_type": "code",
   "execution_count": 2,
   "metadata": {
    "ExecuteTime": {
     "end_time": "2022-06-26T01:27:39.594091Z",
     "start_time": "2022-06-26T01:27:39.580756Z"
    }
   },
   "outputs": [],
   "source": [
    "sentences = \"\"\"We are about to study the idea of a computational process.\n",
    "Computational processes are abstract beings that inhabit computers.\n",
    "As they evolve, processes manipulate other abstract things called data.\n",
    "The evolution of a process is directed by a pattern of rules\n",
    "called a program. People create programs to direct processes. In effect,\n",
    "we conjure the spirits of the computer with our spells.\"\"\""
   ]
  },
  {
   "cell_type": "markdown",
   "metadata": {},
   "source": [
    "### Clean Data"
   ]
  },
  {
   "cell_type": "code",
   "execution_count": 3,
   "metadata": {
    "ExecuteTime": {
     "end_time": "2022-06-26T01:27:39.842496Z",
     "start_time": "2022-06-26T01:27:39.603031Z"
    }
   },
   "outputs": [
    {
     "data": {
      "text/plain": [
       "'We are about to study the idea of a computational process Computational processes are abstract beings that inhabit computers As they evolve processes manipulate other abstract things called data The evolution of a process is directed by a pattern of rules called a program People create programs to direct processes In effect we conjure the spirits of the computer with our spells '"
      ]
     },
     "execution_count": 3,
     "metadata": {},
     "output_type": "execute_result"
    }
   ],
   "source": [
    "# remove special characters\n",
    "sentences = re.sub('[^A-Za-z0-9]+', ' ', sentences)\n",
    "sentences"
   ]
  },
  {
   "cell_type": "code",
   "execution_count": 4,
   "metadata": {
    "ExecuteTime": {
     "end_time": "2022-06-26T01:27:42.269212Z",
     "start_time": "2022-06-26T01:27:42.258203Z"
    }
   },
   "outputs": [
    {
     "data": {
      "text/plain": [
       "'We are about to study the idea of computational process Computational processes are abstract beings that inhabit computers As they evolve processes manipulate other abstract things called data The evolution of process is directed by pattern of rules called program People create programs to direct processes In effect we conjure the spirits of the computer with our spells'"
      ]
     },
     "execution_count": 4,
     "metadata": {},
     "output_type": "execute_result"
    }
   ],
   "source": [
    "# remove 1 letter words\n",
    "sentences = re.sub(r'(?:^| )\\w(?:$| )', ' ', sentences).strip()\n",
    "sentences"
   ]
  },
  {
   "cell_type": "code",
   "execution_count": 5,
   "metadata": {
    "ExecuteTime": {
     "end_time": "2022-06-26T01:27:46.722076Z",
     "start_time": "2022-06-26T01:27:46.715094Z"
    }
   },
   "outputs": [
    {
     "data": {
      "text/plain": [
       "'we are about to study the idea of computational process computational processes are abstract beings that inhabit computers as they evolve processes manipulate other abstract things called data the evolution of process is directed by pattern of rules called program people create programs to direct processes in effect we conjure the spirits of the computer with our spells'"
      ]
     },
     "execution_count": 5,
     "metadata": {},
     "output_type": "execute_result"
    }
   ],
   "source": [
    "# lower all characters\n",
    "sentences = sentences.lower()\n",
    "sentences"
   ]
  },
  {
   "cell_type": "markdown",
   "metadata": {},
   "source": [
    "### Vocabulary"
   ]
  },
  {
   "cell_type": "code",
   "execution_count": 6,
   "metadata": {
    "ExecuteTime": {
     "end_time": "2022-06-26T01:27:49.179444Z",
     "start_time": "2022-06-26T01:27:49.165482Z"
    }
   },
   "outputs": [
    {
     "data": {
      "text/plain": [
       "['we',\n",
       " 'are',\n",
       " 'about',\n",
       " 'to',\n",
       " 'study',\n",
       " 'the',\n",
       " 'idea',\n",
       " 'of',\n",
       " 'computational',\n",
       " 'process',\n",
       " 'computational',\n",
       " 'processes',\n",
       " 'are',\n",
       " 'abstract',\n",
       " 'beings',\n",
       " 'that',\n",
       " 'inhabit',\n",
       " 'computers',\n",
       " 'as',\n",
       " 'they',\n",
       " 'evolve',\n",
       " 'processes',\n",
       " 'manipulate',\n",
       " 'other',\n",
       " 'abstract',\n",
       " 'things',\n",
       " 'called',\n",
       " 'data',\n",
       " 'the',\n",
       " 'evolution',\n",
       " 'of',\n",
       " 'process',\n",
       " 'is',\n",
       " 'directed',\n",
       " 'by',\n",
       " 'pattern',\n",
       " 'of',\n",
       " 'rules',\n",
       " 'called',\n",
       " 'program',\n",
       " 'people',\n",
       " 'create',\n",
       " 'programs',\n",
       " 'to',\n",
       " 'direct',\n",
       " 'processes',\n",
       " 'in',\n",
       " 'effect',\n",
       " 'we',\n",
       " 'conjure',\n",
       " 'the',\n",
       " 'spirits',\n",
       " 'of',\n",
       " 'the',\n",
       " 'computer',\n",
       " 'with',\n",
       " 'our',\n",
       " 'spells']"
      ]
     },
     "execution_count": 6,
     "metadata": {},
     "output_type": "execute_result"
    }
   ],
   "source": [
    "words = sentences.split()\n",
    "words"
   ]
  },
  {
   "cell_type": "code",
   "execution_count": 7,
   "metadata": {
    "ExecuteTime": {
     "end_time": "2022-06-26T01:27:57.107111Z",
     "start_time": "2022-06-26T01:27:57.094102Z"
    }
   },
   "outputs": [
    {
     "data": {
      "text/plain": [
       "{'about',\n",
       " 'abstract',\n",
       " 'are',\n",
       " 'as',\n",
       " 'beings',\n",
       " 'by',\n",
       " 'called',\n",
       " 'computational',\n",
       " 'computer',\n",
       " 'computers',\n",
       " 'conjure',\n",
       " 'create',\n",
       " 'data',\n",
       " 'direct',\n",
       " 'directed',\n",
       " 'effect',\n",
       " 'evolution',\n",
       " 'evolve',\n",
       " 'idea',\n",
       " 'in',\n",
       " 'inhabit',\n",
       " 'is',\n",
       " 'manipulate',\n",
       " 'of',\n",
       " 'other',\n",
       " 'our',\n",
       " 'pattern',\n",
       " 'people',\n",
       " 'process',\n",
       " 'processes',\n",
       " 'program',\n",
       " 'programs',\n",
       " 'rules',\n",
       " 'spells',\n",
       " 'spirits',\n",
       " 'study',\n",
       " 'that',\n",
       " 'the',\n",
       " 'they',\n",
       " 'things',\n",
       " 'to',\n",
       " 'we',\n",
       " 'with'}"
      ]
     },
     "execution_count": 7,
     "metadata": {},
     "output_type": "execute_result"
    }
   ],
   "source": [
    "vocab = set(words)\n",
    "vocab"
   ]
  },
  {
   "cell_type": "code",
   "execution_count": 8,
   "metadata": {
    "ExecuteTime": {
     "end_time": "2022-06-26T01:28:01.769106Z",
     "start_time": "2022-06-26T01:28:01.755190Z"
    }
   },
   "outputs": [],
   "source": [
    "vocab_size = len(vocab)\n",
    "embed_dim = 10\n",
    "context_size = 2"
   ]
  },
  {
   "cell_type": "markdown",
   "metadata": {},
   "source": [
    "### Dictionaries for vocab"
   ]
  },
  {
   "cell_type": "code",
   "execution_count": 9,
   "metadata": {
    "ExecuteTime": {
     "end_time": "2022-06-26T01:28:03.791215Z",
     "start_time": "2022-06-26T01:28:03.744125Z"
    }
   },
   "outputs": [
    {
     "data": {
      "text/plain": [
       "{'idea': 0,\n",
       " 'to': 1,\n",
       " 'other': 2,\n",
       " 'computer': 3,\n",
       " 'processes': 4,\n",
       " 'as': 5,\n",
       " 'pattern': 6,\n",
       " 'data': 7,\n",
       " 'directed': 8,\n",
       " 'create': 9,\n",
       " 'effect': 10,\n",
       " 'abstract': 11,\n",
       " 'with': 12,\n",
       " 'by': 13,\n",
       " 'conjure': 14,\n",
       " 'things': 15,\n",
       " 'in': 16,\n",
       " 'our': 17,\n",
       " 'program': 18,\n",
       " 'computers': 19,\n",
       " 'computational': 20,\n",
       " 'programs': 21,\n",
       " 'spells': 22,\n",
       " 'they': 23,\n",
       " 'that': 24,\n",
       " 'is': 25,\n",
       " 'evolution': 26,\n",
       " 'are': 27,\n",
       " 'about': 28,\n",
       " 'manipulate': 29,\n",
       " 'spirits': 30,\n",
       " 'people': 31,\n",
       " 'inhabit': 32,\n",
       " 'of': 33,\n",
       " 'called': 34,\n",
       " 'rules': 35,\n",
       " 'we': 36,\n",
       " 'study': 37,\n",
       " 'the': 38,\n",
       " 'evolve': 39,\n",
       " 'process': 40,\n",
       " 'direct': 41,\n",
       " 'beings': 42}"
      ]
     },
     "execution_count": 9,
     "metadata": {},
     "output_type": "execute_result"
    }
   ],
   "source": [
    "word_to_ix = {word: i for i, word in enumerate(vocab)}\n",
    "word_to_ix"
   ]
  },
  {
   "cell_type": "code",
   "execution_count": 10,
   "metadata": {
    "ExecuteTime": {
     "end_time": "2022-06-26T01:28:10.026107Z",
     "start_time": "2022-06-26T01:28:10.018085Z"
    }
   },
   "outputs": [
    {
     "data": {
      "text/plain": [
       "{0: 'idea',\n",
       " 1: 'to',\n",
       " 2: 'other',\n",
       " 3: 'computer',\n",
       " 4: 'processes',\n",
       " 5: 'as',\n",
       " 6: 'pattern',\n",
       " 7: 'data',\n",
       " 8: 'directed',\n",
       " 9: 'create',\n",
       " 10: 'effect',\n",
       " 11: 'abstract',\n",
       " 12: 'with',\n",
       " 13: 'by',\n",
       " 14: 'conjure',\n",
       " 15: 'things',\n",
       " 16: 'in',\n",
       " 17: 'our',\n",
       " 18: 'program',\n",
       " 19: 'computers',\n",
       " 20: 'computational',\n",
       " 21: 'programs',\n",
       " 22: 'spells',\n",
       " 23: 'they',\n",
       " 24: 'that',\n",
       " 25: 'is',\n",
       " 26: 'evolution',\n",
       " 27: 'are',\n",
       " 28: 'about',\n",
       " 29: 'manipulate',\n",
       " 30: 'spirits',\n",
       " 31: 'people',\n",
       " 32: 'inhabit',\n",
       " 33: 'of',\n",
       " 34: 'called',\n",
       " 35: 'rules',\n",
       " 36: 'we',\n",
       " 37: 'study',\n",
       " 38: 'the',\n",
       " 39: 'evolve',\n",
       " 40: 'process',\n",
       " 41: 'direct',\n",
       " 42: 'beings'}"
      ]
     },
     "execution_count": 10,
     "metadata": {},
     "output_type": "execute_result"
    }
   ],
   "source": [
    "ix_to_word = {i: word for i, word in enumerate(vocab)}\n",
    "ix_to_word"
   ]
  },
  {
   "cell_type": "markdown",
   "metadata": {},
   "source": [
    "### Data bags"
   ]
  },
  {
   "cell_type": "code",
   "execution_count": 11,
   "metadata": {
    "ExecuteTime": {
     "end_time": "2022-06-26T01:28:27.865330Z",
     "start_time": "2022-06-26T01:28:27.845382Z"
    }
   },
   "outputs": [
    {
     "name": "stdout",
     "output_type": "stream",
     "text": [
      "[(['we', 'are', 'to', 'study'], 'about'), (['are', 'about', 'study', 'the'], 'to'), (['about', 'to', 'the', 'idea'], 'study'), (['to', 'study', 'idea', 'of'], 'the'), (['study', 'the', 'of', 'computational'], 'idea')]\n"
     ]
    }
   ],
   "source": [
    "# data - [(context), target]\n",
    "\n",
    "\n",
    "#  \"\"\"We are about to study the idea of a computational process.\n",
    "# Computational processes are abstract beings that inhabit computers.\n",
    "# As they evolve, processes manipulate other abstract things called data.\n",
    "# The evolution of a process is directed by a pattern of rules\n",
    "# called a program. People create programs to direct processes. In effect,\n",
    "# we conjure the spirits of the computer with our spells.\"\"\"\n",
    "\n",
    "\n",
    "data = []\n",
    "for i in range(2, len(words) - 2):\n",
    "    context = [words[i - 2], words[i - 1], words[i + 1], words[i + 2]]\n",
    "    target = words[i]\n",
    "    data.append((context, target))\n",
    "print(data[:5])"
   ]
  },
  {
   "cell_type": "markdown",
   "metadata": {},
   "source": [
    "### Embeddings"
   ]
  },
  {
   "cell_type": "code",
   "execution_count": 12,
   "metadata": {
    "ExecuteTime": {
     "end_time": "2022-06-26T01:28:36.347086Z",
     "start_time": "2022-06-26T01:28:36.087437Z"
    }
   },
   "outputs": [
    {
     "name": "stdout",
     "output_type": "stream",
     "text": [
      "(43, 10)\n"
     ]
    },
    {
     "data": {
      "text/plain": [
       "array([[0.20204568, 0.84444315, 0.40804915, 0.19563981, 0.54863269,\n",
       "        0.163597  , 0.45953453, 0.19319408, 0.8666644 , 0.91127955],\n",
       "       [0.86221238, 0.73534473, 0.18292862, 0.44160618, 0.87421667,\n",
       "        0.47202811, 0.32659229, 0.43124774, 0.57905784, 0.23646331],\n",
       "       [0.00485974, 0.7009853 , 0.99790465, 0.47861004, 0.82574345,\n",
       "        0.3242459 , 0.17062859, 0.1238307 , 0.75270619, 0.94723785],\n",
       "       [0.07408003, 0.61137003, 0.62192148, 0.19253143, 0.79732784,\n",
       "        0.93371513, 0.89094395, 0.14463085, 0.27672953, 0.42773055],\n",
       "       [0.75802451, 0.1667426 , 0.60257809, 0.27241901, 0.05644489,\n",
       "        0.74231462, 0.0123975 , 0.48469572, 0.07655885, 0.06491181],\n",
       "       [0.82977077, 0.03306606, 0.32371959, 0.30134869, 0.96944508,\n",
       "        0.36726726, 0.75433669, 0.79826344, 0.48094354, 0.68425222],\n",
       "       [0.99916415, 0.86588892, 0.81412722, 0.87435564, 0.26451154,\n",
       "        0.49649629, 0.47419268, 0.61176588, 0.39389616, 0.88795564],\n",
       "       [0.43677578, 0.71526768, 0.32620209, 0.27763025, 0.68482032,\n",
       "        0.93110059, 0.68833563, 0.87759428, 0.61051309, 0.58234578],\n",
       "       [0.93102143, 0.47723976, 0.27355271, 0.51276946, 0.63096832,\n",
       "        0.49198732, 0.68159251, 0.29926456, 0.67648466, 0.17314494],\n",
       "       [0.52709525, 0.72159212, 0.71398456, 0.95431521, 0.06356531,\n",
       "        0.83207578, 0.59445782, 0.09753804, 0.22088526, 0.19438961],\n",
       "       [0.17269225, 0.85625023, 0.65272267, 0.92469477, 0.90483368,\n",
       "        0.23698325, 0.97659231, 0.78241305, 0.99171275, 0.69070669],\n",
       "       [0.0902182 , 0.92824005, 0.74831638, 0.98341589, 0.58556143,\n",
       "        0.01343682, 0.85710065, 0.46405327, 0.98530663, 0.68849402],\n",
       "       [0.3062487 , 0.96494155, 0.3687708 , 0.94764177, 0.96077353,\n",
       "        0.90818503, 0.17726742, 0.17575841, 0.6122854 , 0.26522056],\n",
       "       [0.3548424 , 0.20553096, 0.02552208, 0.97013215, 0.27981329,\n",
       "        0.72012124, 0.6868625 , 0.66393008, 0.90399059, 0.03444589],\n",
       "       [0.00711265, 0.50594084, 0.16337894, 0.98957841, 0.53194451,\n",
       "        0.0971034 , 0.59387752, 0.65839714, 0.25076732, 0.63627971],\n",
       "       [0.74669723, 0.17444567, 0.57968015, 0.46780318, 0.94139687,\n",
       "        0.72566208, 0.26544876, 0.60182765, 0.99684269, 0.52122979],\n",
       "       [0.86319225, 0.80261097, 0.46844336, 0.26997204, 0.74437359,\n",
       "        0.50687853, 0.15390915, 0.64947699, 0.89943954, 0.0275519 ],\n",
       "       [0.96621525, 0.7455521 , 0.85614319, 0.14850908, 0.64147943,\n",
       "        0.32245874, 0.61882913, 0.95557445, 0.67723568, 0.18196588],\n",
       "       [0.2187385 , 0.48525148, 0.55299623, 0.95517586, 0.95588128,\n",
       "        0.14707953, 0.96370356, 0.54281083, 0.80934665, 0.61857872],\n",
       "       [0.83394525, 0.72056858, 0.77747124, 0.91479459, 0.85032002,\n",
       "        0.79878653, 0.41802777, 0.40936735, 0.39565635, 0.25740089],\n",
       "       [0.6772371 , 0.55331013, 0.88636983, 0.2385561 , 0.94250696,\n",
       "        0.94140499, 0.01282065, 0.51008649, 0.35485551, 0.35516374],\n",
       "       [0.27204373, 0.8197662 , 0.5085895 , 0.86640369, 0.02329166,\n",
       "        0.78409484, 0.95690816, 0.78492477, 0.29006701, 0.70180408],\n",
       "       [0.71059687, 0.00440895, 0.40970943, 0.59073961, 0.80105666,\n",
       "        0.0518962 , 0.79487787, 0.72174764, 0.05181392, 0.43738892],\n",
       "       [0.79822909, 0.34912559, 0.14454652, 0.26863336, 0.82898415,\n",
       "        0.51231934, 0.59938086, 0.43614149, 0.56792963, 0.17570441],\n",
       "       [0.2239016 , 0.8244957 , 0.60953918, 0.05737366, 0.25356374,\n",
       "        0.73674538, 0.36414647, 0.17004255, 0.50031208, 0.92257428],\n",
       "       [0.64599171, 0.61564145, 0.31592439, 0.3983706 , 0.89831096,\n",
       "        0.94129884, 0.92296845, 0.3835132 , 0.3400925 , 0.73531007],\n",
       "       [0.83300354, 0.70544253, 0.32890178, 0.42675679, 0.9805853 ,\n",
       "        0.25773097, 0.66906061, 0.35044178, 0.36247364, 0.46958957],\n",
       "       [0.66356647, 0.98568398, 0.54416407, 0.07643689, 0.25186597,\n",
       "        0.97971894, 0.13391848, 0.96092077, 0.53863195, 0.49672994],\n",
       "       [0.50267135, 0.8391286 , 0.35300787, 0.11914436, 0.13739398,\n",
       "        0.86694828, 0.38517796, 0.73743199, 0.79458872, 0.6008642 ],\n",
       "       [0.18545117, 0.91052598, 0.4203698 , 0.02123068, 0.15429011,\n",
       "        0.15822805, 0.7608354 , 0.00351207, 0.50123432, 0.28569771],\n",
       "       [0.35831379, 0.70356812, 0.48116792, 0.86034513, 0.97591048,\n",
       "        0.9450321 , 0.55478959, 0.5765866 , 0.8622904 , 0.75048909],\n",
       "       [0.64013023, 0.04011922, 0.94093671, 0.52195068, 0.28739345,\n",
       "        0.74674185, 0.21921964, 0.6144066 , 0.05091916, 0.73128311],\n",
       "       [0.87082564, 0.23841715, 0.66394201, 0.74675227, 0.70785287,\n",
       "        0.95284987, 0.37741698, 0.73848408, 0.24779497, 0.5565371 ],\n",
       "       [0.63697891, 0.93400589, 0.59651564, 0.84464214, 0.70757271,\n",
       "        0.81655464, 0.89381923, 0.52658184, 0.89789575, 0.99692284],\n",
       "       [0.22530267, 0.72168049, 0.0495589 , 0.4920398 , 0.67703021,\n",
       "        0.55603206, 0.30582004, 0.75001207, 0.79181296, 0.17598087],\n",
       "       [0.22546133, 0.80303556, 0.85325341, 0.35250036, 0.43860771,\n",
       "        0.01611523, 0.08936039, 0.16603063, 0.04069958, 0.81094042],\n",
       "       [0.0709347 , 0.78252141, 0.41757544, 0.80327921, 0.91241925,\n",
       "        0.53961227, 0.79009654, 0.37488842, 0.60043401, 0.20422339],\n",
       "       [0.48546526, 0.13326014, 0.36879329, 0.00817935, 0.0609008 ,\n",
       "        0.23240034, 0.7869195 , 0.44951535, 0.84277011, 0.62373423],\n",
       "       [0.02761465, 0.47651202, 0.08471624, 0.07793357, 0.32456636,\n",
       "        0.99871268, 0.10515123, 0.89479374, 0.89573212, 0.3325073 ],\n",
       "       [0.17859656, 0.1331318 , 0.1781162 , 0.24188106, 0.17971682,\n",
       "        0.56604699, 0.13782587, 0.08640995, 0.58352819, 0.25855936],\n",
       "       [0.95650973, 0.38835564, 0.92862855, 0.04890962, 0.75312808,\n",
       "        0.83708726, 0.98379616, 0.43579622, 0.02745285, 0.60578964],\n",
       "       [0.52011235, 0.30704687, 0.76473201, 0.31383135, 0.62821237,\n",
       "        0.03749355, 0.72994844, 0.12861625, 0.68510894, 0.52667616],\n",
       "       [0.1973285 , 0.56884887, 0.18180645, 0.03412477, 0.86626756,\n",
       "        0.4487824 , 0.30191517, 0.10081431, 0.13046179, 0.2489644 ]])"
      ]
     },
     "execution_count": 12,
     "metadata": {},
     "output_type": "execute_result"
    }
   ],
   "source": [
    "embeddings =  np.random.random_sample((vocab_size, embed_dim))\n",
    "print(embeddings.shape)\n",
    "embeddings"
   ]
  },
  {
   "cell_type": "markdown",
   "metadata": {},
   "source": [
    "### Linear Model"
   ]
  },
  {
   "cell_type": "code",
   "execution_count": 13,
   "metadata": {
    "ExecuteTime": {
     "end_time": "2022-06-26T01:28:46.493612Z",
     "start_time": "2022-06-26T01:28:46.484598Z"
    }
   },
   "outputs": [],
   "source": [
    "def linear(m, theta):\n",
    "    w = theta\n",
    "    return m.dot(w)"
   ]
  },
  {
   "cell_type": "markdown",
   "metadata": {},
   "source": [
    "### Log softmax + NLLloss = Cross Entropy"
   ]
  },
  {
   "cell_type": "code",
   "execution_count": 14,
   "metadata": {
    "ExecuteTime": {
     "end_time": "2022-06-26T01:28:48.624025Z",
     "start_time": "2022-06-26T01:28:48.612060Z"
    }
   },
   "outputs": [],
   "source": [
    "def log_softmax(x):\n",
    "    e_x = np.exp(x - np.max(x))\n",
    "    return np.log(e_x / e_x.sum())"
   ]
  },
  {
   "cell_type": "code",
   "execution_count": 15,
   "metadata": {
    "ExecuteTime": {
     "end_time": "2022-06-26T01:28:54.408693Z",
     "start_time": "2022-06-26T01:28:54.390743Z"
    }
   },
   "outputs": [],
   "source": [
    "def NLLLoss(logs, targets):\n",
    "    out = logs[range(len(targets)), targets]\n",
    "    return -out.sum()/len(out)"
   ]
  },
  {
   "cell_type": "code",
   "execution_count": 16,
   "metadata": {
    "ExecuteTime": {
     "end_time": "2022-06-26T01:29:00.201203Z",
     "start_time": "2022-06-26T01:29:00.181256Z"
    }
   },
   "outputs": [],
   "source": [
    "def log_softmax_crossentropy_with_logits(logits,target):\n",
    "\n",
    "    out = np.zeros_like(logits)\n",
    "    out[np.arange(len(logits)),target] = 1\n",
    "    \n",
    "    softmax = np.exp(logits) / np.exp(logits).sum(axis=-1,keepdims=True)\n",
    "    \n",
    "    return (- out + softmax) / logits.shape[0]"
   ]
  },
  {
   "cell_type": "markdown",
   "metadata": {},
   "source": [
    "### Forward function"
   ]
  },
  {
   "cell_type": "code",
   "execution_count": 17,
   "metadata": {
    "ExecuteTime": {
     "end_time": "2022-06-26T01:29:02.866739Z",
     "start_time": "2022-06-26T01:29:02.847789Z"
    }
   },
   "outputs": [],
   "source": [
    "def forward(context_idxs, theta):\n",
    "    m = embeddings[context_idxs].reshape(1, -1)\n",
    "    n = linear(m, theta)\n",
    "    o = log_softmax(n)\n",
    "    return m, n, o"
   ]
  },
  {
   "cell_type": "markdown",
   "metadata": {},
   "source": [
    "### Backward function"
   ]
  },
  {
   "cell_type": "code",
   "execution_count": 18,
   "metadata": {
    "ExecuteTime": {
     "end_time": "2022-06-26T01:29:12.909134Z",
     "start_time": "2022-06-26T01:29:12.900159Z"
    }
   },
   "outputs": [],
   "source": [
    "def backward(preds, theta, target_idxs):\n",
    "    m, n, o = preds\n",
    "    dlog = log_softmax_crossentropy_with_logits(n, target_idxs)\n",
    "    dw = m.T.dot(dlog)\n",
    "    return dw"
   ]
  },
  {
   "cell_type": "markdown",
   "metadata": {},
   "source": [
    "### Optimize function"
   ]
  },
  {
   "cell_type": "code",
   "execution_count": 19,
   "metadata": {
    "ExecuteTime": {
     "end_time": "2022-06-26T01:29:17.473831Z",
     "start_time": "2022-06-26T01:29:17.454881Z"
    }
   },
   "outputs": [],
   "source": [
    "def optimize(theta, grad, lr=0.03):\n",
    "    theta -= grad * lr\n",
    "    return theta"
   ]
  },
  {
   "cell_type": "markdown",
   "metadata": {},
   "source": [
    "### Training function"
   ]
  },
  {
   "cell_type": "code",
   "execution_count": 20,
   "metadata": {
    "ExecuteTime": {
     "end_time": "2022-06-26T01:29:20.331319Z",
     "start_time": "2022-06-26T01:29:20.197429Z"
    }
   },
   "outputs": [],
   "source": [
    "theta = np.random.uniform(-1, 1, (2 * context_size * embed_dim, vocab_size))"
   ]
  },
  {
   "cell_type": "code",
   "execution_count": 21,
   "metadata": {
    "ExecuteTime": {
     "end_time": "2022-06-26T01:29:26.774664Z",
     "start_time": "2022-06-26T01:29:25.766524Z"
    }
   },
   "outputs": [],
   "source": [
    "# [(['we', 'are', 'to', 'study'], 'about'), (['are', 'about', 'study', 'the'], 'to'), (['about', 'to', 'the', 'idea'], 'study'), (['to', 'study', 'idea', 'of'], 'the'), (['study', 'the', 'of', 'computational'], 'idea')]\n",
    "\n",
    "\n",
    "\n",
    "epoch_losses = {}\n",
    "\n",
    "for epoch in range(80):\n",
    "\n",
    "    losses =  []\n",
    "\n",
    "    for context, target in data:\n",
    "        context_idxs = np.array([word_to_ix[w] for w in context])\n",
    "        preds = forward(context_idxs, theta)\n",
    "\n",
    "        target_idxs = np.array([word_to_ix[target]])\n",
    "        loss = NLLLoss(preds[-1], target_idxs)\n",
    "\n",
    "        losses.append(loss)\n",
    "\n",
    "        grad = backward(preds, theta, target_idxs)\n",
    "        theta = optimize(theta, grad, lr=0.03)\n",
    "        \n",
    "     \n",
    "    epoch_losses[epoch] = losses"
   ]
  },
  {
   "cell_type": "markdown",
   "metadata": {},
   "source": [
    "### Plot loss/epoch"
   ]
  },
  {
   "cell_type": "code",
   "execution_count": 22,
   "metadata": {
    "ExecuteTime": {
     "end_time": "2022-06-26T01:29:34.639035Z",
     "start_time": "2022-06-26T01:29:33.302142Z"
    }
   },
   "outputs": [
    {
     "data": {
      "text/plain": [
       "Text(0, 0.5, 'Losses')"
      ]
     },
     "execution_count": 22,
     "metadata": {},
     "output_type": "execute_result"
    },
    {
     "data": {
      "image/png": "[encoded data removed]",
      "text/plain": [
       "<Figure size 432x288 with 1 Axes>"
      ]
     },
     "metadata": {
      "needs_background": "light"
     },
     "output_type": "display_data"
    }
   ],
   "source": [
    "ix = np.arange(0,80)\n",
    "\n",
    "fig = plt.figure()\n",
    "fig.suptitle('Epoch/Losses', fontsize=20)\n",
    "plt.plot(ix,[epoch_losses[i][0] for i in ix])\n",
    "plt.xlabel('Epochs', fontsize=12)\n",
    "plt.ylabel('Losses', fontsize=12)"
   ]
  },
  {
   "cell_type": "markdown",
   "metadata": {},
   "source": [
    "### Predict function"
   ]
  },
  {
   "cell_type": "code",
   "execution_count": 23,
   "metadata": {
    "ExecuteTime": {
     "end_time": "2022-06-26T01:29:45.970605Z",
     "start_time": "2022-06-26T01:29:45.955603Z"
    }
   },
   "outputs": [],
   "source": [
    "def predict(words):\n",
    "    context_idxs = np.array([word_to_ix[w] for w in words])\n",
    "    preds = forward(context_idxs, theta)\n",
    "    word = ix_to_word[np.argmax(preds[-1])]\n",
    "    \n",
    "    return word"
   ]
  },
  {
   "cell_type": "code",
   "execution_count": 24,
   "metadata": {
    "ExecuteTime": {
     "end_time": "2022-06-26T01:29:50.440909Z",
     "start_time": "2022-06-26T01:29:50.432892Z"
    }
   },
   "outputs": [
    {
     "data": {
      "text/plain": [
       "'about'"
      ]
     },
     "execution_count": 24,
     "metadata": {},
     "output_type": "execute_result"
    }
   ],
   "source": [
    "# (['we', 'are', 'to', 'study'], 'about')\n",
    "predict(['we', 'are', 'to', 'study'])"
   ]
  },
  {
   "cell_type": "markdown",
   "metadata": {},
   "source": [
    "### Accuracy"
   ]
  },
  {
   "cell_type": "code",
   "execution_count": 25,
   "metadata": {
    "ExecuteTime": {
     "end_time": "2022-06-26T01:29:54.994483Z",
     "start_time": "2022-06-26T01:29:53.937596Z"
    }
   },
   "outputs": [],
   "source": [
    "def accuracy():\n",
    "    wrong = 0\n",
    "\n",
    "    for context, target in data:\n",
    "        if(predict(context) != target):\n",
    "            wrong += 1\n",
    "            \n",
    "    return (1 - (wrong / len(data)))"
   ]
  },
  {
   "cell_type": "code",
   "execution_count": 29,
   "metadata": {},
   "outputs": [
    {
     "data": {
      "text/plain": [
       "1.0"
      ]
     },
     "execution_count": 29,
     "metadata": {},
     "output_type": "execute_result"
    }
   ],
   "source": [
    "accuracy()"
   ]
  },
  {
   "cell_type": "code",
   "execution_count": null,
   "metadata": {},
   "outputs": [],
   "source": []
  },
  {
   "cell_type": "code",
   "execution_count": null,
   "metadata": {},
   "outputs": [],
   "source": []
  },
  {
   "cell_type": "code",
   "execution_count": null,
   "metadata": {},
   "outputs": [],
   "source": []
  },
  {
   "cell_type": "code",
   "execution_count": null,
   "metadata": {},
   "outputs": [],
   "source": []
  },
  {
   "cell_type": "code",
   "execution_count": null,
   "metadata": {},
   "outputs": [],
   "source": []
  },
  {
   "cell_type": "code",
   "execution_count": null,
   "metadata": {},
   "outputs": [],
   "source": []
  },
  {
   "cell_type": "code",
   "execution_count": null,
   "metadata": {},
   "outputs": [],
   "source": []
  },
  {
   "cell_type": "code",
   "execution_count": null,
   "metadata": {},
   "outputs": [],
   "source": []
  },
  {
   "cell_type": "code",
   "execution_count": null,
   "metadata": {},
   "outputs": [],
   "source": []
  },
  {
   "cell_type": "code",
   "execution_count": null,
   "metadata": {},
   "outputs": [],
   "source": []
  },
  {
   "cell_type": "code",
   "execution_count": null,
   "metadata": {},
   "outputs": [],
   "source": []
  }
 ],
 "metadata": {
  "kernelspec": {
   "display_name": "Python 3 (ipykernel)",
   "language": "python",
   "name": "python3"
  },
  "language_info": {
   "codemirror_mode": {
    "name": "ipython",
    "version": 3
   },
   "file_extension": ".py",
   "mimetype": "text/x-python",
   "name": "python",
   "nbconvert_exporter": "python",
   "pygments_lexer": "ipython3",
   "version": "3.9.7"
  }
 },
 "nbformat": 4,
 "nbformat_minor": 4
}
