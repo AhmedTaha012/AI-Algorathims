{
 "cells": [
  {
   "cell_type": "code",
   "execution_count": 1,
   "id": "849b4cc2",
   "metadata": {
    "ExecuteTime": {
     "end_time": "2022-06-25T16:39:00.388048Z",
     "start_time": "2022-06-25T16:38:57.328474Z"
    }
   },
   "outputs": [],
   "source": [
    "import spacy \n",
    "nlp=spacy.load('en_core_web_lg')"
   ]
  },
  {
   "cell_type": "markdown",
   "id": "9b20b77f",
   "metadata": {},
   "source": [
    "# Word embeeded vector of word ahmed "
   ]
  },
  {
   "cell_type": "code",
   "execution_count": 2,
   "id": "55553f10",
   "metadata": {
    "ExecuteTime": {
     "end_time": "2022-06-25T16:39:30.855706Z",
     "start_time": "2022-06-25T16:39:29.491024Z"
    },
    "scrolled": true
   },
   "outputs": [
    {
     "data": {
      "text/plain": [
       "array([ 0.06828  ,  0.35053  ,  0.30552  ,  0.13964  ,  0.019428 ,\n",
       "       -0.29609  , -0.27718  , -0.82234  , -0.039453 , -0.70398  ,\n",
       "       -0.51668  , -0.49448  , -0.51898  ,  0.070041 , -0.4201   ,\n",
       "        0.52053  , -0.65024  , -0.56798  , -0.31578  , -0.1335   ,\n",
       "       -0.27173  ,  0.027647 ,  0.19258  ,  0.14394  ,  0.75896  ,\n",
       "       -0.4768   , -0.198    , -0.031821 ,  0.35417  ,  0.91399  ,\n",
       "        0.51989  , -0.25125  , -0.65598  , -0.64092  , -0.45836  ,\n",
       "        0.04635  , -0.57898  ,  0.44865  , -0.65141  ,  0.11021  ,\n",
       "        0.070765 , -0.51226  , -0.20699  , -0.38245  ,  0.043552 ,\n",
       "        0.25681  ,  0.3826   ,  0.27012  ,  0.010105 ,  1.1858   ,\n",
       "        0.078387 ,  0.23757  , -0.22416  , -0.46367  , -0.11444  ,\n",
       "        0.42745  ,  0.067627 , -0.60983  , -0.32205  ,  0.01339  ,\n",
       "       -0.90489  , -0.59085  , -0.54262  ,  0.038177 ,  0.26254  ,\n",
       "       -0.48608  , -0.67201  , -0.19467  ,  0.44506  , -0.015086 ,\n",
       "        0.12684  , -0.22893  , -0.43972  , -0.28586  ,  0.97502  ,\n",
       "       -0.42715  , -0.1233   ,  0.075673 ,  0.45862  ,  0.034418 ,\n",
       "        0.50319  ,  0.60679  , -0.14117  ,  0.53496  ,  0.3081   ,\n",
       "       -0.050281 ,  0.92009  , -0.57103  ,  0.15543  , -0.53281  ,\n",
       "        0.22487  ,  0.047675 , -0.11702  ,  0.023302 ,  0.48066  ,\n",
       "        0.32323  ,  0.48286  , -0.077937 , -0.56635  , -0.11453  ,\n",
       "       -0.096774 ,  0.42104  , -0.092045 , -0.24884  ,  0.35041  ,\n",
       "       -0.53843  ,  0.068387 , -0.68428  , -0.03289  ,  0.54674  ,\n",
       "        0.1713   , -0.22755  ,  0.24394  ,  0.30109  , -0.28604  ,\n",
       "       -0.22465  ,  0.61919  ,  0.70778  ,  0.20569  , -0.54775  ,\n",
       "       -0.10008  ,  0.34525  , -0.25564  , -0.033961 ,  0.38147  ,\n",
       "        0.63915  ,  0.050139 ,  0.29565  , -0.42831  ,  0.084118 ,\n",
       "       -0.21119  , -0.6507   ,  0.41329  , -0.23817  , -0.35078  ,\n",
       "       -0.31607  ,  0.15297  ,  0.22448  , -0.11646  , -0.026967 ,\n",
       "       -0.5405   ,  0.18041  , -0.21579  , -0.26745  , -0.72969  ,\n",
       "        0.26434  ,  0.76484  , -0.38114  , -0.67944  ,  0.044177 ,\n",
       "        0.46778  , -0.063753 , -0.17335  ,  0.24122  ,  0.6166   ,\n",
       "        0.17902  ,  0.15437  , -0.0083225, -0.63259  ,  0.19359  ,\n",
       "        0.85552  , -0.18174  , -0.063458 , -0.14068  ,  0.15272  ,\n",
       "        0.12636  , -0.10597  , -0.56217  , -0.046115 ,  0.21409  ,\n",
       "       -0.51954  ,  0.074192 ,  0.51231  , -0.37272  , -0.060518 ,\n",
       "       -0.57737  ,  0.013105 , -0.033789 ,  0.26869  ,  0.127    ,\n",
       "       -0.071945 , -0.20471  ,  0.22576  , -0.08261  , -0.21659  ,\n",
       "        0.12034  ,  0.23374  ,  0.26821  ,  0.67073  , -0.30851  ,\n",
       "       -0.35952  ,  0.09142  ,  0.20159  ,  0.5311   , -0.64661  ,\n",
       "        0.73948  ,  0.88787  , -0.24411  ,  0.3325   ,  0.26109  ,\n",
       "        0.23054  ,  0.35422  ,  0.11941  , -0.3086   , -0.51582  ,\n",
       "       -0.057373 ,  0.63107  ,  0.51352  ,  0.22683  , -0.19394  ,\n",
       "       -0.35883  ,  0.59251  ,  0.16414  , -0.53162  , -0.046394 ,\n",
       "       -0.64119  ,  0.06741  , -0.24064  , -0.20553  , -0.17211  ,\n",
       "       -0.17934  ,  0.53536  ,  0.22407  ,  0.46562  , -0.033745 ,\n",
       "        0.47283  , -0.29233  ,  0.43278  , -0.66686  ,  0.3854   ,\n",
       "       -0.086005 ,  0.15553  , -0.49658  , -0.052847 , -0.90377  ,\n",
       "       -0.11946  , -0.83945  ,  0.21861  , -0.057343 ,  0.068007 ,\n",
       "       -0.21235  ,  1.0182   , -0.44631  ,  0.061527 , -0.20961  ,\n",
       "       -0.23497  ,  0.92251  ,  0.61586  , -0.13473  ,  0.016485 ,\n",
       "       -0.30735  ,  0.14294  , -0.028311 , -0.31627  ,  0.93848  ,\n",
       "       -0.56334  , -0.26828  , -0.017617 , -0.023079 , -0.30438  ,\n",
       "       -0.28121  , -0.43882  , -0.05091  ,  0.47211  , -0.25431  ,\n",
       "       -0.32339  ,  0.17379  ,  0.43204  , -0.46641  ,  0.31077  ,\n",
       "       -0.046674 ,  0.28811  , -0.064059 ,  0.24634  ,  0.18513  ,\n",
       "        0.23621  ,  0.16581  , -0.20243  ,  0.11228  , -0.39471  ,\n",
       "        0.31135  , -0.30037  , -0.51262  ,  0.57408  , -0.26718  ,\n",
       "       -0.1163   ,  0.26668  ,  0.34276  ,  0.12824  , -0.051224 ,\n",
       "        0.87852  , -0.44418  , -0.90795  , -0.67679  ,  0.6558   ,\n",
       "       -0.90329  ,  0.15478  ,  0.15396  , -0.72692  ,  0.16761  ],\n",
       "      dtype=float32)"
      ]
     },
     "execution_count": 2,
     "metadata": {},
     "output_type": "execute_result"
    }
   ],
   "source": [
    "nlp(u'ahmed').vector"
   ]
  },
  {
   "cell_type": "markdown",
   "id": "0599756c",
   "metadata": {},
   "source": [
    "# Example to show the similarity between words"
   ]
  },
  {
   "cell_type": "code",
   "execution_count": 17,
   "id": "9b928821",
   "metadata": {
    "ExecuteTime": {
     "end_time": "2022-06-25T16:50:34.570651Z",
     "start_time": "2022-06-25T16:50:34.548942Z"
    }
   },
   "outputs": [
    {
     "data": {
      "text/plain": [
       "0.7401743668099329"
      ]
     },
     "execution_count": 17,
     "metadata": {},
     "output_type": "execute_result"
    }
   ],
   "source": [
    "nlp(u'man').similarity(nlp(u'woman'))"
   ]
  },
  {
   "cell_type": "code",
   "execution_count": 18,
   "id": "b9407391",
   "metadata": {
    "ExecuteTime": {
     "end_time": "2022-06-25T16:50:45.653938Z",
     "start_time": "2022-06-25T16:50:45.624693Z"
    }
   },
   "outputs": [
    {
     "data": {
      "text/plain": [
       "0.672936515501758"
      ]
     },
     "execution_count": 18,
     "metadata": {},
     "output_type": "execute_result"
    }
   ],
   "source": [
    "nlp(u'man').similarity(nlp(u'men'))"
   ]
  },
  {
   "cell_type": "code",
   "execution_count": 19,
   "id": "426b2a4c",
   "metadata": {
    "ExecuteTime": {
     "end_time": "2022-06-25T16:50:55.338727Z",
     "start_time": "2022-06-25T16:50:55.315748Z"
    }
   },
   "outputs": [
    {
     "data": {
      "text/plain": [
       "0.36166378256137205"
      ]
     },
     "execution_count": 19,
     "metadata": {},
     "output_type": "execute_result"
    }
   ],
   "source": [
    "nlp(u'man').similarity(nlp(u'tree'))"
   ]
  },
  {
   "cell_type": "code",
   "execution_count": 20,
   "id": "528e10cb",
   "metadata": {
    "ExecuteTime": {
     "end_time": "2022-06-25T16:51:03.489732Z",
     "start_time": "2022-06-25T16:51:03.459310Z"
    }
   },
   "outputs": [
    {
     "data": {
      "text/plain": [
       "0.25448135009223377"
      ]
     },
     "execution_count": 20,
     "metadata": {},
     "output_type": "execute_result"
    }
   ],
   "source": [
    "nlp(u'man').similarity(nlp(u'chicken'))"
   ]
  },
  {
   "cell_type": "code",
   "execution_count": 21,
   "id": "ef9d575c",
   "metadata": {
    "ExecuteTime": {
     "end_time": "2022-06-25T16:51:13.627680Z",
     "start_time": "2022-06-25T16:51:13.594089Z"
    }
   },
   "outputs": [
    {
     "data": {
      "text/plain": [
       "0.11940194814516301"
      ]
     },
     "execution_count": 21,
     "metadata": {},
     "output_type": "execute_result"
    }
   ],
   "source": [
    "nlp(u'paper').similarity(nlp(u'men'))"
   ]
  },
  {
   "cell_type": "code",
   "execution_count": 25,
   "id": "021a2ab7",
   "metadata": {
    "ExecuteTime": {
     "end_time": "2022-06-25T16:51:35.354558Z",
     "start_time": "2022-06-25T16:51:35.330227Z"
    }
   },
   "outputs": [
    {
     "data": {
      "text/plain": [
       "0.7252610345406867"
      ]
     },
     "execution_count": 25,
     "metadata": {},
     "output_type": "execute_result"
    }
   ],
   "source": [
    "nlp(u'king').similarity(nlp(u'queen'))"
   ]
  },
  {
   "cell_type": "code",
   "execution_count": 26,
   "id": "929a03d9",
   "metadata": {
    "ExecuteTime": {
     "end_time": "2022-06-25T16:51:51.822759Z",
     "start_time": "2022-06-25T16:51:51.796384Z"
    },
    "scrolled": true
   },
   "outputs": [
    {
     "data": {
      "text/plain": [
       "0.5588116913424426"
      ]
     },
     "execution_count": 26,
     "metadata": {},
     "output_type": "execute_result"
    }
   ],
   "source": [
    "nlp(u'tree').similarity(nlp(u'flower'))"
   ]
  },
  {
   "cell_type": "markdown",
   "id": "8dd9411b",
   "metadata": {},
   "source": [
    "# This mean that if the words have the same chars are the same word embeeded ?? No"
   ]
  },
  {
   "cell_type": "code",
   "execution_count": 27,
   "id": "8b6a4fbc",
   "metadata": {
    "ExecuteTime": {
     "end_time": "2022-06-25T16:54:38.708236Z",
     "start_time": "2022-06-25T16:54:38.689234Z"
    }
   },
   "outputs": [
    {
     "data": {
      "text/plain": [
       "0.2194131798305039"
      ]
     },
     "execution_count": 27,
     "metadata": {},
     "output_type": "execute_result"
    }
   ],
   "source": [
    "nlp(u'piece').similarity(nlp(u'peace'))"
   ]
  },
  {
   "cell_type": "code",
   "execution_count": 29,
   "id": "df4b6e22",
   "metadata": {
    "ExecuteTime": {
     "end_time": "2022-06-25T16:55:07.582476Z",
     "start_time": "2022-06-25T16:55:07.563527Z"
    }
   },
   "outputs": [
    {
     "data": {
      "text/plain": [
       "0.19291049251681294"
      ]
     },
     "execution_count": 29,
     "metadata": {},
     "output_type": "execute_result"
    }
   ],
   "source": [
    "nlp(u'lion').similarity(nlp(u'dandelion'))"
   ]
  },
  {
   "cell_type": "markdown",
   "id": "2ac5e65b",
   "metadata": {},
   "source": [
    "dandelion: a small, bright yellow flower that grows wild and makes light, white seeds that are easily blown"
   ]
  },
  {
   "cell_type": "markdown",
   "id": "f74a8384",
   "metadata": {},
   "source": [
    "# Show the similarity between the word in one sentence "
   ]
  },
  {
   "cell_type": "code",
   "execution_count": 13,
   "id": "da5bb98c",
   "metadata": {
    "ExecuteTime": {
     "end_time": "2022-06-25T16:44:10.017661Z",
     "start_time": "2022-06-25T16:44:09.998712Z"
    }
   },
   "outputs": [],
   "source": [
    "string=nlp(u\"ahmed is ahmad but not aly\")"
   ]
  },
  {
   "cell_type": "code",
   "execution_count": 15,
   "id": "6f5e3589",
   "metadata": {
    "ExecuteTime": {
     "end_time": "2022-06-25T16:44:33.442316Z",
     "start_time": "2022-06-25T16:44:33.424344Z"
    }
   },
   "outputs": [
    {
     "name": "stdout",
     "output_type": "stream",
     "text": [
      "The word 'ahmed' is similar to word 'ahmed' by 1.0.\n",
      "The word 'ahmed' is similar to word 'is' by -0.07395856827497482.\n",
      "The word 'ahmed' is similar to word 'ahmad' by 0.7995602488517761.\n",
      "The word 'ahmed' is similar to word 'but' by -0.060461439192295074.\n",
      "The word 'ahmed' is similar to word 'not' by -0.003719043219462037.\n",
      "The word 'ahmed' is similar to word 'aly' by 0.389858216047287.\n",
      "--------------------------------------------------------\n",
      "The word 'is' is similar to word 'ahmed' by -0.07395856827497482.\n",
      "The word 'is' is similar to word 'is' by 1.0.\n",
      "The word 'is' is similar to word 'ahmad' by -0.07643015682697296.\n",
      "The word 'is' is similar to word 'but' by 0.6339516639709473.\n",
      "The word 'is' is similar to word 'not' by 0.6519985198974609.\n",
      "The word 'is' is similar to word 'aly' by -0.08181320875883102.\n",
      "--------------------------------------------------------\n",
      "The word 'ahmad' is similar to word 'ahmed' by 0.7995602488517761.\n",
      "The word 'ahmad' is similar to word 'is' by -0.07643015682697296.\n",
      "The word 'ahmad' is similar to word 'ahmad' by 1.0.\n",
      "The word 'ahmad' is similar to word 'but' by -0.08195596933364868.\n",
      "The word 'ahmad' is similar to word 'not' by -0.034975916147232056.\n",
      "The word 'ahmad' is similar to word 'aly' by 0.3743555247783661.\n",
      "--------------------------------------------------------\n",
      "The word 'but' is similar to word 'ahmed' by -0.060461439192295074.\n",
      "The word 'but' is similar to word 'is' by 0.6339516639709473.\n",
      "The word 'but' is similar to word 'ahmad' by -0.08195596933364868.\n",
      "The word 'but' is similar to word 'but' by 1.0.\n",
      "The word 'but' is similar to word 'not' by 0.8126070499420166.\n",
      "The word 'but' is similar to word 'aly' by -0.04183116927742958.\n",
      "--------------------------------------------------------\n",
      "The word 'not' is similar to word 'ahmed' by -0.003719043219462037.\n",
      "The word 'not' is similar to word 'is' by 0.6519985198974609.\n",
      "The word 'not' is similar to word 'ahmad' by -0.034975916147232056.\n",
      "The word 'not' is similar to word 'but' by 0.8126070499420166.\n",
      "The word 'not' is similar to word 'not' by 1.0.\n",
      "The word 'not' is similar to word 'aly' by -0.032568491995334625.\n",
      "--------------------------------------------------------\n",
      "The word 'aly' is similar to word 'ahmed' by 0.389858216047287.\n",
      "The word 'aly' is similar to word 'is' by -0.08181320875883102.\n",
      "The word 'aly' is similar to word 'ahmad' by 0.3743555247783661.\n",
      "The word 'aly' is similar to word 'but' by -0.04183116927742958.\n",
      "The word 'aly' is similar to word 'not' by -0.032568491995334625.\n",
      "The word 'aly' is similar to word 'aly' by 1.0.\n",
      "--------------------------------------------------------\n"
     ]
    }
   ],
   "source": [
    "for token1 in string:\n",
    "    for token2 in string:\n",
    "        print(f\"The word '{token1}' is similar to word '{token2}' by {token1.similarity(token2)}.\")\n",
    "    print(\"--------------------------------------------------------\")"
   ]
  },
  {
   "cell_type": "markdown",
   "id": "97b91a16",
   "metadata": {},
   "source": [
    "# Did Word embeeded works well on sentences ?? No , You need to use sentiment analysis to can get relation between sentences  "
   ]
  },
  {
   "cell_type": "code",
   "execution_count": 30,
   "id": "a2c7c43e",
   "metadata": {
    "ExecuteTime": {
     "end_time": "2022-06-25T17:02:48.342477Z",
     "start_time": "2022-06-25T17:02:48.309566Z"
    }
   },
   "outputs": [
    {
     "data": {
      "text/plain": [
       "0.9394985344221137"
      ]
     },
     "execution_count": 30,
     "metadata": {},
     "output_type": "execute_result"
    }
   ],
   "source": [
    "nlp(u'I love school').similarity(nlp(u'I hate school'))"
   ]
  },
  {
   "cell_type": "code",
   "execution_count": null,
   "id": "cfacbc84",
   "metadata": {},
   "outputs": [],
   "source": []
  }
 ],
 "metadata": {
  "kernelspec": {
   "display_name": "Python 3 (ipykernel)",
   "language": "python",
   "name": "python3"
  },
  "language_info": {
   "codemirror_mode": {
    "name": "ipython",
    "version": 3
   },
   "file_extension": ".py",
   "mimetype": "text/x-python",
   "name": "python",
   "nbconvert_exporter": "python",
   "pygments_lexer": "ipython3",
   "version": "3.9.7"
  }
 },
 "nbformat": 4,
 "nbformat_minor": 5
}
