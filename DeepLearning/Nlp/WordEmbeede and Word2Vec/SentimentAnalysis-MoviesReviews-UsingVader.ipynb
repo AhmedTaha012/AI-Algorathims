{
 "cells": [
  {
   "cell_type": "code",
   "execution_count": 1,
   "id": "3599b9c3",
   "metadata": {
    "ExecuteTime": {
     "end_time": "2022-06-26T02:56:44.384091Z",
     "start_time": "2022-06-26T02:56:42.507983Z"
    }
   },
   "outputs": [
    {
     "name": "stderr",
     "output_type": "stream",
     "text": [
      "[nltk_data] Downloading package vader_lexicon to\n",
      "[nltk_data]     C:\\Users\\DELL\\AppData\\Roaming\\nltk_data...\n",
      "[nltk_data]   Package vader_lexicon is already up-to-date!\n"
     ]
    }
   ],
   "source": [
    "import nltk\n",
    "import pandas as pd\n",
    "nltk.download('vader_lexicon')\n",
    "from nltk.sentiment.vader import SentimentIntensityAnalyzer"
   ]
  },
  {
   "cell_type": "code",
   "execution_count": 2,
   "id": "a60962f5",
   "metadata": {
    "ExecuteTime": {
     "end_time": "2022-06-26T02:58:01.091244Z",
     "start_time": "2022-06-26T02:58:00.867162Z"
    }
   },
   "outputs": [],
   "source": [
    "df=pd.read_csv(\"moviereviews.tsv\",sep=\"\\t\")"
   ]
  },
  {
   "cell_type": "code",
   "execution_count": 3,
   "id": "55b97a42",
   "metadata": {
    "ExecuteTime": {
     "end_time": "2022-06-26T02:58:07.270003Z",
     "start_time": "2022-06-26T02:58:07.251777Z"
    }
   },
   "outputs": [
    {
     "data": {
      "text/html": [
       "<div>\n",
       "<style scoped>\n",
       "    .dataframe tbody tr th:only-of-type {\n",
       "        vertical-align: middle;\n",
       "    }\n",
       "\n",
       "    .dataframe tbody tr th {\n",
       "        vertical-align: top;\n",
       "    }\n",
       "\n",
       "    .dataframe thead th {\n",
       "        text-align: right;\n",
       "    }\n",
       "</style>\n",
       "<table border=\"1\" class=\"dataframe\">\n",
       "  <thead>\n",
       "    <tr style=\"text-align: right;\">\n",
       "      <th></th>\n",
       "      <th>label</th>\n",
       "      <th>review</th>\n",
       "    </tr>\n",
       "  </thead>\n",
       "  <tbody>\n",
       "    <tr>\n",
       "      <th>0</th>\n",
       "      <td>neg</td>\n",
       "      <td>how do films like mouse hunt get into theatres...</td>\n",
       "    </tr>\n",
       "    <tr>\n",
       "      <th>1</th>\n",
       "      <td>neg</td>\n",
       "      <td>some talented actresses are blessed with a dem...</td>\n",
       "    </tr>\n",
       "    <tr>\n",
       "      <th>2</th>\n",
       "      <td>pos</td>\n",
       "      <td>this has been an extraordinary year for austra...</td>\n",
       "    </tr>\n",
       "    <tr>\n",
       "      <th>3</th>\n",
       "      <td>pos</td>\n",
       "      <td>according to hollywood movies made in last few...</td>\n",
       "    </tr>\n",
       "    <tr>\n",
       "      <th>4</th>\n",
       "      <td>neg</td>\n",
       "      <td>my first press screening of 1998 and already i...</td>\n",
       "    </tr>\n",
       "  </tbody>\n",
       "</table>\n",
       "</div>"
      ],
      "text/plain": [
       "  label                                             review\n",
       "0   neg  how do films like mouse hunt get into theatres...\n",
       "1   neg  some talented actresses are blessed with a dem...\n",
       "2   pos  this has been an extraordinary year for austra...\n",
       "3   pos  according to hollywood movies made in last few...\n",
       "4   neg  my first press screening of 1998 and already i..."
      ]
     },
     "execution_count": 3,
     "metadata": {},
     "output_type": "execute_result"
    }
   ],
   "source": [
    "df.head()"
   ]
  },
  {
   "cell_type": "code",
   "execution_count": 4,
   "id": "67ce9d3e",
   "metadata": {
    "ExecuteTime": {
     "end_time": "2022-06-26T02:58:19.984594Z",
     "start_time": "2022-06-26T02:58:19.966576Z"
    }
   },
   "outputs": [
    {
     "data": {
      "text/plain": [
       "label      0\n",
       "review    35\n",
       "dtype: int64"
      ]
     },
     "execution_count": 4,
     "metadata": {},
     "output_type": "execute_result"
    }
   ],
   "source": [
    "df.isnull().sum()"
   ]
  },
  {
   "cell_type": "code",
   "execution_count": 5,
   "id": "14acfc7a",
   "metadata": {
    "ExecuteTime": {
     "end_time": "2022-06-26T02:58:42.208134Z",
     "start_time": "2022-06-26T02:58:42.194169Z"
    }
   },
   "outputs": [],
   "source": [
    "df.dropna(inplace=True)"
   ]
  },
  {
   "cell_type": "code",
   "execution_count": 6,
   "id": "e606dfe8",
   "metadata": {
    "ExecuteTime": {
     "end_time": "2022-06-26T02:58:51.217918Z",
     "start_time": "2022-06-26T02:58:51.200157Z"
    }
   },
   "outputs": [
    {
     "data": {
      "text/plain": [
       "label     0\n",
       "review    0\n",
       "dtype: int64"
      ]
     },
     "execution_count": 6,
     "metadata": {},
     "output_type": "execute_result"
    }
   ],
   "source": [
    "df.isnull().sum()"
   ]
  },
  {
   "cell_type": "code",
   "execution_count": 7,
   "id": "b6b20afa",
   "metadata": {
    "ExecuteTime": {
     "end_time": "2022-06-26T02:59:08.282534Z",
     "start_time": "2022-06-26T02:59:08.253605Z"
    }
   },
   "outputs": [],
   "source": [
    "sid=SentimentIntensityAnalyzer()"
   ]
  },
  {
   "cell_type": "code",
   "execution_count": 8,
   "id": "6b5cf8db",
   "metadata": {
    "ExecuteTime": {
     "end_time": "2022-06-26T03:01:05.839664Z",
     "start_time": "2022-06-26T03:00:53.722698Z"
    }
   },
   "outputs": [],
   "source": [
    "df[\"predication\"]=df['review'].apply(lambda x:'pos' if sid.polarity_scores(x)['compound']>0 else 'neg')"
   ]
  },
  {
   "cell_type": "code",
   "execution_count": 9,
   "id": "0b0d2c46",
   "metadata": {
    "ExecuteTime": {
     "end_time": "2022-06-26T03:01:14.632710Z",
     "start_time": "2022-06-26T03:01:14.617703Z"
    }
   },
   "outputs": [
    {
     "data": {
      "text/html": [
       "<div>\n",
       "<style scoped>\n",
       "    .dataframe tbody tr th:only-of-type {\n",
       "        vertical-align: middle;\n",
       "    }\n",
       "\n",
       "    .dataframe tbody tr th {\n",
       "        vertical-align: top;\n",
       "    }\n",
       "\n",
       "    .dataframe thead th {\n",
       "        text-align: right;\n",
       "    }\n",
       "</style>\n",
       "<table border=\"1\" class=\"dataframe\">\n",
       "  <thead>\n",
       "    <tr style=\"text-align: right;\">\n",
       "      <th></th>\n",
       "      <th>label</th>\n",
       "      <th>review</th>\n",
       "      <th>predication</th>\n",
       "    </tr>\n",
       "  </thead>\n",
       "  <tbody>\n",
       "    <tr>\n",
       "      <th>0</th>\n",
       "      <td>neg</td>\n",
       "      <td>how do films like mouse hunt get into theatres...</td>\n",
       "      <td>neg</td>\n",
       "    </tr>\n",
       "    <tr>\n",
       "      <th>1</th>\n",
       "      <td>neg</td>\n",
       "      <td>some talented actresses are blessed with a dem...</td>\n",
       "      <td>neg</td>\n",
       "    </tr>\n",
       "    <tr>\n",
       "      <th>2</th>\n",
       "      <td>pos</td>\n",
       "      <td>this has been an extraordinary year for austra...</td>\n",
       "      <td>pos</td>\n",
       "    </tr>\n",
       "    <tr>\n",
       "      <th>3</th>\n",
       "      <td>pos</td>\n",
       "      <td>according to hollywood movies made in last few...</td>\n",
       "      <td>pos</td>\n",
       "    </tr>\n",
       "    <tr>\n",
       "      <th>4</th>\n",
       "      <td>neg</td>\n",
       "      <td>my first press screening of 1998 and already i...</td>\n",
       "      <td>neg</td>\n",
       "    </tr>\n",
       "  </tbody>\n",
       "</table>\n",
       "</div>"
      ],
      "text/plain": [
       "  label                                             review predication\n",
       "0   neg  how do films like mouse hunt get into theatres...         neg\n",
       "1   neg  some talented actresses are blessed with a dem...         neg\n",
       "2   pos  this has been an extraordinary year for austra...         pos\n",
       "3   pos  according to hollywood movies made in last few...         pos\n",
       "4   neg  my first press screening of 1998 and already i...         neg"
      ]
     },
     "execution_count": 9,
     "metadata": {},
     "output_type": "execute_result"
    }
   ],
   "source": [
    "df.head()"
   ]
  },
  {
   "cell_type": "code",
   "execution_count": 15,
   "id": "df847708",
   "metadata": {
    "ExecuteTime": {
     "end_time": "2022-06-26T03:03:30.154134Z",
     "start_time": "2022-06-26T03:03:30.150105Z"
    }
   },
   "outputs": [],
   "source": [
    "from sklearn.metrics import accuracy_score,confusion_matrix,classification_report"
   ]
  },
  {
   "cell_type": "code",
   "execution_count": 11,
   "id": "2bb4bbbb",
   "metadata": {
    "ExecuteTime": {
     "end_time": "2022-06-26T03:02:32.745515Z",
     "start_time": "2022-06-26T03:02:32.726524Z"
    }
   },
   "outputs": [
    {
     "data": {
      "text/plain": [
       "0.6340966921119593"
      ]
     },
     "execution_count": 11,
     "metadata": {},
     "output_type": "execute_result"
    }
   ],
   "source": [
    "accuracy_score(df['label'],df['predication'])"
   ]
  },
  {
   "cell_type": "code",
   "execution_count": 12,
   "id": "98bc7a0d",
   "metadata": {
    "ExecuteTime": {
     "end_time": "2022-06-26T03:02:57.550392Z",
     "start_time": "2022-06-26T03:02:57.533401Z"
    }
   },
   "outputs": [],
   "source": [
    "cm=confusion_matrix(df['label'],df['predication'])"
   ]
  },
  {
   "cell_type": "code",
   "execution_count": 19,
   "id": "6c0b4545",
   "metadata": {
    "ExecuteTime": {
     "end_time": "2022-06-26T03:04:59.215304Z",
     "start_time": "2022-06-26T03:04:59.207284Z"
    }
   },
   "outputs": [
    {
     "name": "stdout",
     "output_type": "stream",
     "text": [
      "[[441 542]\n",
      " [177 805]]\n"
     ]
    }
   ],
   "source": [
    "print(cm)"
   ]
  },
  {
   "cell_type": "code",
   "execution_count": 13,
   "id": "a1c51acb",
   "metadata": {
    "ExecuteTime": {
     "end_time": "2022-06-26T03:03:10.099401Z",
     "start_time": "2022-06-26T03:03:09.983921Z"
    }
   },
   "outputs": [],
   "source": [
    "import seaborn as sns\n",
    "import matplotlib.pyplot as plt"
   ]
  },
  {
   "cell_type": "code",
   "execution_count": 14,
   "id": "716e5558",
   "metadata": {
    "ExecuteTime": {
     "end_time": "2022-06-26T03:03:16.986987Z",
     "start_time": "2022-06-26T03:03:16.182518Z"
    }
   },
   "outputs": [
    {
     "data": {
      "text/plain": [
       "<AxesSubplot:>"
      ]
     },
     "execution_count": 14,
     "metadata": {},
     "output_type": "execute_result"
    },
    {
     "data": {
      "image/png": "[encoded data removed]",
      "text/plain": [
       "<Figure size 504x360 with 2 Axes>"
      ]
     },
     "metadata": {
      "needs_background": "light"
     },
     "output_type": "display_data"
    }
   ],
   "source": [
    "plt.figure(figsize=(7,5))\n",
    "sns.heatmap(cm, annot=True)"
   ]
  },
  {
   "cell_type": "code",
   "execution_count": 17,
   "id": "d1fcfa9c",
   "metadata": {
    "ExecuteTime": {
     "end_time": "2022-06-26T03:03:59.480087Z",
     "start_time": "2022-06-26T03:03:59.435193Z"
    }
   },
   "outputs": [
    {
     "name": "stdout",
     "output_type": "stream",
     "text": [
      "              precision    recall  f1-score   support\n",
      "\n",
      "         neg       0.71      0.45      0.55       983\n",
      "         pos       0.60      0.82      0.69       982\n",
      "\n",
      "    accuracy                           0.63      1965\n",
      "   macro avg       0.66      0.63      0.62      1965\n",
      "weighted avg       0.66      0.63      0.62      1965\n",
      "\n"
     ]
    }
   ],
   "source": [
    "print(classification_report(df['label'],df['predication']))"
   ]
  },
  {
   "cell_type": "code",
   "execution_count": null,
   "id": "6219fec6",
   "metadata": {},
   "outputs": [],
   "source": []
  }
 ],
 "metadata": {
  "kernelspec": {
   "display_name": "Python 3 (ipykernel)",
   "language": "python",
   "name": "python3"
  },
  "language_info": {
   "codemirror_mode": {
    "name": "ipython",
    "version": 3
   },
   "file_extension": ".py",
   "mimetype": "text/x-python",
   "name": "python",
   "nbconvert_exporter": "python",
   "pygments_lexer": "ipython3",
   "version": "3.9.7"
  }
 },
 "nbformat": 4,
 "nbformat_minor": 5
}
