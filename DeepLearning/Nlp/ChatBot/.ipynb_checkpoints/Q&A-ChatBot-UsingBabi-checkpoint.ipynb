{
 "cells": [
  {
   "cell_type": "markdown",
   "id": "a8165782",
   "metadata": {
    "ExecuteTime": {
     "end_time": "2022-06-27T19:44:04.634542Z",
     "start_time": "2022-06-27T19:44:04.378474Z"
    }
   },
   "source": [
    "### Step1-LoadData"
   ]
  },
  {
   "cell_type": "code",
   "execution_count": 2,
   "id": "43e76f10",
   "metadata": {
    "ExecuteTime": {
     "end_time": "2022-06-27T19:44:29.745057Z",
     "start_time": "2022-06-27T19:44:26.138083Z"
    }
   },
   "outputs": [],
   "source": [
    "import pickle \n",
    "import numpy as np"
   ]
  },
  {
   "cell_type": "markdown",
   "id": "4a94c357",
   "metadata": {},
   "source": [
    "### read train and test data"
   ]
  },
  {
   "cell_type": "code",
   "execution_count": 4,
   "id": "ead0cb85",
   "metadata": {
    "ExecuteTime": {
     "end_time": "2022-06-27T19:46:22.667154Z",
     "start_time": "2022-06-27T19:46:22.603281Z"
    }
   },
   "outputs": [],
   "source": [
    "with open(\"train_qa.txt\",\"rb\") as train:\n",
    "    train_data=pickle.load(train)"
   ]
  },
  {
   "cell_type": "code",
   "execution_count": 6,
   "id": "f664db96",
   "metadata": {
    "ExecuteTime": {
     "end_time": "2022-06-27T19:46:51.803910Z",
     "start_time": "2022-06-27T19:46:51.782519Z"
    }
   },
   "outputs": [],
   "source": [
    "with open(\"test_qa.txt\",\"rb\") as test:\n",
    "    test_data=pickle.load(test)"
   ]
  },
  {
   "cell_type": "markdown",
   "id": "21175c00",
   "metadata": {},
   "source": [
    "### The length will be ?? "
   ]
  },
  {
   "cell_type": "code",
   "execution_count": 7,
   "id": "012554a9",
   "metadata": {
    "ExecuteTime": {
     "end_time": "2022-06-27T19:47:39.508844Z",
     "start_time": "2022-06-27T19:47:39.494885Z"
    }
   },
   "outputs": [
    {
     "data": {
      "text/plain": [
       "1000"
      ]
     },
     "execution_count": 7,
     "metadata": {},
     "output_type": "execute_result"
    }
   ],
   "source": [
    "len(test_data)"
   ]
  },
  {
   "cell_type": "code",
   "execution_count": 8,
   "id": "1c7ec111",
   "metadata": {
    "ExecuteTime": {
     "end_time": "2022-06-27T19:47:45.459283Z",
     "start_time": "2022-06-27T19:47:45.443282Z"
    }
   },
   "outputs": [
    {
     "data": {
      "text/plain": [
       "10000"
      ]
     },
     "execution_count": 8,
     "metadata": {},
     "output_type": "execute_result"
    }
   ],
   "source": [
    "len(train_data)"
   ]
  },
  {
   "cell_type": "markdown",
   "id": "a32a4a87",
   "metadata": {},
   "source": [
    "### what the data look like??"
   ]
  },
  {
   "cell_type": "markdown",
   "id": "d61aa165",
   "metadata": {},
   "source": [
    "#### The first element in the list is the story the second element is the question of the story the last element is the question answer"
   ]
  },
  {
   "cell_type": "code",
   "execution_count": 9,
   "id": "76db4f27",
   "metadata": {
    "ExecuteTime": {
     "end_time": "2022-06-27T19:48:12.071601Z",
     "start_time": "2022-06-27T19:48:12.056124Z"
    },
    "scrolled": true
   },
   "outputs": [
    {
     "data": {
      "text/plain": [
       "(['Mary',\n",
       "  'moved',\n",
       "  'to',\n",
       "  'the',\n",
       "  'bathroom',\n",
       "  '.',\n",
       "  'Sandra',\n",
       "  'journeyed',\n",
       "  'to',\n",
       "  'the',\n",
       "  'bedroom',\n",
       "  '.'],\n",
       " ['Is', 'Sandra', 'in', 'the', 'hallway', '?'],\n",
       " 'no')"
      ]
     },
     "execution_count": 9,
     "metadata": {},
     "output_type": "execute_result"
    }
   ],
   "source": [
    "train_data[0]"
   ]
  },
  {
   "cell_type": "markdown",
   "id": "0c9cef25",
   "metadata": {},
   "source": [
    "### Story is"
   ]
  },
  {
   "cell_type": "code",
   "execution_count": 11,
   "id": "89ed261f",
   "metadata": {
    "ExecuteTime": {
     "end_time": "2022-06-27T19:51:19.289450Z",
     "start_time": "2022-06-27T19:51:19.276484Z"
    }
   },
   "outputs": [
    {
     "data": {
      "text/plain": [
       "'Mary moved to the bathroom . Sandra journeyed to the bedroom .'"
      ]
     },
     "execution_count": 11,
     "metadata": {},
     "output_type": "execute_result"
    }
   ],
   "source": [
    "\" \".join(train_data[0][0])"
   ]
  },
  {
   "cell_type": "markdown",
   "id": "a1a4ffa3",
   "metadata": {},
   "source": [
    "### Question is"
   ]
  },
  {
   "cell_type": "code",
   "execution_count": 12,
   "id": "12bc457c",
   "metadata": {
    "ExecuteTime": {
     "end_time": "2022-06-27T19:51:26.082206Z",
     "start_time": "2022-06-27T19:51:26.062016Z"
    }
   },
   "outputs": [
    {
     "data": {
      "text/plain": [
       "'Is Sandra in the hallway ?'"
      ]
     },
     "execution_count": 12,
     "metadata": {},
     "output_type": "execute_result"
    }
   ],
   "source": [
    "\" \".join(train_data[0][1])"
   ]
  },
  {
   "cell_type": "markdown",
   "id": "7bb626ee",
   "metadata": {},
   "source": [
    "### Answer is "
   ]
  },
  {
   "cell_type": "code",
   "execution_count": 13,
   "id": "5e889eba",
   "metadata": {
    "ExecuteTime": {
     "end_time": "2022-06-27T19:51:47.630247Z",
     "start_time": "2022-06-27T19:51:47.621241Z"
    }
   },
   "outputs": [
    {
     "data": {
      "text/plain": [
       "'n o'"
      ]
     },
     "execution_count": 13,
     "metadata": {},
     "output_type": "execute_result"
    }
   ],
   "source": [
    "\" \".join(train_data[0][2])"
   ]
  },
  {
   "cell_type": "markdown",
   "id": "f4ab8fbb",
   "metadata": {},
   "source": [
    "## Now we need to make an vocabulary of our large data to "
   ]
  },
  {
   "cell_type": "code",
   "execution_count": 14,
   "id": "66d7008d",
   "metadata": {
    "ExecuteTime": {
     "end_time": "2022-06-28T00:37:46.696890Z",
     "start_time": "2022-06-28T00:37:46.691868Z"
    }
   },
   "outputs": [],
   "source": [
    "alldata=test_data+train_data"
   ]
  },
  {
   "cell_type": "markdown",
   "id": "cf85e443",
   "metadata": {},
   "source": [
    "## Will make a set to contains the unique words"
   ]
  },
  {
   "cell_type": "code",
   "execution_count": 16,
   "id": "53e996b9",
   "metadata": {
    "ExecuteTime": {
     "end_time": "2022-06-28T00:40:32.939334Z",
     "start_time": "2022-06-28T00:40:32.898438Z"
    }
   },
   "outputs": [],
   "source": [
    " vocab=set()\n",
    "for story,question,answer in alldata:\n",
    "    vocab=vocab.union(set(story))\n",
    "    vocab=vocab.union(set(question))\n",
    "vocab.add(\"yes\")\n",
    "vocab.add(\"no\")"
   ]
  },
  {
   "cell_type": "markdown",
   "id": "94484e08",
   "metadata": {},
   "source": [
    "# Vocab length is "
   ]
  },
  {
   "cell_type": "code",
   "execution_count": 17,
   "id": "e686e178",
   "metadata": {
    "ExecuteTime": {
     "end_time": "2022-06-28T00:41:18.984530Z",
     "start_time": "2022-06-28T00:41:18.968530Z"
    }
   },
   "outputs": [],
   "source": [
    "vocableng=len(vocab)+1  ## +1 for keras "
   ]
  },
  {
   "cell_type": "markdown",
   "id": "cbb4d03d",
   "metadata": {},
   "source": [
    "## Get all stories length"
   ]
  },
  {
   "cell_type": "code",
   "execution_count": 48,
   "id": "ffb8e538",
   "metadata": {
    "ExecuteTime": {
     "end_time": "2022-06-28T01:17:45.692535Z",
     "start_time": "2022-06-28T01:17:45.684574Z"
    }
   },
   "outputs": [],
   "source": [
    "storieslength=[len(i[0]) for i in alldata]"
   ]
  },
  {
   "cell_type": "code",
   "execution_count": 49,
   "id": "8e70cb8d",
   "metadata": {
    "ExecuteTime": {
     "end_time": "2022-06-28T01:17:46.501815Z",
     "start_time": "2022-06-28T01:17:46.494814Z"
    }
   },
   "outputs": [],
   "source": [
    "max_story_len=max(storieslength)"
   ]
  },
  {
   "cell_type": "code",
   "execution_count": 22,
   "id": "3d7024da",
   "metadata": {
    "ExecuteTime": {
     "end_time": "2022-06-28T00:43:53.786649Z",
     "start_time": "2022-06-28T00:43:53.778672Z"
    }
   },
   "outputs": [],
   "source": [
    "Qlength=[len(i[1]) for i in alldata]"
   ]
  },
  {
   "cell_type": "code",
   "execution_count": 23,
   "id": "b196c91c",
   "metadata": {
    "ExecuteTime": {
     "end_time": "2022-06-28T00:44:21.064438Z",
     "start_time": "2022-06-28T00:44:21.058454Z"
    }
   },
   "outputs": [],
   "source": [
    "max_Qlength_len=max(Qlength)"
   ]
  },
  {
   "cell_type": "code",
   "execution_count": 25,
   "id": "c73c79f8",
   "metadata": {
    "ExecuteTime": {
     "end_time": "2022-06-28T00:46:43.779879Z",
     "start_time": "2022-06-28T00:46:43.775884Z"
    }
   },
   "outputs": [],
   "source": [
    "## time for model "
   ]
  },
  {
   "cell_type": "code",
   "execution_count": 26,
   "id": "bb6221c5",
   "metadata": {
    "ExecuteTime": {
     "end_time": "2022-06-28T00:48:00.069113Z",
     "start_time": "2022-06-28T00:48:00.061125Z"
    }
   },
   "outputs": [],
   "source": [
    "from keras.preprocessing.sequence import pad_sequences"
   ]
  },
  {
   "cell_type": "code",
   "execution_count": 27,
   "id": "7fdb4f55",
   "metadata": {
    "ExecuteTime": {
     "end_time": "2022-06-28T00:48:33.112551Z",
     "start_time": "2022-06-28T00:48:33.103578Z"
    }
   },
   "outputs": [],
   "source": [
    "from keras.preprocessing.text import Tokenizer"
   ]
  },
  {
   "cell_type": "code",
   "execution_count": 28,
   "id": "e1bd0162",
   "metadata": {
    "ExecuteTime": {
     "end_time": "2022-06-28T00:49:16.456411Z",
     "start_time": "2022-06-28T00:49:16.448391Z"
    }
   },
   "outputs": [],
   "source": [
    "tokenizer=Tokenizer(filters=[])\n",
    "tokenizer.fit_on_texts(vocab)"
   ]
  },
  {
   "cell_type": "code",
   "execution_count": 29,
   "id": "24611896",
   "metadata": {
    "ExecuteTime": {
     "end_time": "2022-06-28T00:49:24.569415Z",
     "start_time": "2022-06-28T00:49:24.551441Z"
    },
    "scrolled": true
   },
   "outputs": [
    {
     "data": {
      "text/plain": [
       "{'back': 1,\n",
       " 'the': 2,\n",
       " 'took': 3,\n",
       " 'went': 4,\n",
       " 'moved': 5,\n",
       " 'mary': 6,\n",
       " 'is': 7,\n",
       " 'apple': 8,\n",
       " 'grabbed': 9,\n",
       " '?': 10,\n",
       " 'office': 11,\n",
       " 'milk': 12,\n",
       " 'no': 13,\n",
       " 'left': 14,\n",
       " 'bedroom': 15,\n",
       " 'hallway': 16,\n",
       " 'got': 17,\n",
       " 'in': 18,\n",
       " 'daniel': 19,\n",
       " 'john': 20,\n",
       " 'sandra': 21,\n",
       " 'travelled': 22,\n",
       " 'yes': 23,\n",
       " 'there': 24,\n",
       " '.': 25,\n",
       " 'up': 26,\n",
       " 'put': 27,\n",
       " 'to': 28,\n",
       " 'football': 29,\n",
       " 'journeyed': 30,\n",
       " 'kitchen': 31,\n",
       " 'discarded': 32,\n",
       " 'bathroom': 33,\n",
       " 'picked': 34,\n",
       " 'down': 35,\n",
       " 'garden': 36,\n",
       " 'dropped': 37}"
      ]
     },
     "execution_count": 29,
     "metadata": {},
     "output_type": "execute_result"
    }
   ],
   "source": [
    "tokenizer.word_index"
   ]
  },
  {
   "cell_type": "markdown",
   "id": "e8d9066d",
   "metadata": {},
   "source": [
    "### Now the time to convert our text train data to numbers using keras tokenizer sequence "
   ]
  },
  {
   "cell_type": "code",
   "execution_count": 30,
   "id": "676c1af4",
   "metadata": {
    "ExecuteTime": {
     "end_time": "2022-06-28T00:57:01.130297Z",
     "start_time": "2022-06-28T00:57:01.120325Z"
    }
   },
   "outputs": [],
   "source": [
    "train_Story_text=[]\n",
    "train_question_text=[]\n",
    "train_answers=[]\n",
    "for story,question,answer in train_data:\n",
    "    train_Story_text.append(story)\n",
    "    train_question_text.append(question)\n",
    "    train_answers.append(answer)"
   ]
  },
  {
   "cell_type": "code",
   "execution_count": 31,
   "id": "f2ccbdfe",
   "metadata": {
    "ExecuteTime": {
     "end_time": "2022-06-28T00:57:40.817804Z",
     "start_time": "2022-06-28T00:57:40.674950Z"
    }
   },
   "outputs": [],
   "source": [
    "train_story_Seq=tokenizer.texts_to_sequences(train_Story_text)"
   ]
  },
  {
   "cell_type": "code",
   "execution_count": 32,
   "id": "7ab6b349",
   "metadata": {
    "ExecuteTime": {
     "end_time": "2022-06-28T00:57:46.422417Z",
     "start_time": "2022-06-28T00:57:46.403426Z"
    }
   },
   "outputs": [
    {
     "data": {
      "text/plain": [
       "[6, 5, 28, 2, 33, 25, 21, 30, 28, 2, 15, 25]"
      ]
     },
     "execution_count": 32,
     "metadata": {},
     "output_type": "execute_result"
    }
   ],
   "source": [
    "train_story_Seq[0]"
   ]
  },
  {
   "cell_type": "code",
   "execution_count": 33,
   "id": "7fba5cd4",
   "metadata": {
    "ExecuteTime": {
     "end_time": "2022-06-28T00:59:15.677449Z",
     "start_time": "2022-06-28T00:59:15.658929Z"
    }
   },
   "outputs": [
    {
     "data": {
      "text/plain": [
       "['Mary',\n",
       " 'moved',\n",
       " 'to',\n",
       " 'the',\n",
       " 'bathroom',\n",
       " '.',\n",
       " 'Sandra',\n",
       " 'journeyed',\n",
       " 'to',\n",
       " 'the',\n",
       " 'bedroom',\n",
       " '.']"
      ]
     },
     "execution_count": 33,
     "metadata": {},
     "output_type": "execute_result"
    }
   ],
   "source": [
    "train_Story_text[0]"
   ]
  },
  {
   "cell_type": "markdown",
   "id": "40704522",
   "metadata": {},
   "source": [
    "#### now we need to padding the text to be sure that all the data that can goes to the neural netword are in same shape and length "
   ]
  },
  {
   "cell_type": "code",
   "execution_count": 64,
   "id": "92408576",
   "metadata": {
    "ExecuteTime": {
     "end_time": "2022-06-28T01:32:06.765567Z",
     "start_time": "2022-06-28T01:32:06.744623Z"
    }
   },
   "outputs": [],
   "source": [
    "def vectorize_Story(data,word_index=tokenizer.word_index,max_story_len=max_story_len,max_question_len=max_Qlength_len):\n",
    "    ## Stories\n",
    "    x=[]\n",
    "    ## question\n",
    "    xq=[]\n",
    "    ## correct answer ()\n",
    "    y=[]\n",
    "    \n",
    "    for story,q,ans in data:\n",
    "        X=[word_index[word.lower()] for word in story] ## index of each word in story\n",
    "        XQ=[word_index[word.lower()] for word in q] ## index of each word in question\n",
    "        Y=np.zeros(len(word_index)+1) ## array of zeros to can contains the reuslts 0 for no one for yes\n",
    "        Y[word_index[ans]]=1 ## using logic to can assign 1 if result is yes\n",
    "        ## append the result to  to can genrate the full document\n",
    "        x.append(X)\n",
    "        xq.append(XQ)\n",
    "        y.append(Y)\n",
    "        \n",
    "   # RETURN TUPLE FOR UNPACKING\n",
    "    return (pad_sequences(x, maxlen=max_story_len),pad_sequences(xq, maxlen=max_question_len), np.array(y))\n",
    "    "
   ]
  },
  {
   "cell_type": "code",
   "execution_count": 66,
   "id": "88574f13",
   "metadata": {
    "ExecuteTime": {
     "end_time": "2022-06-28T01:32:16.225803Z",
     "start_time": "2022-06-28T01:32:16.049055Z"
    }
   },
   "outputs": [],
   "source": [
    "story_train,ques_train,answer_train=vectorize_Story(train_data)"
   ]
  },
  {
   "cell_type": "code",
   "execution_count": 67,
   "id": "561ca88c",
   "metadata": {
    "ExecuteTime": {
     "end_time": "2022-06-28T01:32:23.750771Z",
     "start_time": "2022-06-28T01:32:23.710209Z"
    }
   },
   "outputs": [],
   "source": [
    "story_test,ques_test,answer_test=vectorize_Story(test_data)"
   ]
  },
  {
   "cell_type": "code",
   "execution_count": 68,
   "id": "14ec7833",
   "metadata": {
    "ExecuteTime": {
     "end_time": "2022-06-28T01:32:26.149152Z",
     "start_time": "2022-06-28T01:32:26.134192Z"
    },
    "scrolled": true
   },
   "outputs": [
    {
     "data": {
      "text/plain": [
       "array([[ 0,  0,  0, ...,  2, 15, 25],\n",
       "       [ 0,  0,  0, ...,  2, 36, 25],\n",
       "       [ 0,  0,  0, ...,  2, 36, 25],\n",
       "       ...,\n",
       "       [ 0,  0,  0, ...,  2,  8, 25],\n",
       "       [ 0,  0,  0, ...,  2, 36, 25],\n",
       "       [ 0,  0,  0, ...,  8, 24, 25]])"
      ]
     },
     "execution_count": 68,
     "metadata": {},
     "output_type": "execute_result"
    }
   ],
   "source": [
    "story_test"
   ]
  },
  {
   "cell_type": "code",
   "execution_count": 70,
   "id": "e93f0988",
   "metadata": {
    "ExecuteTime": {
     "end_time": "2022-06-28T01:34:50.418484Z",
     "start_time": "2022-06-28T01:34:50.413493Z"
    }
   },
   "outputs": [
    {
     "data": {
      "text/plain": [
       "1000"
      ]
     },
     "execution_count": 70,
     "metadata": {},
     "output_type": "execute_result"
    }
   ],
   "source": [
    "len(story_test)"
   ]
  },
  {
   "cell_type": "code",
   "execution_count": 69,
   "id": "72522c2b",
   "metadata": {
    "ExecuteTime": {
     "end_time": "2022-06-28T01:32:28.793009Z",
     "start_time": "2022-06-28T01:32:28.779000Z"
    }
   },
   "outputs": [
    {
     "data": {
      "text/plain": [
       "array([[0., 0., 0., ..., 0., 0., 0.],\n",
       "       [0., 0., 0., ..., 0., 0., 0.],\n",
       "       [0., 0., 0., ..., 0., 0., 0.],\n",
       "       ...,\n",
       "       [0., 0., 0., ..., 0., 0., 0.],\n",
       "       [0., 0., 0., ..., 0., 0., 0.],\n",
       "       [0., 0., 0., ..., 0., 0., 0.]])"
      ]
     },
     "execution_count": 69,
     "metadata": {},
     "output_type": "execute_result"
    }
   ],
   "source": [
    "answer_test"
   ]
  },
  {
   "cell_type": "code",
   "execution_count": 71,
   "id": "1cbcb4e1",
   "metadata": {
    "ExecuteTime": {
     "end_time": "2022-06-28T01:35:21.130181Z",
     "start_time": "2022-06-28T01:35:21.112626Z"
    }
   },
   "outputs": [
    {
     "data": {
      "text/plain": [
       "23"
      ]
     },
     "execution_count": 71,
     "metadata": {},
     "output_type": "execute_result"
    }
   ],
   "source": [
    "tokenizer.word_index['yes']"
   ]
  },
  {
   "cell_type": "code",
   "execution_count": 72,
   "id": "ff86f8ce",
   "metadata": {
    "ExecuteTime": {
     "end_time": "2022-06-28T01:35:37.194510Z",
     "start_time": "2022-06-28T01:35:37.172526Z"
    }
   },
   "outputs": [
    {
     "data": {
      "text/plain": [
       "13"
      ]
     },
     "execution_count": 72,
     "metadata": {},
     "output_type": "execute_result"
    }
   ],
   "source": [
    "tokenizer.word_index['no']"
   ]
  },
  {
   "cell_type": "code",
   "execution_count": 73,
   "id": "eb00dce8",
   "metadata": {
    "ExecuteTime": {
     "end_time": "2022-06-28T01:35:48.831801Z",
     "start_time": "2022-06-28T01:35:48.774907Z"
    }
   },
   "outputs": [
    {
     "data": {
      "text/plain": [
       "array([  0.,   0.,   0.,   0.,   0.,   0.,   0.,   0.,   0.,   0.,   0.,\n",
       "         0.,   0., 503.,   0.,   0.,   0.,   0.,   0.,   0.,   0.,   0.,\n",
       "         0., 497.,   0.,   0.,   0.,   0.,   0.,   0.,   0.,   0.,   0.,\n",
       "         0.,   0.,   0.,   0.,   0.])"
      ]
     },
     "execution_count": 73,
     "metadata": {},
     "output_type": "execute_result"
    }
   ],
   "source": [
    "sum(answer_test)"
   ]
  },
  {
   "cell_type": "markdown",
   "id": "a2418461",
   "metadata": {},
   "source": [
    "# Now the time for build the network\n",
    "### -input encoder M \n",
    "### -input encoder C\n",
    "### -Question Encoder \n",
    "### the network is based on this paper check it :\n",
    "https://proceedings.neurips.cc/paper/2015/file/8fb21ee7a2207526da55a679f0332de2-Paper.pdf"
   ]
  },
  {
   "cell_type": "code",
   "execution_count": 74,
   "id": "19d4e0d4",
   "metadata": {
    "ExecuteTime": {
     "end_time": "2022-06-28T01:44:59.722524Z",
     "start_time": "2022-06-28T01:44:59.703554Z"
    }
   },
   "outputs": [],
   "source": [
    "from keras.models import Sequential, Model\n",
    "from keras.layers.embeddings import Embedding\n",
    "from keras.layers import Input, Activation, Dense, Permute, Dropout\n",
    "from keras.layers import add, dot, concatenate\n",
    "from keras.layers import LSTM"
   ]
  },
  {
   "cell_type": "code",
   "execution_count": 75,
   "id": "7f885321",
   "metadata": {
    "ExecuteTime": {
     "end_time": "2022-06-28T01:47:59.527779Z",
     "start_time": "2022-06-28T01:47:59.457672Z"
    }
   },
   "outputs": [],
   "source": [
    "# Place holder for the length of story and questions since our network takes two inputs\n",
    "input_sequence=Input((max_story_len,))\n",
    "qu=Input((max_Qlength_len,))\n"
   ]
  },
  {
   "cell_type": "code",
   "execution_count": 77,
   "id": "ab0e0713",
   "metadata": {
    "ExecuteTime": {
     "end_time": "2022-06-28T01:48:29.056867Z",
     "start_time": "2022-06-28T01:48:29.042905Z"
    }
   },
   "outputs": [],
   "source": [
    "# size of our vocabs\n",
    "vocab_size=len(vocab)+1"
   ]
  },
  {
   "cell_type": "code",
   "execution_count": 78,
   "id": "6bcea605",
   "metadata": {
    "ExecuteTime": {
     "end_time": "2022-06-28T01:50:05.821415Z",
     "start_time": "2022-06-28T01:50:05.489856Z"
    }
   },
   "outputs": [],
   "source": [
    "#Encoder M\n",
    "input_encoder_m=Sequential()\n",
    "input_encoder_m.add(Embedding(input_dim=vocab_size,output_dim=64)) ## 64 from paper\n",
    "## add droup out to avoid the over fitting \n",
    "input_encoder_m.add(Dropout(0.3))"
   ]
  },
  {
   "cell_type": "code",
   "execution_count": 79,
   "id": "ca65ae89",
   "metadata": {
    "ExecuteTime": {
     "end_time": "2022-06-28T01:51:19.219782Z",
     "start_time": "2022-06-28T01:51:19.193823Z"
    }
   },
   "outputs": [],
   "source": [
    "#Encoder C\n",
    "input_encoder_c=Sequential()\n",
    "input_encoder_c.add(Embedding(input_dim=vocab_size,output_dim=max_Qlength_len))\n",
    "## add droup out to avoid the over fitting \n",
    "input_encoder_m.add(Dropout(0.3))"
   ]
  },
  {
   "cell_type": "code",
   "execution_count": 80,
   "id": "4643b934",
   "metadata": {
    "ExecuteTime": {
     "end_time": "2022-06-28T01:53:10.937696Z",
     "start_time": "2022-06-28T01:53:10.909729Z"
    }
   },
   "outputs": [],
   "source": [
    "question_Encoder=Sequential()\n",
    "question_Encoder.add(Embedding(input_dim=vocab_size,output_dim=64,input_length=max_Qlength_len))\n",
    "## add droup out to avoid the over fitting \n",
    "question_Encoder.add(Dropout(0.3))"
   ]
  },
  {
   "cell_type": "code",
   "execution_count": 81,
   "id": "4bc166b6",
   "metadata": {
    "ExecuteTime": {
     "end_time": "2022-06-28T01:57:44.968827Z",
     "start_time": "2022-06-28T01:57:44.948907Z"
    }
   },
   "outputs": [],
   "source": [
    "input_encoded_m=input_encoder_m(input_sequence)\n",
    "input_encoded_c=input_encoder_c(input_sequence)\n",
    "question_Encoded=question_Encoder(qu)"
   ]
  },
  {
   "cell_type": "code",
   "execution_count": 83,
   "id": "8aab4d0e",
   "metadata": {
    "ExecuteTime": {
     "end_time": "2022-06-28T01:59:33.155405Z",
     "start_time": "2022-06-28T01:59:33.137452Z"
    }
   },
   "outputs": [],
   "source": [
    "## Now will use the dot product as the paper to can multiplt the m with questions and then passes it to soft max\n",
    "match=dot([input_encoded_m,question_Encoded],axes=(2,2))\n",
    "match=Activation('softmax')(match)"
   ]
  },
  {
   "cell_type": "code",
   "execution_count": 84,
   "id": "fdc5fc12",
   "metadata": {
    "ExecuteTime": {
     "end_time": "2022-06-28T02:00:28.860571Z",
     "start_time": "2022-06-28T02:00:28.838629Z"
    }
   },
   "outputs": [],
   "source": [
    "response=add([match,input_encoded_c])\n",
    "response=Permute((2,1))(response)"
   ]
  },
  {
   "cell_type": "code",
   "execution_count": 85,
   "id": "887e9d63",
   "metadata": {
    "ExecuteTime": {
     "end_time": "2022-06-28T02:00:57.474853Z",
     "start_time": "2022-06-28T02:00:57.461873Z"
    }
   },
   "outputs": [],
   "source": [
    "answer=concatenate([response,question_Encoded])"
   ]
  },
  {
   "cell_type": "code",
   "execution_count": 86,
   "id": "4df23532",
   "metadata": {
    "ExecuteTime": {
     "end_time": "2022-06-28T02:01:04.712410Z",
     "start_time": "2022-06-28T02:01:04.699447Z"
    }
   },
   "outputs": [
    {
     "data": {
      "text/plain": [
       "<KerasTensor: shape=(None, 6, 220) dtype=float32 (created by layer 'concatenate')>"
      ]
     },
     "execution_count": 86,
     "metadata": {},
     "output_type": "execute_result"
    }
   ],
   "source": [
    "answer"
   ]
  },
  {
   "cell_type": "code",
   "execution_count": 87,
   "id": "6f6a6e03",
   "metadata": {
    "ExecuteTime": {
     "end_time": "2022-06-28T02:01:38.003344Z",
     "start_time": "2022-06-28T02:01:37.637837Z"
    }
   },
   "outputs": [],
   "source": [
    "answer=LSTM(32)(answer)"
   ]
  },
  {
   "cell_type": "code",
   "execution_count": 88,
   "id": "2f807e52",
   "metadata": {
    "ExecuteTime": {
     "end_time": "2022-06-28T02:02:15.720433Z",
     "start_time": "2022-06-28T02:02:15.692491Z"
    }
   },
   "outputs": [],
   "source": [
    "answer=Dropout(0.5)(answer)\n",
    "answer=Dense(vocab_size)(answer)"
   ]
  },
  {
   "cell_type": "code",
   "execution_count": 89,
   "id": "6552d0bc",
   "metadata": {
    "ExecuteTime": {
     "end_time": "2022-06-28T02:02:42.282563Z",
     "start_time": "2022-06-28T02:02:42.270596Z"
    }
   },
   "outputs": [],
   "source": [
    "## passes the answer to the softmax to get the results"
   ]
  },
  {
   "cell_type": "code",
   "execution_count": 90,
   "id": "fc6e24d5",
   "metadata": {
    "ExecuteTime": {
     "end_time": "2022-06-28T02:03:14.172793Z",
     "start_time": "2022-06-28T02:03:14.154853Z"
    }
   },
   "outputs": [],
   "source": [
    "model=Model([input_sequence,qu],answer)"
   ]
  },
  {
   "cell_type": "code",
   "execution_count": 92,
   "id": "a903d244",
   "metadata": {
    "ExecuteTime": {
     "end_time": "2022-06-28T02:04:14.037235Z",
     "start_time": "2022-06-28T02:04:14.013255Z"
    }
   },
   "outputs": [],
   "source": [
    "model.compile(optimizer='rmsprop',loss='categorical_crossentropy',metrics=['accuracy'])"
   ]
  },
  {
   "cell_type": "code",
   "execution_count": 94,
   "id": "6f76c81e",
   "metadata": {
    "ExecuteTime": {
     "end_time": "2022-06-28T02:04:28.659098Z",
     "start_time": "2022-06-28T02:04:28.627186Z"
    }
   },
   "outputs": [
    {
     "name": "stdout",
     "output_type": "stream",
     "text": [
      "Model: \"model\"\n",
      "__________________________________________________________________________________________________\n",
      " Layer (type)                   Output Shape         Param #     Connected to                     \n",
      "==================================================================================================\n",
      " input_1 (InputLayer)           [(None, 156)]        0           []                               \n",
      "                                                                                                  \n",
      " input_2 (InputLayer)           [(None, 6)]          0           []                               \n",
      "                                                                                                  \n",
      " sequential (Sequential)        (None, None, 64)     2432        ['input_1[0][0]']                \n",
      "                                                                                                  \n",
      " sequential_2 (Sequential)      (None, 6, 64)        2432        ['input_2[0][0]']                \n",
      "                                                                                                  \n",
      " dot_1 (Dot)                    (None, 156, 6)       0           ['sequential[0][0]',             \n",
      "                                                                  'sequential_2[0][0]']           \n",
      "                                                                                                  \n",
      " activation_1 (Activation)      (None, 156, 6)       0           ['dot_1[0][0]']                  \n",
      "                                                                                                  \n",
      " sequential_1 (Sequential)      (None, None, 6)      228         ['input_1[0][0]']                \n",
      "                                                                                                  \n",
      " add (Add)                      (None, 156, 6)       0           ['activation_1[0][0]',           \n",
      "                                                                  'sequential_1[0][0]']           \n",
      "                                                                                                  \n",
      " permute (Permute)              (None, 6, 156)       0           ['add[0][0]']                    \n",
      "                                                                                                  \n",
      " concatenate (Concatenate)      (None, 6, 220)       0           ['permute[0][0]',                \n",
      "                                                                  'sequential_2[0][0]']           \n",
      "                                                                                                  \n",
      " lstm (LSTM)                    (None, 32)           32384       ['concatenate[0][0]']            \n",
      "                                                                                                  \n",
      " dropout_3 (Dropout)            (None, 32)           0           ['lstm[0][0]']                   \n",
      "                                                                                                  \n",
      " dense (Dense)                  (None, 38)           1254        ['dropout_3[0][0]']              \n",
      "                                                                                                  \n",
      "==================================================================================================\n",
      "Total params: 38,730\n",
      "Trainable params: 38,730\n",
      "Non-trainable params: 0\n",
      "__________________________________________________________________________________________________\n"
     ]
    }
   ],
   "source": [
    "model.summary()"
   ]
  },
  {
   "cell_type": "code",
   "execution_count": null,
   "id": "adf14e76",
   "metadata": {},
   "outputs": [],
   "source": []
  }
 ],
 "metadata": {
  "kernelspec": {
   "display_name": "Python 3 (ipykernel)",
   "language": "python",
   "name": "python3"
  },
  "language_info": {
   "codemirror_mode": {
    "name": "ipython",
    "version": 3
   },
   "file_extension": ".py",
   "mimetype": "text/x-python",
   "name": "python",
   "nbconvert_exporter": "python",
   "pygments_lexer": "ipython3",
   "version": "3.9.7"
  }
 },
 "nbformat": 4,
 "nbformat_minor": 5
}
