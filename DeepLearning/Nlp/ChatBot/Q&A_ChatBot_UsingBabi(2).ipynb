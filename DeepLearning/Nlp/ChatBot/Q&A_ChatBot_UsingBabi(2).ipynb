{
  "cells": [
    {
      "cell_type": "markdown",
      "id": "a8165782",
      "metadata": {
        "ExecuteTime": {
          "end_time": "2022-06-27T19:44:04.634542Z",
          "start_time": "2022-06-27T19:44:04.378474Z"
        },
        "id": "a8165782"
      },
      "source": [
        "### Step1-LoadData"
      ]
    },
    {
      "cell_type": "code",
      "execution_count": 198,
      "id": "43e76f10",
      "metadata": {
        "ExecuteTime": {
          "end_time": "2022-06-27T19:44:29.745057Z",
          "start_time": "2022-06-27T19:44:26.138083Z"
        },
        "id": "43e76f10"
      },
      "outputs": [],
      "source": [
        "import pickle \n",
        "import numpy as np"
      ]
    },
    {
      "cell_type": "markdown",
      "id": "4a94c357",
      "metadata": {
        "id": "4a94c357"
      },
      "source": [
        "### read train and test data"
      ]
    },
    {
      "cell_type": "code",
      "execution_count": 199,
      "id": "ead0cb85",
      "metadata": {
        "ExecuteTime": {
          "end_time": "2022-06-27T19:46:22.667154Z",
          "start_time": "2022-06-27T19:46:22.603281Z"
        },
        "id": "ead0cb85"
      },
      "outputs": [],
      "source": [
        "with open(\"train_qa.txt\",\"rb\") as train:\n",
        "    train_data=pickle.load(train)"
      ]
    },
    {
      "cell_type": "code",
      "execution_count": 200,
      "id": "f664db96",
      "metadata": {
        "ExecuteTime": {
          "end_time": "2022-06-27T19:46:51.803910Z",
          "start_time": "2022-06-27T19:46:51.782519Z"
        },
        "id": "f664db96"
      },
      "outputs": [],
      "source": [
        "with open(\"test_qa.txt\",\"rb\") as test:\n",
        "    test_data=pickle.load(test)"
      ]
    },
    {
      "cell_type": "markdown",
      "id": "21175c00",
      "metadata": {
        "id": "21175c00"
      },
      "source": [
        "### The length will be ?? "
      ]
    },
    {
      "cell_type": "code",
      "execution_count": 201,
      "id": "012554a9",
      "metadata": {
        "ExecuteTime": {
          "end_time": "2022-06-27T19:47:39.508844Z",
          "start_time": "2022-06-27T19:47:39.494885Z"
        },
        "id": "012554a9",
        "colab": {
          "base_uri": "https://localhost:8080/"
        },
        "outputId": "c6c61022-a354-44d3-e0fe-3ec2d1dc3a4e"
      },
      "outputs": [
        {
          "output_type": "execute_result",
          "data": {
            "text/plain": [
              "1000"
            ]
          },
          "metadata": {},
          "execution_count": 201
        }
      ],
      "source": [
        "len(test_data)"
      ]
    },
    {
      "cell_type": "code",
      "execution_count": 202,
      "id": "1c7ec111",
      "metadata": {
        "ExecuteTime": {
          "end_time": "2022-06-27T19:47:45.459283Z",
          "start_time": "2022-06-27T19:47:45.443282Z"
        },
        "id": "1c7ec111",
        "colab": {
          "base_uri": "https://localhost:8080/"
        },
        "outputId": "fca62cb2-88d3-40c4-df29-d0f929500459"
      },
      "outputs": [
        {
          "output_type": "execute_result",
          "data": {
            "text/plain": [
              "10000"
            ]
          },
          "metadata": {},
          "execution_count": 202
        }
      ],
      "source": [
        "len(train_data)"
      ]
    },
    {
      "cell_type": "markdown",
      "id": "a32a4a87",
      "metadata": {
        "id": "a32a4a87"
      },
      "source": [
        "### what the data look like??"
      ]
    },
    {
      "cell_type": "markdown",
      "id": "d61aa165",
      "metadata": {
        "id": "d61aa165"
      },
      "source": [
        "#### The first element in the list is the story the second element is the question of the story the last element is the question answer"
      ]
    },
    {
      "cell_type": "code",
      "execution_count": 203,
      "id": "76db4f27",
      "metadata": {
        "ExecuteTime": {
          "end_time": "2022-06-27T19:48:12.071601Z",
          "start_time": "2022-06-27T19:48:12.056124Z"
        },
        "scrolled": true,
        "id": "76db4f27",
        "colab": {
          "base_uri": "https://localhost:8080/"
        },
        "outputId": "c0b9c034-1e29-4957-d1b6-6ae2ea4b662e"
      },
      "outputs": [
        {
          "output_type": "execute_result",
          "data": {
            "text/plain": [
              "(['Mary',\n",
              "  'moved',\n",
              "  'to',\n",
              "  'the',\n",
              "  'bathroom',\n",
              "  '.',\n",
              "  'Sandra',\n",
              "  'journeyed',\n",
              "  'to',\n",
              "  'the',\n",
              "  'bedroom',\n",
              "  '.'],\n",
              " ['Is', 'Sandra', 'in', 'the', 'hallway', '?'],\n",
              " 'no')"
            ]
          },
          "metadata": {},
          "execution_count": 203
        }
      ],
      "source": [
        "train_data[0]"
      ]
    },
    {
      "cell_type": "markdown",
      "id": "0c9cef25",
      "metadata": {
        "id": "0c9cef25"
      },
      "source": [
        "### Story is"
      ]
    },
    {
      "cell_type": "code",
      "execution_count": 204,
      "id": "89ed261f",
      "metadata": {
        "ExecuteTime": {
          "end_time": "2022-06-27T19:51:19.289450Z",
          "start_time": "2022-06-27T19:51:19.276484Z"
        },
        "id": "89ed261f",
        "colab": {
          "base_uri": "https://localhost:8080/",
          "height": 35
        },
        "outputId": "caa00950-7348-4a8a-f062-e1bc2bda93e5"
      },
      "outputs": [
        {
          "output_type": "execute_result",
          "data": {
            "text/plain": [
              "'Mary moved to the bathroom . Sandra journeyed to the bedroom .'"
            ],
            "application/vnd.google.colaboratory.intrinsic+json": {
              "type": "string"
            }
          },
          "metadata": {},
          "execution_count": 204
        }
      ],
      "source": [
        "\" \".join(train_data[0][0])"
      ]
    },
    {
      "cell_type": "markdown",
      "id": "a1a4ffa3",
      "metadata": {
        "id": "a1a4ffa3"
      },
      "source": [
        "### Question is"
      ]
    },
    {
      "cell_type": "code",
      "execution_count": 205,
      "id": "12bc457c",
      "metadata": {
        "ExecuteTime": {
          "end_time": "2022-06-27T19:51:26.082206Z",
          "start_time": "2022-06-27T19:51:26.062016Z"
        },
        "id": "12bc457c",
        "colab": {
          "base_uri": "https://localhost:8080/",
          "height": 35
        },
        "outputId": "162473ff-7291-47ec-b51d-25226df63b99"
      },
      "outputs": [
        {
          "output_type": "execute_result",
          "data": {
            "text/plain": [
              "'Is Sandra in the hallway ?'"
            ],
            "application/vnd.google.colaboratory.intrinsic+json": {
              "type": "string"
            }
          },
          "metadata": {},
          "execution_count": 205
        }
      ],
      "source": [
        "\" \".join(train_data[0][1])"
      ]
    },
    {
      "cell_type": "markdown",
      "id": "7bb626ee",
      "metadata": {
        "id": "7bb626ee"
      },
      "source": [
        "### Answer is "
      ]
    },
    {
      "cell_type": "code",
      "execution_count": 206,
      "id": "5e889eba",
      "metadata": {
        "ExecuteTime": {
          "end_time": "2022-06-27T19:51:47.630247Z",
          "start_time": "2022-06-27T19:51:47.621241Z"
        },
        "id": "5e889eba",
        "colab": {
          "base_uri": "https://localhost:8080/",
          "height": 35
        },
        "outputId": "84a8b140-832b-42c3-eda5-b91efb0fb00a"
      },
      "outputs": [
        {
          "output_type": "execute_result",
          "data": {
            "text/plain": [
              "'n o'"
            ],
            "application/vnd.google.colaboratory.intrinsic+json": {
              "type": "string"
            }
          },
          "metadata": {},
          "execution_count": 206
        }
      ],
      "source": [
        "\" \".join(train_data[0][2])"
      ]
    },
    {
      "cell_type": "markdown",
      "id": "f4ab8fbb",
      "metadata": {
        "id": "f4ab8fbb"
      },
      "source": [
        "## Now we need to make an vocabulary of our large data to "
      ]
    },
    {
      "cell_type": "code",
      "execution_count": 207,
      "id": "66d7008d",
      "metadata": {
        "ExecuteTime": {
          "end_time": "2022-06-28T00:37:46.696890Z",
          "start_time": "2022-06-28T00:37:46.691868Z"
        },
        "id": "66d7008d"
      },
      "outputs": [],
      "source": [
        "alldata=test_data+train_data"
      ]
    },
    {
      "cell_type": "markdown",
      "id": "cf85e443",
      "metadata": {
        "id": "cf85e443"
      },
      "source": [
        "## Will make a set to contains the unique words"
      ]
    },
    {
      "cell_type": "code",
      "execution_count": 208,
      "id": "53e996b9",
      "metadata": {
        "ExecuteTime": {
          "end_time": "2022-06-28T00:40:32.939334Z",
          "start_time": "2022-06-28T00:40:32.898438Z"
        },
        "id": "53e996b9"
      },
      "outputs": [],
      "source": [
        "vocab=set()\n",
        "for story,question,answer in alldata:\n",
        "    vocab=vocab.union(set(story))\n",
        "    vocab=vocab.union(set(question))\n",
        "vocab.add(\"yes\")\n",
        "vocab.add(\"no\")"
      ]
    },
    {
      "cell_type": "markdown",
      "id": "94484e08",
      "metadata": {
        "id": "94484e08"
      },
      "source": [
        "# Vocab length is "
      ]
    },
    {
      "cell_type": "code",
      "execution_count": 209,
      "id": "e686e178",
      "metadata": {
        "ExecuteTime": {
          "end_time": "2022-06-28T00:41:18.984530Z",
          "start_time": "2022-06-28T00:41:18.968530Z"
        },
        "id": "e686e178"
      },
      "outputs": [],
      "source": [
        "vocableng=len(vocab)+1  ## +1 for keras "
      ]
    },
    {
      "cell_type": "markdown",
      "id": "cbb4d03d",
      "metadata": {
        "id": "cbb4d03d"
      },
      "source": [
        "## Get all stories length"
      ]
    },
    {
      "cell_type": "code",
      "execution_count": 210,
      "id": "ffb8e538",
      "metadata": {
        "ExecuteTime": {
          "end_time": "2022-06-28T01:17:45.692535Z",
          "start_time": "2022-06-28T01:17:45.684574Z"
        },
        "id": "ffb8e538"
      },
      "outputs": [],
      "source": [
        "storieslength=[len(i[0]) for i in alldata]"
      ]
    },
    {
      "cell_type": "code",
      "execution_count": 211,
      "id": "8e70cb8d",
      "metadata": {
        "ExecuteTime": {
          "end_time": "2022-06-28T01:17:46.501815Z",
          "start_time": "2022-06-28T01:17:46.494814Z"
        },
        "id": "8e70cb8d"
      },
      "outputs": [],
      "source": [
        "max_story_len=max(storieslength)"
      ]
    },
    {
      "cell_type": "code",
      "execution_count": 212,
      "id": "3d7024da",
      "metadata": {
        "ExecuteTime": {
          "end_time": "2022-06-28T00:43:53.786649Z",
          "start_time": "2022-06-28T00:43:53.778672Z"
        },
        "id": "3d7024da"
      },
      "outputs": [],
      "source": [
        "Qlength=[len(i[1]) for i in alldata]"
      ]
    },
    {
      "cell_type": "code",
      "execution_count": 213,
      "id": "b196c91c",
      "metadata": {
        "ExecuteTime": {
          "end_time": "2022-06-28T00:44:21.064438Z",
          "start_time": "2022-06-28T00:44:21.058454Z"
        },
        "id": "b196c91c"
      },
      "outputs": [],
      "source": [
        "max_Qlength_len=max(Qlength)"
      ]
    },
    {
      "cell_type": "code",
      "source": [
        "max_Qlength_len"
      ],
      "metadata": {
        "colab": {
          "base_uri": "https://localhost:8080/"
        },
        "id": "Qih5kBaWK5Wm",
        "outputId": "3cc3517b-7c70-4369-f785-6e04575e0b46"
      },
      "id": "Qih5kBaWK5Wm",
      "execution_count": 214,
      "outputs": [
        {
          "output_type": "execute_result",
          "data": {
            "text/plain": [
              "6"
            ]
          },
          "metadata": {},
          "execution_count": 214
        }
      ]
    },
    {
      "cell_type": "code",
      "source": [
        "vocab"
      ],
      "metadata": {
        "colab": {
          "base_uri": "https://localhost:8080/"
        },
        "id": "kK9W-SLkLTB7",
        "outputId": "2672491a-25e7-4198-a0f1-2417ed479614"
      },
      "id": "kK9W-SLkLTB7",
      "execution_count": 215,
      "outputs": [
        {
          "output_type": "execute_result",
          "data": {
            "text/plain": [
              "{'.',\n",
              " '?',\n",
              " 'Daniel',\n",
              " 'Is',\n",
              " 'John',\n",
              " 'Mary',\n",
              " 'Sandra',\n",
              " 'apple',\n",
              " 'back',\n",
              " 'bathroom',\n",
              " 'bedroom',\n",
              " 'discarded',\n",
              " 'down',\n",
              " 'dropped',\n",
              " 'football',\n",
              " 'garden',\n",
              " 'got',\n",
              " 'grabbed',\n",
              " 'hallway',\n",
              " 'in',\n",
              " 'journeyed',\n",
              " 'kitchen',\n",
              " 'left',\n",
              " 'milk',\n",
              " 'moved',\n",
              " 'no',\n",
              " 'office',\n",
              " 'picked',\n",
              " 'put',\n",
              " 'the',\n",
              " 'there',\n",
              " 'to',\n",
              " 'took',\n",
              " 'travelled',\n",
              " 'up',\n",
              " 'went',\n",
              " 'yes'}"
            ]
          },
          "metadata": {},
          "execution_count": 215
        }
      ]
    },
    {
      "cell_type": "code",
      "execution_count": 216,
      "id": "c73c79f8",
      "metadata": {
        "ExecuteTime": {
          "end_time": "2022-06-28T00:46:43.779879Z",
          "start_time": "2022-06-28T00:46:43.775884Z"
        },
        "id": "c73c79f8"
      },
      "outputs": [],
      "source": [
        "## time for preprocessing"
      ]
    },
    {
      "cell_type": "code",
      "execution_count": 217,
      "id": "bb6221c5",
      "metadata": {
        "ExecuteTime": {
          "end_time": "2022-06-28T00:48:00.069113Z",
          "start_time": "2022-06-28T00:48:00.061125Z"
        },
        "id": "bb6221c5"
      },
      "outputs": [],
      "source": [
        "from keras.preprocessing.sequence import pad_sequences\n",
        "from keras.preprocessing.text import Tokenizer"
      ]
    },
    {
      "cell_type": "code",
      "execution_count": 218,
      "id": "e1bd0162",
      "metadata": {
        "ExecuteTime": {
          "end_time": "2022-06-28T00:49:16.456411Z",
          "start_time": "2022-06-28T00:49:16.448391Z"
        },
        "id": "e1bd0162"
      },
      "outputs": [],
      "source": [
        "# integer encode sequences of words\n",
        "tokenizer = Tokenizer(filters=[])\n",
        "tokenizer.fit_on_texts(vocab)"
      ]
    },
    {
      "cell_type": "code",
      "execution_count": 219,
      "id": "24611896",
      "metadata": {
        "ExecuteTime": {
          "end_time": "2022-06-28T00:49:24.569415Z",
          "start_time": "2022-06-28T00:49:24.551441Z"
        },
        "scrolled": true,
        "id": "24611896",
        "colab": {
          "base_uri": "https://localhost:8080/"
        },
        "outputId": "790fd349-7e64-4053-d6ef-da538dfd381f"
      },
      "outputs": [
        {
          "output_type": "execute_result",
          "data": {
            "text/plain": [
              "{'.': 25,\n",
              " '?': 13,\n",
              " 'apple': 21,\n",
              " 'back': 22,\n",
              " 'bathroom': 16,\n",
              " 'bedroom': 11,\n",
              " 'daniel': 1,\n",
              " 'discarded': 34,\n",
              " 'down': 33,\n",
              " 'dropped': 8,\n",
              " 'football': 3,\n",
              " 'garden': 2,\n",
              " 'got': 32,\n",
              " 'grabbed': 20,\n",
              " 'hallway': 14,\n",
              " 'in': 10,\n",
              " 'is': 17,\n",
              " 'john': 26,\n",
              " 'journeyed': 18,\n",
              " 'kitchen': 9,\n",
              " 'left': 4,\n",
              " 'mary': 5,\n",
              " 'milk': 24,\n",
              " 'moved': 23,\n",
              " 'no': 35,\n",
              " 'office': 30,\n",
              " 'picked': 36,\n",
              " 'put': 19,\n",
              " 'sandra': 28,\n",
              " 'the': 37,\n",
              " 'there': 15,\n",
              " 'to': 12,\n",
              " 'took': 31,\n",
              " 'travelled': 6,\n",
              " 'up': 29,\n",
              " 'went': 7,\n",
              " 'yes': 27}"
            ]
          },
          "metadata": {},
          "execution_count": 219
        }
      ],
      "source": [
        "tokenizer.word_index"
      ]
    },
    {
      "cell_type": "markdown",
      "id": "e8d9066d",
      "metadata": {
        "id": "e8d9066d"
      },
      "source": [
        "### Now the time to convert our text train data to numbers using keras tokenizer sequence "
      ]
    },
    {
      "cell_type": "code",
      "execution_count": 220,
      "id": "676c1af4",
      "metadata": {
        "ExecuteTime": {
          "end_time": "2022-06-28T00:57:01.130297Z",
          "start_time": "2022-06-28T00:57:01.120325Z"
        },
        "id": "676c1af4"
      },
      "outputs": [],
      "source": [
        "train_Story_text=[]\n",
        "train_question_text=[]\n",
        "for story,question,answer in train_data:\n",
        "    train_Story_text.append(story)\n",
        "    train_question_text.append(question)\n",
        "    "
      ]
    },
    {
      "cell_type": "code",
      "execution_count": 221,
      "id": "f2ccbdfe",
      "metadata": {
        "ExecuteTime": {
          "end_time": "2022-06-28T00:57:40.817804Z",
          "start_time": "2022-06-28T00:57:40.674950Z"
        },
        "id": "f2ccbdfe"
      },
      "outputs": [],
      "source": [
        "train_story_Seq=tokenizer.texts_to_sequences(train_Story_text)"
      ]
    },
    {
      "cell_type": "code",
      "execution_count": 222,
      "id": "7ab6b349",
      "metadata": {
        "ExecuteTime": {
          "end_time": "2022-06-28T00:57:46.422417Z",
          "start_time": "2022-06-28T00:57:46.403426Z"
        },
        "id": "7ab6b349",
        "colab": {
          "base_uri": "https://localhost:8080/"
        },
        "outputId": "749ecaee-28da-4808-83a8-8829f11a9d32"
      },
      "outputs": [
        {
          "output_type": "execute_result",
          "data": {
            "text/plain": [
              "[5, 23, 12, 37, 16, 25, 28, 18, 12, 37, 11, 25]"
            ]
          },
          "metadata": {},
          "execution_count": 222
        }
      ],
      "source": [
        "train_story_Seq[0]"
      ]
    },
    {
      "cell_type": "code",
      "execution_count": 223,
      "id": "7fba5cd4",
      "metadata": {
        "ExecuteTime": {
          "end_time": "2022-06-28T00:59:15.677449Z",
          "start_time": "2022-06-28T00:59:15.658929Z"
        },
        "id": "7fba5cd4",
        "colab": {
          "base_uri": "https://localhost:8080/"
        },
        "outputId": "982c2857-4022-4532-d91b-48a3a7972e0b"
      },
      "outputs": [
        {
          "output_type": "execute_result",
          "data": {
            "text/plain": [
              "['Mary',\n",
              " 'moved',\n",
              " 'to',\n",
              " 'the',\n",
              " 'bathroom',\n",
              " '.',\n",
              " 'Sandra',\n",
              " 'journeyed',\n",
              " 'to',\n",
              " 'the',\n",
              " 'bedroom',\n",
              " '.']"
            ]
          },
          "metadata": {},
          "execution_count": 223
        }
      ],
      "source": [
        "train_Story_text[0]"
      ]
    },
    {
      "cell_type": "markdown",
      "id": "40704522",
      "metadata": {
        "id": "40704522"
      },
      "source": [
        "#### now we need to padding the text to be sure that all the data that can goes to the neural netword are in same shape and length "
      ]
    },
    {
      "cell_type": "code",
      "execution_count": 224,
      "id": "92408576",
      "metadata": {
        "ExecuteTime": {
          "end_time": "2022-06-28T01:32:06.765567Z",
          "start_time": "2022-06-28T01:32:06.744623Z"
        },
        "id": "92408576"
      },
      "outputs": [],
      "source": [
        "def vectorize_Story(data,word_index=tokenizer.word_index,max_story_len=max_story_len,max_question_len=max_Qlength_len):\n",
        "    ## Stories\n",
        "    x=[]\n",
        "    ## question\n",
        "    xq=[]\n",
        "    ## correct answer ()\n",
        "    y=[]\n",
        "    \n",
        "    for story,q,ans in data:\n",
        "        X=[word_index[word.lower()] for word in story] ## index of each word in story\n",
        "        XQ=[word_index[word.lower()] for word in q] ## index of each word in question\n",
        "        Y=np.zeros(len(word_index)+1) ## array of zeros to can contains the reuslts 0 for no one for yes\n",
        "        Y[word_index[ans]]=1 ## using logic to can assign 1 if result is yes\n",
        "        ## append the result to  to can genrate the full document\n",
        "        x.append(X)\n",
        "        xq.append(XQ)\n",
        "        y.append(Y)\n",
        "        \n",
        "   # RETURN TUPLE FOR UNPACKING\n",
        "    return (pad_sequences(x, maxlen=max_story_len),pad_sequences(xq, maxlen=max_question_len), np.array(y))\n",
        "    "
      ]
    },
    {
      "cell_type": "code",
      "execution_count": 225,
      "id": "88574f13",
      "metadata": {
        "ExecuteTime": {
          "end_time": "2022-06-28T01:32:16.225803Z",
          "start_time": "2022-06-28T01:32:16.049055Z"
        },
        "id": "88574f13"
      },
      "outputs": [],
      "source": [
        "story_train,ques_train,answer_train=vectorize_Story(train_data)"
      ]
    },
    {
      "cell_type": "code",
      "execution_count": 226,
      "id": "561ca88c",
      "metadata": {
        "ExecuteTime": {
          "end_time": "2022-06-28T01:32:23.750771Z",
          "start_time": "2022-06-28T01:32:23.710209Z"
        },
        "id": "561ca88c"
      },
      "outputs": [],
      "source": [
        "story_test,ques_test,answer_test=vectorize_Story(test_data)"
      ]
    },
    {
      "cell_type": "code",
      "execution_count": 227,
      "id": "14ec7833",
      "metadata": {
        "ExecuteTime": {
          "end_time": "2022-06-28T01:32:26.149152Z",
          "start_time": "2022-06-28T01:32:26.134192Z"
        },
        "scrolled": true,
        "id": "14ec7833",
        "colab": {
          "base_uri": "https://localhost:8080/"
        },
        "outputId": "de2fa591-22e2-4d75-d526-528b1a47c728"
      },
      "outputs": [
        {
          "output_type": "execute_result",
          "data": {
            "text/plain": [
              "array([[ 0,  0,  0, ..., 37, 11, 25],\n",
              "       [ 0,  0,  0, ..., 37,  2, 25],\n",
              "       [ 0,  0,  0, ..., 37,  2, 25],\n",
              "       ...,\n",
              "       [ 0,  0,  0, ..., 37, 21, 25],\n",
              "       [ 0,  0,  0, ..., 37,  2, 25],\n",
              "       [ 0,  0,  0, ..., 21, 15, 25]], dtype=int32)"
            ]
          },
          "metadata": {},
          "execution_count": 227
        }
      ],
      "source": [
        "story_test"
      ]
    },
    {
      "cell_type": "code",
      "execution_count": 228,
      "id": "e93f0988",
      "metadata": {
        "ExecuteTime": {
          "end_time": "2022-06-28T01:34:50.418484Z",
          "start_time": "2022-06-28T01:34:50.413493Z"
        },
        "id": "e93f0988",
        "colab": {
          "base_uri": "https://localhost:8080/"
        },
        "outputId": "acbe6dd0-ab76-4f22-cb8a-e29a2ec0ab4e"
      },
      "outputs": [
        {
          "output_type": "execute_result",
          "data": {
            "text/plain": [
              "1000"
            ]
          },
          "metadata": {},
          "execution_count": 228
        }
      ],
      "source": [
        "len(story_test)"
      ]
    },
    {
      "cell_type": "code",
      "execution_count": 229,
      "id": "72522c2b",
      "metadata": {
        "ExecuteTime": {
          "end_time": "2022-06-28T01:32:28.793009Z",
          "start_time": "2022-06-28T01:32:28.779000Z"
        },
        "id": "72522c2b",
        "colab": {
          "base_uri": "https://localhost:8080/"
        },
        "outputId": "34451ce9-6b09-4cfd-805e-5d423013a1b6"
      },
      "outputs": [
        {
          "output_type": "execute_result",
          "data": {
            "text/plain": [
              "array([[0., 0., 0., ..., 1., 0., 0.],\n",
              "       [0., 0., 0., ..., 1., 0., 0.],\n",
              "       [0., 0., 0., ..., 0., 0., 0.],\n",
              "       ...,\n",
              "       [0., 0., 0., ..., 1., 0., 0.],\n",
              "       [0., 0., 0., ..., 0., 0., 0.],\n",
              "       [0., 0., 0., ..., 0., 0., 0.]])"
            ]
          },
          "metadata": {},
          "execution_count": 229
        }
      ],
      "source": [
        "answer_test"
      ]
    },
    {
      "cell_type": "code",
      "execution_count": 230,
      "id": "1cbcb4e1",
      "metadata": {
        "ExecuteTime": {
          "end_time": "2022-06-28T01:35:21.130181Z",
          "start_time": "2022-06-28T01:35:21.112626Z"
        },
        "id": "1cbcb4e1",
        "colab": {
          "base_uri": "https://localhost:8080/"
        },
        "outputId": "fbe6219a-796e-48c4-9af9-f73fd205e3d9"
      },
      "outputs": [
        {
          "output_type": "execute_result",
          "data": {
            "text/plain": [
              "27"
            ]
          },
          "metadata": {},
          "execution_count": 230
        }
      ],
      "source": [
        "tokenizer.word_index['yes']"
      ]
    },
    {
      "cell_type": "code",
      "execution_count": 231,
      "id": "ff86f8ce",
      "metadata": {
        "ExecuteTime": {
          "end_time": "2022-06-28T01:35:37.194510Z",
          "start_time": "2022-06-28T01:35:37.172526Z"
        },
        "id": "ff86f8ce",
        "colab": {
          "base_uri": "https://localhost:8080/"
        },
        "outputId": "661c6ccf-32ab-47d0-d142-aace53882c35"
      },
      "outputs": [
        {
          "output_type": "execute_result",
          "data": {
            "text/plain": [
              "35"
            ]
          },
          "metadata": {},
          "execution_count": 231
        }
      ],
      "source": [
        "tokenizer.word_index['no']"
      ]
    },
    {
      "cell_type": "code",
      "execution_count": 232,
      "id": "eb00dce8",
      "metadata": {
        "ExecuteTime": {
          "end_time": "2022-06-28T01:35:48.831801Z",
          "start_time": "2022-06-28T01:35:48.774907Z"
        },
        "id": "eb00dce8",
        "colab": {
          "base_uri": "https://localhost:8080/"
        },
        "outputId": "bb92253d-0856-457b-ad37-646f71ba967f"
      },
      "outputs": [
        {
          "output_type": "execute_result",
          "data": {
            "text/plain": [
              "array([  0.,   0.,   0.,   0.,   0.,   0.,   0.,   0.,   0.,   0.,   0.,\n",
              "         0.,   0.,   0.,   0.,   0.,   0.,   0.,   0.,   0.,   0.,   0.,\n",
              "         0.,   0.,   0.,   0.,   0., 497.,   0.,   0.,   0.,   0.,   0.,\n",
              "         0.,   0., 503.,   0.,   0.])"
            ]
          },
          "metadata": {},
          "execution_count": 232
        }
      ],
      "source": [
        "sum(answer_test)"
      ]
    },
    {
      "cell_type": "markdown",
      "id": "a2418461",
      "metadata": {
        "id": "a2418461"
      },
      "source": [
        "# Now the time for build the network\n",
        "### -input encoder M \n",
        "### -input encoder C\n",
        "### -Question Encoder \n",
        "### the network is based on this paper check it :\n",
        "https://proceedings.neurips.cc/paper/2015/file/8fb21ee7a2207526da55a679f0332de2-Paper.pdf"
      ]
    },
    {
      "cell_type": "code",
      "execution_count": 233,
      "id": "19d4e0d4",
      "metadata": {
        "ExecuteTime": {
          "end_time": "2022-06-28T01:44:59.722524Z",
          "start_time": "2022-06-28T01:44:59.703554Z"
        },
        "id": "19d4e0d4"
      },
      "outputs": [],
      "source": [
        "from keras.models import Sequential, Model\n",
        "from keras.layers.embeddings import Embedding\n",
        "from keras.layers import Input, Activation, Dense, Permute, Dropout\n",
        "from keras.layers import add, dot, concatenate\n",
        "from keras.layers import LSTM"
      ]
    },
    {
      "cell_type": "code",
      "execution_count": 234,
      "id": "7f885321",
      "metadata": {
        "ExecuteTime": {
          "end_time": "2022-06-28T01:47:59.527779Z",
          "start_time": "2022-06-28T01:47:59.457672Z"
        },
        "id": "7f885321"
      },
      "outputs": [],
      "source": [
        "# Place holder for the length of story and questions since our network takes two inputs\n",
        "input_sequence=Input((max_story_len,))\n",
        "qu=Input((max_Qlength_len,))\n"
      ]
    },
    {
      "cell_type": "code",
      "execution_count": 235,
      "id": "ab0e0713",
      "metadata": {
        "ExecuteTime": {
          "end_time": "2022-06-28T01:48:29.056867Z",
          "start_time": "2022-06-28T01:48:29.042905Z"
        },
        "id": "ab0e0713"
      },
      "outputs": [],
      "source": [
        "# size of our vocabs\n",
        "vocab_size=len(vocab)+1"
      ]
    },
    {
      "cell_type": "code",
      "execution_count": 236,
      "id": "6bcea605",
      "metadata": {
        "ExecuteTime": {
          "end_time": "2022-06-28T01:50:05.821415Z",
          "start_time": "2022-06-28T01:50:05.489856Z"
        },
        "id": "6bcea605"
      },
      "outputs": [],
      "source": [
        "#Encoder M\n",
        "input_encoder_m=Sequential()\n",
        "input_encoder_m.add(Embedding(input_dim=vocab_size,output_dim=64)) ## 64 from paper\n",
        "## add droup out to avoid the over fitting \n",
        "input_encoder_m.add(Dropout(0.3))"
      ]
    },
    {
      "cell_type": "code",
      "execution_count": 237,
      "id": "ca65ae89",
      "metadata": {
        "ExecuteTime": {
          "end_time": "2022-06-28T01:51:19.219782Z",
          "start_time": "2022-06-28T01:51:19.193823Z"
        },
        "id": "ca65ae89"
      },
      "outputs": [],
      "source": [
        "#Encoder C\n",
        "input_encoder_c=Sequential()\n",
        "input_encoder_c.add(Embedding(input_dim=vocab_size,output_dim=max_Qlength_len))\n",
        "## add droup out to avoid the over fitting \n",
        "input_encoder_c.add(Dropout(0.3))"
      ]
    },
    {
      "cell_type": "code",
      "execution_count": 238,
      "id": "4643b934",
      "metadata": {
        "ExecuteTime": {
          "end_time": "2022-06-28T01:53:10.937696Z",
          "start_time": "2022-06-28T01:53:10.909729Z"
        },
        "id": "4643b934"
      },
      "outputs": [],
      "source": [
        "question_Encoder=Sequential()\n",
        "question_Encoder.add(Embedding(input_dim=vocab_size,output_dim=64,input_length=max_Qlength_len))\n",
        "## add droup out to avoid the over fitting \n",
        "question_Encoder.add(Dropout(0.3))"
      ]
    },
    {
      "cell_type": "code",
      "execution_count": 239,
      "id": "4bc166b6",
      "metadata": {
        "ExecuteTime": {
          "end_time": "2022-06-28T01:57:44.968827Z",
          "start_time": "2022-06-28T01:57:44.948907Z"
        },
        "id": "4bc166b6"
      },
      "outputs": [],
      "source": [
        "input_encoded_m=input_encoder_m(input_sequence)\n",
        "input_encoded_c=input_encoder_c(input_sequence)\n",
        "question_Encoded=question_Encoder(qu)"
      ]
    },
    {
      "cell_type": "code",
      "execution_count": 240,
      "id": "8aab4d0e",
      "metadata": {
        "ExecuteTime": {
          "end_time": "2022-06-28T01:59:33.155405Z",
          "start_time": "2022-06-28T01:59:33.137452Z"
        },
        "id": "8aab4d0e"
      },
      "outputs": [],
      "source": [
        "## Now will use the dot product as the paper to can multiplt the m with questions and then passes it to soft max\n",
        "match=dot([input_encoded_m,question_Encoded],axes=(2,2))\n",
        "match=Activation('softmax')(match)"
      ]
    },
    {
      "cell_type": "code",
      "execution_count": 241,
      "id": "fdc5fc12",
      "metadata": {
        "ExecuteTime": {
          "end_time": "2022-06-28T02:00:28.860571Z",
          "start_time": "2022-06-28T02:00:28.838629Z"
        },
        "id": "fdc5fc12"
      },
      "outputs": [],
      "source": [
        "response=add([match,input_encoded_c])\n",
        "response=Permute((2,1))(response)"
      ]
    },
    {
      "cell_type": "code",
      "execution_count": 242,
      "id": "887e9d63",
      "metadata": {
        "ExecuteTime": {
          "end_time": "2022-06-28T02:00:57.474853Z",
          "start_time": "2022-06-28T02:00:57.461873Z"
        },
        "id": "887e9d63"
      },
      "outputs": [],
      "source": [
        "answer=concatenate([response,question_Encoded])"
      ]
    },
    {
      "cell_type": "code",
      "execution_count": 243,
      "id": "4df23532",
      "metadata": {
        "ExecuteTime": {
          "end_time": "2022-06-28T02:01:04.712410Z",
          "start_time": "2022-06-28T02:01:04.699447Z"
        },
        "id": "4df23532",
        "colab": {
          "base_uri": "https://localhost:8080/"
        },
        "outputId": "e87cd85c-a6be-4326-a314-f2d0509852f6"
      },
      "outputs": [
        {
          "output_type": "execute_result",
          "data": {
            "text/plain": [
              "<KerasTensor: shape=(None, 6, 220) dtype=float32 (created by layer 'concatenate_3')>"
            ]
          },
          "metadata": {},
          "execution_count": 243
        }
      ],
      "source": [
        "answer"
      ]
    },
    {
      "cell_type": "code",
      "execution_count": 244,
      "id": "6f6a6e03",
      "metadata": {
        "ExecuteTime": {
          "end_time": "2022-06-28T02:01:38.003344Z",
          "start_time": "2022-06-28T02:01:37.637837Z"
        },
        "id": "6f6a6e03"
      },
      "outputs": [],
      "source": [
        "answer=LSTM(32)(answer)"
      ]
    },
    {
      "cell_type": "code",
      "execution_count": 245,
      "id": "6552d0bc",
      "metadata": {
        "ExecuteTime": {
          "end_time": "2022-06-28T02:02:42.282563Z",
          "start_time": "2022-06-28T02:02:42.270596Z"
        },
        "id": "6552d0bc"
      },
      "outputs": [],
      "source": [
        "## passes the answer to the softmax to get the results"
      ]
    },
    {
      "cell_type": "code",
      "execution_count": 246,
      "id": "2f807e52",
      "metadata": {
        "ExecuteTime": {
          "end_time": "2022-06-28T02:02:15.720433Z",
          "start_time": "2022-06-28T02:02:15.692491Z"
        },
        "id": "2f807e52"
      },
      "outputs": [],
      "source": [
        "answer=Dropout(0.5)(answer)\n",
        "answer=Dense(vocab_size)(answer)\n",
        "answer = Activation('softmax')(answer)"
      ]
    },
    {
      "cell_type": "code",
      "execution_count": 247,
      "id": "fc6e24d5",
      "metadata": {
        "ExecuteTime": {
          "end_time": "2022-06-28T02:03:14.172793Z",
          "start_time": "2022-06-28T02:03:14.154853Z"
        },
        "id": "fc6e24d5"
      },
      "outputs": [],
      "source": [
        "model=Model([input_sequence,qu],answer)"
      ]
    },
    {
      "cell_type": "code",
      "execution_count": 248,
      "id": "a903d244",
      "metadata": {
        "ExecuteTime": {
          "end_time": "2022-06-28T02:04:14.037235Z",
          "start_time": "2022-06-28T02:04:14.013255Z"
        },
        "id": "a903d244"
      },
      "outputs": [],
      "source": [
        "model.compile(optimizer='rmsprop',loss='categorical_crossentropy',metrics=['accuracy'])"
      ]
    },
    {
      "cell_type": "code",
      "execution_count": 249,
      "id": "6f76c81e",
      "metadata": {
        "ExecuteTime": {
          "end_time": "2022-06-28T02:04:28.659098Z",
          "start_time": "2022-06-28T02:04:28.627186Z"
        },
        "id": "6f76c81e",
        "colab": {
          "base_uri": "https://localhost:8080/"
        },
        "outputId": "d268d8e4-fdf7-4a4a-c6d9-3c305dfcdff2"
      },
      "outputs": [
        {
          "output_type": "stream",
          "name": "stdout",
          "text": [
            "Model: \"model_4\"\n",
            "__________________________________________________________________________________________________\n",
            " Layer (type)                   Output Shape         Param #     Connected to                     \n",
            "==================================================================================================\n",
            " input_7 (InputLayer)           [(None, 156)]        0           []                               \n",
            "                                                                                                  \n",
            " input_8 (InputLayer)           [(None, 6)]          0           []                               \n",
            "                                                                                                  \n",
            " sequential_9 (Sequential)      (None, None, 64)     2432        ['input_7[0][0]']                \n",
            "                                                                                                  \n",
            " sequential_11 (Sequential)     (None, 6, 64)        2432        ['input_8[0][0]']                \n",
            "                                                                                                  \n",
            " dot_3 (Dot)                    (None, 156, 6)       0           ['sequential_9[0][0]',           \n",
            "                                                                  'sequential_11[0][0]']          \n",
            "                                                                                                  \n",
            " activation_4 (Activation)      (None, 156, 6)       0           ['dot_3[0][0]']                  \n",
            "                                                                                                  \n",
            " sequential_10 (Sequential)     (None, None, 6)      228         ['input_7[0][0]']                \n",
            "                                                                                                  \n",
            " add_3 (Add)                    (None, 156, 6)       0           ['activation_4[0][0]',           \n",
            "                                                                  'sequential_10[0][0]']          \n",
            "                                                                                                  \n",
            " permute_3 (Permute)            (None, 6, 156)       0           ['add_3[0][0]']                  \n",
            "                                                                                                  \n",
            " concatenate_3 (Concatenate)    (None, 6, 220)       0           ['permute_3[0][0]',              \n",
            "                                                                  'sequential_11[0][0]']          \n",
            "                                                                                                  \n",
            " lstm_3 (LSTM)                  (None, 32)           32384       ['concatenate_3[0][0]']          \n",
            "                                                                                                  \n",
            " dropout_16 (Dropout)           (None, 32)           0           ['lstm_3[0][0]']                 \n",
            "                                                                                                  \n",
            " dense_4 (Dense)                (None, 38)           1254        ['dropout_16[0][0]']             \n",
            "                                                                                                  \n",
            " activation_5 (Activation)      (None, 38)           0           ['dense_4[0][0]']                \n",
            "                                                                                                  \n",
            "==================================================================================================\n",
            "Total params: 38,730\n",
            "Trainable params: 38,730\n",
            "Non-trainable params: 0\n",
            "__________________________________________________________________________________________________\n"
          ]
        }
      ],
      "source": [
        "model.summary()"
      ]
    },
    {
      "cell_type": "code",
      "execution_count": 250,
      "id": "adf14e76",
      "metadata": {
        "id": "adf14e76",
        "colab": {
          "base_uri": "https://localhost:8080/"
        },
        "outputId": "897c99a7-1339-4b7a-ad89-f41e4182cb78"
      },
      "outputs": [
        {
          "output_type": "stream",
          "name": "stdout",
          "text": [
            "Epoch 1/120\n",
            "313/313 [==============================] - 63s 8ms/step - loss: 0.9113 - accuracy: 0.4935 - val_loss: 0.6954 - val_accuracy: 0.4970\n",
            "Epoch 2/120\n",
            "313/313 [==============================] - 2s 7ms/step - loss: 0.7006 - accuracy: 0.5099 - val_loss: 0.6936 - val_accuracy: 0.4970\n",
            "Epoch 3/120\n",
            "313/313 [==============================] - 2s 7ms/step - loss: 0.6970 - accuracy: 0.4916 - val_loss: 0.6933 - val_accuracy: 0.4970\n",
            "Epoch 4/120\n",
            "313/313 [==============================] - 2s 7ms/step - loss: 0.6953 - accuracy: 0.4937 - val_loss: 0.6937 - val_accuracy: 0.4970\n",
            "Epoch 5/120\n",
            "313/313 [==============================] - 2s 7ms/step - loss: 0.6949 - accuracy: 0.4966 - val_loss: 0.6934 - val_accuracy: 0.5030\n",
            "Epoch 6/120\n",
            "313/313 [==============================] - 2s 7ms/step - loss: 0.6943 - accuracy: 0.5051 - val_loss: 0.6938 - val_accuracy: 0.4970\n",
            "Epoch 7/120\n",
            "313/313 [==============================] - 2s 7ms/step - loss: 0.6942 - accuracy: 0.5051 - val_loss: 0.6932 - val_accuracy: 0.5030\n",
            "Epoch 8/120\n",
            "313/313 [==============================] - 2s 7ms/step - loss: 0.6945 - accuracy: 0.4924 - val_loss: 0.6937 - val_accuracy: 0.5030\n",
            "Epoch 9/120\n",
            "313/313 [==============================] - 2s 7ms/step - loss: 0.6946 - accuracy: 0.4940 - val_loss: 0.6933 - val_accuracy: 0.4970\n",
            "Epoch 10/120\n",
            "313/313 [==============================] - 2s 7ms/step - loss: 0.6943 - accuracy: 0.4996 - val_loss: 0.6944 - val_accuracy: 0.4970\n",
            "Epoch 11/120\n",
            "313/313 [==============================] - 2s 7ms/step - loss: 0.6937 - accuracy: 0.5041 - val_loss: 0.6946 - val_accuracy: 0.4760\n",
            "Epoch 12/120\n",
            "313/313 [==============================] - 2s 7ms/step - loss: 0.6940 - accuracy: 0.5029 - val_loss: 0.6945 - val_accuracy: 0.4650\n",
            "Epoch 13/120\n",
            "313/313 [==============================] - 2s 7ms/step - loss: 0.6929 - accuracy: 0.5062 - val_loss: 0.6953 - val_accuracy: 0.4890\n",
            "Epoch 14/120\n",
            "313/313 [==============================] - 2s 7ms/step - loss: 0.6920 - accuracy: 0.5106 - val_loss: 0.6935 - val_accuracy: 0.4820\n",
            "Epoch 15/120\n",
            "313/313 [==============================] - 2s 7ms/step - loss: 0.6889 - accuracy: 0.5237 - val_loss: 0.6901 - val_accuracy: 0.5470\n",
            "Epoch 16/120\n",
            "313/313 [==============================] - 3s 9ms/step - loss: 0.6798 - accuracy: 0.5657 - val_loss: 0.6844 - val_accuracy: 0.5270\n",
            "Epoch 17/120\n",
            "313/313 [==============================] - 2s 7ms/step - loss: 0.6583 - accuracy: 0.6104 - val_loss: 0.6410 - val_accuracy: 0.6470\n",
            "Epoch 18/120\n",
            "313/313 [==============================] - 2s 7ms/step - loss: 0.6079 - accuracy: 0.6863 - val_loss: 0.5907 - val_accuracy: 0.6950\n",
            "Epoch 19/120\n",
            "313/313 [==============================] - 2s 7ms/step - loss: 0.5373 - accuracy: 0.7439 - val_loss: 0.4995 - val_accuracy: 0.7580\n",
            "Epoch 20/120\n",
            "313/313 [==============================] - 2s 7ms/step - loss: 0.4882 - accuracy: 0.7822 - val_loss: 0.4351 - val_accuracy: 0.8130\n",
            "Epoch 21/120\n",
            "313/313 [==============================] - 2s 7ms/step - loss: 0.4473 - accuracy: 0.8109 - val_loss: 0.4527 - val_accuracy: 0.8210\n",
            "Epoch 22/120\n",
            "313/313 [==============================] - 2s 7ms/step - loss: 0.4119 - accuracy: 0.8321 - val_loss: 0.4111 - val_accuracy: 0.8340\n",
            "Epoch 23/120\n",
            "313/313 [==============================] - 2s 7ms/step - loss: 0.4023 - accuracy: 0.8337 - val_loss: 0.4089 - val_accuracy: 0.8290\n",
            "Epoch 24/120\n",
            "313/313 [==============================] - 2s 7ms/step - loss: 0.3886 - accuracy: 0.8450 - val_loss: 0.3939 - val_accuracy: 0.8340\n",
            "Epoch 25/120\n",
            "313/313 [==============================] - 2s 7ms/step - loss: 0.3736 - accuracy: 0.8485 - val_loss: 0.3772 - val_accuracy: 0.8340\n",
            "Epoch 26/120\n",
            "313/313 [==============================] - 2s 7ms/step - loss: 0.3631 - accuracy: 0.8522 - val_loss: 0.3762 - val_accuracy: 0.8390\n",
            "Epoch 27/120\n",
            "313/313 [==============================] - 2s 7ms/step - loss: 0.3560 - accuracy: 0.8541 - val_loss: 0.3963 - val_accuracy: 0.8510\n",
            "Epoch 28/120\n",
            "313/313 [==============================] - 2s 7ms/step - loss: 0.3541 - accuracy: 0.8520 - val_loss: 0.4121 - val_accuracy: 0.8420\n",
            "Epoch 29/120\n",
            "313/313 [==============================] - 2s 7ms/step - loss: 0.3441 - accuracy: 0.8578 - val_loss: 0.3696 - val_accuracy: 0.8450\n",
            "Epoch 30/120\n",
            "313/313 [==============================] - 2s 7ms/step - loss: 0.3468 - accuracy: 0.8579 - val_loss: 0.3742 - val_accuracy: 0.8380\n",
            "Epoch 31/120\n",
            "313/313 [==============================] - 2s 7ms/step - loss: 0.3362 - accuracy: 0.8596 - val_loss: 0.3787 - val_accuracy: 0.8490\n",
            "Epoch 32/120\n",
            "313/313 [==============================] - 2s 7ms/step - loss: 0.3290 - accuracy: 0.8626 - val_loss: 0.3601 - val_accuracy: 0.8380\n",
            "Epoch 33/120\n",
            "313/313 [==============================] - 2s 7ms/step - loss: 0.3271 - accuracy: 0.8596 - val_loss: 0.3561 - val_accuracy: 0.8440\n",
            "Epoch 34/120\n",
            "313/313 [==============================] - 2s 7ms/step - loss: 0.3228 - accuracy: 0.8626 - val_loss: 0.3435 - val_accuracy: 0.8360\n",
            "Epoch 35/120\n",
            "313/313 [==============================] - 2s 7ms/step - loss: 0.3207 - accuracy: 0.8640 - val_loss: 0.3632 - val_accuracy: 0.8270\n",
            "Epoch 36/120\n",
            "313/313 [==============================] - 2s 7ms/step - loss: 0.3151 - accuracy: 0.8658 - val_loss: 0.3529 - val_accuracy: 0.8490\n",
            "Epoch 37/120\n",
            "313/313 [==============================] - 2s 7ms/step - loss: 0.3119 - accuracy: 0.8631 - val_loss: 0.3429 - val_accuracy: 0.8500\n",
            "Epoch 38/120\n",
            "313/313 [==============================] - 2s 7ms/step - loss: 0.3100 - accuracy: 0.8668 - val_loss: 0.3492 - val_accuracy: 0.8470\n",
            "Epoch 39/120\n",
            "313/313 [==============================] - 2s 7ms/step - loss: 0.3118 - accuracy: 0.8675 - val_loss: 0.3470 - val_accuracy: 0.8470\n",
            "Epoch 40/120\n",
            "313/313 [==============================] - 2s 7ms/step - loss: 0.3051 - accuracy: 0.8685 - val_loss: 0.3437 - val_accuracy: 0.8410\n",
            "Epoch 41/120\n",
            "313/313 [==============================] - 2s 7ms/step - loss: 0.3003 - accuracy: 0.8725 - val_loss: 0.3392 - val_accuracy: 0.8420\n",
            "Epoch 42/120\n",
            "313/313 [==============================] - 2s 7ms/step - loss: 0.2997 - accuracy: 0.8695 - val_loss: 0.3659 - val_accuracy: 0.8450\n",
            "Epoch 43/120\n",
            "313/313 [==============================] - 2s 7ms/step - loss: 0.2987 - accuracy: 0.8724 - val_loss: 0.3415 - val_accuracy: 0.8390\n",
            "Epoch 44/120\n",
            "313/313 [==============================] - 2s 7ms/step - loss: 0.2996 - accuracy: 0.8706 - val_loss: 0.3329 - val_accuracy: 0.8490\n",
            "Epoch 45/120\n",
            "313/313 [==============================] - 2s 7ms/step - loss: 0.2936 - accuracy: 0.8720 - val_loss: 0.3506 - val_accuracy: 0.8400\n",
            "Epoch 46/120\n",
            "313/313 [==============================] - 2s 7ms/step - loss: 0.2928 - accuracy: 0.8713 - val_loss: 0.3489 - val_accuracy: 0.8420\n",
            "Epoch 47/120\n",
            "313/313 [==============================] - 2s 7ms/step - loss: 0.2942 - accuracy: 0.8724 - val_loss: 0.3451 - val_accuracy: 0.8480\n",
            "Epoch 48/120\n",
            "313/313 [==============================] - 2s 7ms/step - loss: 0.2924 - accuracy: 0.8739 - val_loss: 0.3584 - val_accuracy: 0.8410\n",
            "Epoch 49/120\n",
            "313/313 [==============================] - 2s 7ms/step - loss: 0.2930 - accuracy: 0.8714 - val_loss: 0.3576 - val_accuracy: 0.8380\n",
            "Epoch 50/120\n",
            "313/313 [==============================] - 2s 7ms/step - loss: 0.2840 - accuracy: 0.8768 - val_loss: 0.3584 - val_accuracy: 0.8410\n",
            "Epoch 51/120\n",
            "313/313 [==============================] - 2s 7ms/step - loss: 0.2868 - accuracy: 0.8768 - val_loss: 0.3569 - val_accuracy: 0.8400\n",
            "Epoch 52/120\n",
            "313/313 [==============================] - 2s 7ms/step - loss: 0.2848 - accuracy: 0.8777 - val_loss: 0.3503 - val_accuracy: 0.8390\n",
            "Epoch 53/120\n",
            "313/313 [==============================] - 2s 7ms/step - loss: 0.2881 - accuracy: 0.8776 - val_loss: 0.3453 - val_accuracy: 0.8400\n",
            "Epoch 54/120\n",
            "313/313 [==============================] - 2s 8ms/step - loss: 0.2867 - accuracy: 0.8734 - val_loss: 0.3534 - val_accuracy: 0.8340\n",
            "Epoch 55/120\n",
            "313/313 [==============================] - 2s 7ms/step - loss: 0.2838 - accuracy: 0.8774 - val_loss: 0.3556 - val_accuracy: 0.8410\n",
            "Epoch 56/120\n",
            "313/313 [==============================] - 2s 7ms/step - loss: 0.2821 - accuracy: 0.8742 - val_loss: 0.3609 - val_accuracy: 0.8410\n",
            "Epoch 57/120\n",
            "313/313 [==============================] - 2s 7ms/step - loss: 0.2778 - accuracy: 0.8804 - val_loss: 0.3472 - val_accuracy: 0.8330\n",
            "Epoch 58/120\n",
            "313/313 [==============================] - 2s 7ms/step - loss: 0.2763 - accuracy: 0.8801 - val_loss: 0.3642 - val_accuracy: 0.8450\n",
            "Epoch 59/120\n",
            "313/313 [==============================] - 2s 7ms/step - loss: 0.2750 - accuracy: 0.8820 - val_loss: 0.3680 - val_accuracy: 0.8330\n",
            "Epoch 60/120\n",
            "313/313 [==============================] - 2s 7ms/step - loss: 0.2724 - accuracy: 0.8854 - val_loss: 0.3566 - val_accuracy: 0.8320\n",
            "Epoch 61/120\n",
            "313/313 [==============================] - 2s 7ms/step - loss: 0.2726 - accuracy: 0.8831 - val_loss: 0.3604 - val_accuracy: 0.8320\n",
            "Epoch 62/120\n",
            "313/313 [==============================] - 2s 7ms/step - loss: 0.2703 - accuracy: 0.8842 - val_loss: 0.3644 - val_accuracy: 0.8310\n",
            "Epoch 63/120\n",
            "313/313 [==============================] - 2s 7ms/step - loss: 0.2700 - accuracy: 0.8832 - val_loss: 0.3692 - val_accuracy: 0.8350\n",
            "Epoch 64/120\n",
            "313/313 [==============================] - 2s 7ms/step - loss: 0.2644 - accuracy: 0.8900 - val_loss: 0.3907 - val_accuracy: 0.8390\n",
            "Epoch 65/120\n",
            "313/313 [==============================] - 2s 7ms/step - loss: 0.2672 - accuracy: 0.8825 - val_loss: 0.3691 - val_accuracy: 0.8320\n",
            "Epoch 66/120\n",
            "313/313 [==============================] - 2s 7ms/step - loss: 0.2650 - accuracy: 0.8886 - val_loss: 0.3968 - val_accuracy: 0.8330\n",
            "Epoch 67/120\n",
            "313/313 [==============================] - 2s 7ms/step - loss: 0.2636 - accuracy: 0.8915 - val_loss: 0.3772 - val_accuracy: 0.8310\n",
            "Epoch 68/120\n",
            "313/313 [==============================] - 2s 7ms/step - loss: 0.2625 - accuracy: 0.8882 - val_loss: 0.3744 - val_accuracy: 0.8300\n",
            "Epoch 69/120\n",
            "313/313 [==============================] - 2s 7ms/step - loss: 0.2636 - accuracy: 0.8900 - val_loss: 0.3905 - val_accuracy: 0.8360\n",
            "Epoch 70/120\n",
            "313/313 [==============================] - 2s 7ms/step - loss: 0.2595 - accuracy: 0.8877 - val_loss: 0.3723 - val_accuracy: 0.8390\n",
            "Epoch 71/120\n",
            "313/313 [==============================] - 2s 7ms/step - loss: 0.2553 - accuracy: 0.8908 - val_loss: 0.3798 - val_accuracy: 0.8260\n",
            "Epoch 72/120\n",
            "313/313 [==============================] - 2s 7ms/step - loss: 0.2616 - accuracy: 0.8927 - val_loss: 0.3798 - val_accuracy: 0.8290\n",
            "Epoch 73/120\n",
            "313/313 [==============================] - 2s 7ms/step - loss: 0.2518 - accuracy: 0.8965 - val_loss: 0.4090 - val_accuracy: 0.8270\n",
            "Epoch 74/120\n",
            "313/313 [==============================] - 2s 7ms/step - loss: 0.2515 - accuracy: 0.8939 - val_loss: 0.3934 - val_accuracy: 0.8320\n",
            "Epoch 75/120\n",
            "313/313 [==============================] - 2s 7ms/step - loss: 0.2464 - accuracy: 0.8991 - val_loss: 0.3835 - val_accuracy: 0.8250\n",
            "Epoch 76/120\n",
            "313/313 [==============================] - 2s 7ms/step - loss: 0.2427 - accuracy: 0.8967 - val_loss: 0.4127 - val_accuracy: 0.8240\n",
            "Epoch 77/120\n",
            "313/313 [==============================] - 2s 7ms/step - loss: 0.2474 - accuracy: 0.8977 - val_loss: 0.3992 - val_accuracy: 0.8270\n",
            "Epoch 78/120\n",
            "313/313 [==============================] - 2s 7ms/step - loss: 0.2459 - accuracy: 0.8966 - val_loss: 0.4073 - val_accuracy: 0.8350\n",
            "Epoch 79/120\n",
            "313/313 [==============================] - 2s 7ms/step - loss: 0.2424 - accuracy: 0.8998 - val_loss: 0.4420 - val_accuracy: 0.8300\n",
            "Epoch 80/120\n",
            "313/313 [==============================] - 2s 7ms/step - loss: 0.2372 - accuracy: 0.9014 - val_loss: 0.4221 - val_accuracy: 0.8280\n",
            "Epoch 81/120\n",
            "313/313 [==============================] - 2s 7ms/step - loss: 0.2401 - accuracy: 0.8967 - val_loss: 0.4012 - val_accuracy: 0.8370\n",
            "Epoch 82/120\n",
            "313/313 [==============================] - 2s 7ms/step - loss: 0.2420 - accuracy: 0.9011 - val_loss: 0.3951 - val_accuracy: 0.8220\n",
            "Epoch 83/120\n",
            "313/313 [==============================] - 2s 7ms/step - loss: 0.2359 - accuracy: 0.8995 - val_loss: 0.4384 - val_accuracy: 0.8340\n",
            "Epoch 84/120\n",
            "313/313 [==============================] - 2s 7ms/step - loss: 0.2371 - accuracy: 0.9013 - val_loss: 0.4223 - val_accuracy: 0.8250\n",
            "Epoch 85/120\n",
            "313/313 [==============================] - 2s 7ms/step - loss: 0.2407 - accuracy: 0.9027 - val_loss: 0.4199 - val_accuracy: 0.8310\n",
            "Epoch 86/120\n",
            "313/313 [==============================] - 2s 7ms/step - loss: 0.2347 - accuracy: 0.9021 - val_loss: 0.4210 - val_accuracy: 0.8320\n",
            "Epoch 87/120\n",
            "313/313 [==============================] - 2s 7ms/step - loss: 0.2370 - accuracy: 0.9044 - val_loss: 0.4285 - val_accuracy: 0.8240\n",
            "Epoch 88/120\n",
            "313/313 [==============================] - 2s 7ms/step - loss: 0.2306 - accuracy: 0.9048 - val_loss: 0.4294 - val_accuracy: 0.8330\n",
            "Epoch 89/120\n",
            "313/313 [==============================] - 2s 7ms/step - loss: 0.2343 - accuracy: 0.9056 - val_loss: 0.4645 - val_accuracy: 0.8300\n",
            "Epoch 90/120\n",
            "313/313 [==============================] - 2s 7ms/step - loss: 0.2293 - accuracy: 0.9063 - val_loss: 0.4687 - val_accuracy: 0.8230\n",
            "Epoch 91/120\n",
            "313/313 [==============================] - 2s 7ms/step - loss: 0.2220 - accuracy: 0.9085 - val_loss: 0.4703 - val_accuracy: 0.8290\n",
            "Epoch 92/120\n",
            "313/313 [==============================] - 2s 7ms/step - loss: 0.2257 - accuracy: 0.9076 - val_loss: 0.4437 - val_accuracy: 0.8260\n",
            "Epoch 93/120\n",
            "313/313 [==============================] - 2s 7ms/step - loss: 0.2290 - accuracy: 0.9046 - val_loss: 0.4728 - val_accuracy: 0.8260\n",
            "Epoch 94/120\n",
            "313/313 [==============================] - 2s 7ms/step - loss: 0.2262 - accuracy: 0.9084 - val_loss: 0.4374 - val_accuracy: 0.8260\n",
            "Epoch 95/120\n",
            "313/313 [==============================] - 2s 7ms/step - loss: 0.2229 - accuracy: 0.9071 - val_loss: 0.4542 - val_accuracy: 0.8210\n",
            "Epoch 96/120\n",
            "313/313 [==============================] - 2s 7ms/step - loss: 0.2179 - accuracy: 0.9147 - val_loss: 0.4608 - val_accuracy: 0.8260\n",
            "Epoch 97/120\n",
            "313/313 [==============================] - 2s 7ms/step - loss: 0.2224 - accuracy: 0.9129 - val_loss: 0.5058 - val_accuracy: 0.8270\n",
            "Epoch 98/120\n",
            "313/313 [==============================] - 2s 7ms/step - loss: 0.2182 - accuracy: 0.9115 - val_loss: 0.4672 - val_accuracy: 0.8260\n",
            "Epoch 99/120\n",
            "313/313 [==============================] - 2s 7ms/step - loss: 0.2126 - accuracy: 0.9148 - val_loss: 0.4901 - val_accuracy: 0.8260\n",
            "Epoch 100/120\n",
            "313/313 [==============================] - 2s 7ms/step - loss: 0.2089 - accuracy: 0.9178 - val_loss: 0.5099 - val_accuracy: 0.8280\n",
            "Epoch 101/120\n",
            "313/313 [==============================] - 2s 7ms/step - loss: 0.2142 - accuracy: 0.9141 - val_loss: 0.4542 - val_accuracy: 0.8320\n",
            "Epoch 102/120\n",
            "313/313 [==============================] - 2s 7ms/step - loss: 0.2121 - accuracy: 0.9150 - val_loss: 0.4859 - val_accuracy: 0.8240\n",
            "Epoch 103/120\n",
            "313/313 [==============================] - 2s 7ms/step - loss: 0.2023 - accuracy: 0.9197 - val_loss: 0.5022 - val_accuracy: 0.8240\n",
            "Epoch 104/120\n",
            "313/313 [==============================] - 2s 7ms/step - loss: 0.2073 - accuracy: 0.9192 - val_loss: 0.4943 - val_accuracy: 0.8270\n",
            "Epoch 105/120\n",
            "313/313 [==============================] - 2s 7ms/step - loss: 0.2041 - accuracy: 0.9186 - val_loss: 0.4824 - val_accuracy: 0.8320\n",
            "Epoch 106/120\n",
            "313/313 [==============================] - 2s 7ms/step - loss: 0.2059 - accuracy: 0.9191 - val_loss: 0.5003 - val_accuracy: 0.8290\n",
            "Epoch 107/120\n",
            "313/313 [==============================] - 2s 7ms/step - loss: 0.2040 - accuracy: 0.9210 - val_loss: 0.5333 - val_accuracy: 0.8190\n",
            "Epoch 108/120\n",
            "313/313 [==============================] - 2s 7ms/step - loss: 0.2020 - accuracy: 0.9230 - val_loss: 0.5107 - val_accuracy: 0.8290\n",
            "Epoch 109/120\n",
            "313/313 [==============================] - 2s 7ms/step - loss: 0.2023 - accuracy: 0.9212 - val_loss: 0.4786 - val_accuracy: 0.8270\n",
            "Epoch 110/120\n",
            "313/313 [==============================] - 2s 7ms/step - loss: 0.2032 - accuracy: 0.9197 - val_loss: 0.5210 - val_accuracy: 0.8330\n",
            "Epoch 111/120\n",
            "313/313 [==============================] - 2s 7ms/step - loss: 0.1965 - accuracy: 0.9221 - val_loss: 0.4913 - val_accuracy: 0.8380\n",
            "Epoch 112/120\n",
            "313/313 [==============================] - 2s 7ms/step - loss: 0.2005 - accuracy: 0.9221 - val_loss: 0.5119 - val_accuracy: 0.8130\n",
            "Epoch 113/120\n",
            "313/313 [==============================] - 2s 7ms/step - loss: 0.1920 - accuracy: 0.9258 - val_loss: 0.5126 - val_accuracy: 0.8180\n",
            "Epoch 114/120\n",
            "313/313 [==============================] - 2s 7ms/step - loss: 0.1916 - accuracy: 0.9245 - val_loss: 0.5273 - val_accuracy: 0.8300\n",
            "Epoch 115/120\n",
            "313/313 [==============================] - 2s 7ms/step - loss: 0.1927 - accuracy: 0.9263 - val_loss: 0.5293 - val_accuracy: 0.8360\n",
            "Epoch 116/120\n",
            "313/313 [==============================] - 2s 7ms/step - loss: 0.1928 - accuracy: 0.9255 - val_loss: 0.5439 - val_accuracy: 0.8260\n",
            "Epoch 117/120\n",
            "313/313 [==============================] - 2s 7ms/step - loss: 0.1965 - accuracy: 0.9253 - val_loss: 0.5263 - val_accuracy: 0.8240\n",
            "Epoch 118/120\n",
            "313/313 [==============================] - 2s 7ms/step - loss: 0.1935 - accuracy: 0.9268 - val_loss: 0.5037 - val_accuracy: 0.8310\n",
            "Epoch 119/120\n",
            "313/313 [==============================] - 2s 7ms/step - loss: 0.1889 - accuracy: 0.9274 - val_loss: 0.5101 - val_accuracy: 0.8290\n",
            "Epoch 120/120\n",
            "313/313 [==============================] - 2s 7ms/step - loss: 0.1869 - accuracy: 0.9260 - val_loss: 0.5517 - val_accuracy: 0.8300\n"
          ]
        }
      ],
      "source": [
        "history=model.fit([story_train,ques_train],answer_train,batch_size=32,epochs=120,validation_data=([story_test,ques_test],answer_test))"
      ]
    },
    {
      "cell_type": "code",
      "source": [
        "filename = 'chatbot_120_epochs.h5'\n",
        "model.save(filename)"
      ],
      "metadata": {
        "id": "s8_HmQipQK0f"
      },
      "id": "s8_HmQipQK0f",
      "execution_count": 251,
      "outputs": []
    },
    {
      "cell_type": "code",
      "source": [
        "import matplotlib.pyplot as plt\n",
        "%matplotlib inline\n",
        "print(history.history.keys())\n",
        "# summarize history for accuracy\n",
        "plt.plot(history.history['accuracy'])\n",
        "plt.plot(history.history['val_accuracy'])\n",
        "plt.title('model accuracy')\n",
        "plt.ylabel('accuracy')\n",
        "plt.xlabel('epoch')\n",
        "plt.legend(['train', 'test'], loc='lower right')\n",
        "plt.show()"
      ],
      "metadata": {
        "colab": {
          "base_uri": "https://localhost:8080/",
          "height": 313
        },
        "id": "HdKveB32QRSw",
        "outputId": "d7c7787e-025b-44d1-a863-88c55b6323be"
      },
      "id": "HdKveB32QRSw",
      "execution_count": 254,
      "outputs": [
        {
          "output_type": "stream",
          "name": "stdout",
          "text": [
            "dict_keys(['loss', 'accuracy', 'val_loss', 'val_accuracy'])\n"
          ]
        },
        {
          "output_type": "display_data",
          "data": {
            "text/plain": [
              "<Figure size 432x288 with 1 Axes>"
            ],
            "image/png": "[encoded data removed]"
          },
          "metadata": {
            "needs_background": "light"
          }
        }
      ]
    },
    {
      "cell_type": "markdown",
      "source": [
        "### Now will try the model on the test sets but will change the questions and the stories"
      ],
      "metadata": {
        "id": "7PRrkZWRbdPR"
      },
      "id": "7PRrkZWRbdPR"
    },
    {
      "cell_type": "code",
      "source": [
        "test_data[0]"
      ],
      "metadata": {
        "colab": {
          "base_uri": "https://localhost:8080/"
        },
        "id": "m_PWr2QtZKha",
        "outputId": "7fac3a4c-fe99-4c21-bb1e-6ac77891f083"
      },
      "id": "m_PWr2QtZKha",
      "execution_count": 264,
      "outputs": [
        {
          "output_type": "execute_result",
          "data": {
            "text/plain": [
              "(['Mary',\n",
              "  'got',\n",
              "  'the',\n",
              "  'milk',\n",
              "  'there',\n",
              "  '.',\n",
              "  'John',\n",
              "  'moved',\n",
              "  'to',\n",
              "  'the',\n",
              "  'bedroom',\n",
              "  '.'],\n",
              " ['Is', 'John', 'in', 'the', 'kitchen', '?'],\n",
              " 'no')"
            ]
          },
          "metadata": {},
          "execution_count": 264
        }
      ]
    },
    {
      "cell_type": "markdown",
      "source": [
        "## The question will change here and get them in form of numbers to can predict \n",
        "sorry for using the old fuction should build new one for prediction "
      ],
      "metadata": {
        "id": "5Ra4re9Dbo1x"
      },
      "id": "5Ra4re9Dbo1x"
    },
    {
      "cell_type": "code",
      "source": [
        "data=(['Mary',\n",
        "  'got',\n",
        "  'the',\n",
        "  'milk',\n",
        "  'there',\n",
        "  '.',\n",
        "  'John',\n",
        "  'moved',\n",
        "  'to',\n",
        "  'the',\n",
        "  'bedroom',\n",
        "  '.'],\n",
        " ['Is', 'John', 'in', 'the', 'bedroom', '?'],\n",
        " 'no')\n",
        "storypre,question_pre,res=vectorize_Story([data])"
      ],
      "metadata": {
        "id": "GHq5v-l-Rhos"
      },
      "id": "GHq5v-l-Rhos",
      "execution_count": 285,
      "outputs": []
    },
    {
      "cell_type": "code",
      "source": [
        "storypre"
      ],
      "metadata": {
        "colab": {
          "base_uri": "https://localhost:8080/"
        },
        "id": "FKwHWJ0PaNAl",
        "outputId": "54b12b0d-1337-402c-edc9-b71a48753ec5"
      },
      "id": "FKwHWJ0PaNAl",
      "execution_count": 286,
      "outputs": [
        {
          "output_type": "execute_result",
          "data": {
            "text/plain": [
              "array([[ 0,  0,  0,  0,  0,  0,  0,  0,  0,  0,  0,  0,  0,  0,  0,  0,\n",
              "         0,  0,  0,  0,  0,  0,  0,  0,  0,  0,  0,  0,  0,  0,  0,  0,\n",
              "         0,  0,  0,  0,  0,  0,  0,  0,  0,  0,  0,  0,  0,  0,  0,  0,\n",
              "         0,  0,  0,  0,  0,  0,  0,  0,  0,  0,  0,  0,  0,  0,  0,  0,\n",
              "         0,  0,  0,  0,  0,  0,  0,  0,  0,  0,  0,  0,  0,  0,  0,  0,\n",
              "         0,  0,  0,  0,  0,  0,  0,  0,  0,  0,  0,  0,  0,  0,  0,  0,\n",
              "         0,  0,  0,  0,  0,  0,  0,  0,  0,  0,  0,  0,  0,  0,  0,  0,\n",
              "         0,  0,  0,  0,  0,  0,  0,  0,  0,  0,  0,  0,  0,  0,  0,  0,\n",
              "         0,  0,  0,  0,  0,  0,  0,  0,  0,  0,  0,  0,  0,  0,  0,  0,\n",
              "         5, 32, 37, 24, 15, 25, 26, 23, 12, 37, 11, 25]], dtype=int32)"
            ]
          },
          "metadata": {},
          "execution_count": 286
        }
      ]
    },
    {
      "cell_type": "code",
      "source": [
        "respre=model.predict(([storypre,question_pre]))"
      ],
      "metadata": {
        "id": "KW6hT2x9XAV5"
      },
      "id": "KW6hT2x9XAV5",
      "execution_count": 287,
      "outputs": []
    },
    {
      "cell_type": "code",
      "source": [
        "respre.argmax()"
      ],
      "metadata": {
        "colab": {
          "base_uri": "https://localhost:8080/"
        },
        "id": "C1pf3sVXaIiX",
        "outputId": "06dada58-47de-494a-ba31-cdc3e067e4fa"
      },
      "id": "C1pf3sVXaIiX",
      "execution_count": 288,
      "outputs": [
        {
          "output_type": "execute_result",
          "data": {
            "text/plain": [
              "27"
            ]
          },
          "metadata": {},
          "execution_count": 288
        }
      ]
    },
    {
      "cell_type": "code",
      "source": [
        "tokenizer.word_index['yes']"
      ],
      "metadata": {
        "colab": {
          "base_uri": "https://localhost:8080/"
        },
        "id": "crXV9Bw4aZtl",
        "outputId": "1c4a9194-85d7-4c02-91bd-858c0a29f290"
      },
      "id": "crXV9Bw4aZtl",
      "execution_count": 289,
      "outputs": [
        {
          "output_type": "execute_result",
          "data": {
            "text/plain": [
              "27"
            ]
          },
          "metadata": {},
          "execution_count": 289
        }
      ]
    },
    {
      "cell_type": "code",
      "source": [
        "test_data[100]"
      ],
      "metadata": {
        "colab": {
          "base_uri": "https://localhost:8080/"
        },
        "id": "OjzwHzaBaex1",
        "outputId": "c14066a9-aee7-4516-ef0b-6d8ba98b9ddc"
      },
      "id": "OjzwHzaBaex1",
      "execution_count": 290,
      "outputs": [
        {
          "output_type": "execute_result",
          "data": {
            "text/plain": [
              "(['John',\n",
              "  'took',\n",
              "  'the',\n",
              "  'apple',\n",
              "  'there',\n",
              "  '.',\n",
              "  'John',\n",
              "  'went',\n",
              "  'to',\n",
              "  'the',\n",
              "  'bathroom',\n",
              "  '.'],\n",
              " ['Is', 'John', 'in', 'the', 'hallway', '?'],\n",
              " 'no')"
            ]
          },
          "metadata": {},
          "execution_count": 290
        }
      ]
    },
    {
      "cell_type": "code",
      "source": [
        "data=(['John',\n",
        "  'took',\n",
        "  'the',\n",
        "  'apple',\n",
        "  'there',\n",
        "  '.',\n",
        "  'John',\n",
        "  'went',\n",
        "  'to',\n",
        "  'the',\n",
        "  'bathroom',\n",
        "  '.'],\n",
        " ['Is', 'John', 'in', 'the', 'bathroom', '?'],\n",
        " 'no')\n",
        "storypre,question_pre,res=vectorize_Story([data])"
      ],
      "metadata": {
        "id": "_doVViSTb737"
      },
      "id": "_doVViSTb737",
      "execution_count": 291,
      "outputs": []
    },
    {
      "cell_type": "code",
      "source": [
        "respre=model.predict(([storypre,question_pre]))\n",
        "respre.argmax()"
      ],
      "metadata": {
        "colab": {
          "base_uri": "https://localhost:8080/"
        },
        "id": "buVtsWFZcIOx",
        "outputId": "3d403c55-e5b5-41bd-db6f-c967be645be3"
      },
      "id": "buVtsWFZcIOx",
      "execution_count": 292,
      "outputs": [
        {
          "output_type": "execute_result",
          "data": {
            "text/plain": [
              "27"
            ]
          },
          "metadata": {},
          "execution_count": 292
        }
      ]
    },
    {
      "cell_type": "code",
      "source": [
        "test_data[250]"
      ],
      "metadata": {
        "colab": {
          "base_uri": "https://localhost:8080/"
        },
        "id": "pM7xMsO-cKyp",
        "outputId": "87e395e0-9377-4db4-b0e9-ddb43b13ee8f"
      },
      "id": "pM7xMsO-cKyp",
      "execution_count": 293,
      "outputs": [
        {
          "output_type": "execute_result",
          "data": {
            "text/plain": [
              "(['Mary',\n",
              "  'got',\n",
              "  'the',\n",
              "  'apple',\n",
              "  'there',\n",
              "  '.',\n",
              "  'John',\n",
              "  'moved',\n",
              "  'to',\n",
              "  'the',\n",
              "  'office',\n",
              "  '.'],\n",
              " ['Is', 'John', 'in', 'the', 'office', '?'],\n",
              " 'yes')"
            ]
          },
          "metadata": {},
          "execution_count": 293
        }
      ]
    },
    {
      "cell_type": "code",
      "source": [
        "data=(['Mary',\n",
        "  'got',\n",
        "  'the',\n",
        "  'apple',\n",
        "  'there',\n",
        "  '.',\n",
        "  'John',\n",
        "  'moved',\n",
        "  'to',\n",
        "  'the',\n",
        "  'bathroom',\n",
        "  '.'],\n",
        " ['Is', 'John', 'in', 'the', 'office', '?'],\n",
        " 'no')\n",
        "storypre,question_pre,res=vectorize_Story([data])"
      ],
      "metadata": {
        "id": "Wc-85iw8cPNC"
      },
      "id": "Wc-85iw8cPNC",
      "execution_count": 294,
      "outputs": []
    },
    {
      "cell_type": "code",
      "source": [
        "respre=model.predict(([storypre,question_pre]))\n",
        "respre.argmax()"
      ],
      "metadata": {
        "colab": {
          "base_uri": "https://localhost:8080/"
        },
        "id": "mGJGFMA1cbbl",
        "outputId": "72a336de-9d71-46ec-9382-2846a6541493"
      },
      "id": "mGJGFMA1cbbl",
      "execution_count": 295,
      "outputs": [
        {
          "output_type": "execute_result",
          "data": {
            "text/plain": [
              "35"
            ]
          },
          "metadata": {},
          "execution_count": 295
        }
      ]
    }
  ],
  "metadata": {
    "kernelspec": {
      "display_name": "Python 3 (ipykernel)",
      "language": "python",
      "name": "python3"
    },
    "language_info": {
      "codemirror_mode": {
        "name": "ipython",
        "version": 3
      },
      "file_extension": ".py",
      "mimetype": "text/x-python",
      "name": "python",
      "nbconvert_exporter": "python",
      "pygments_lexer": "ipython3",
      "version": "3.9.7"
    },
    "colab": {
      "name": "Q&A-ChatBot-UsingBabi.ipynb",
      "provenance": [],
      "collapsed_sections": []
    },
    "accelerator": "GPU",
    "gpuClass": "standard"
  },
  "nbformat": 4,
  "nbformat_minor": 5
}