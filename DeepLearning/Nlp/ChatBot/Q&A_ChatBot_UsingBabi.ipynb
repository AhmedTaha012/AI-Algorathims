{
  "cells": [
    {
      "cell_type": "markdown",
      "id": "a8165782",
      "metadata": {
        "ExecuteTime": {
          "end_time": "2022-06-27T19:44:04.634542Z",
          "start_time": "2022-06-27T19:44:04.378474Z"
        },
        "id": "a8165782"
      },
      "source": [
        "### Step1-LoadData"
      ]
    },
    {
      "cell_type": "code",
      "execution_count": null,
      "id": "43e76f10",
      "metadata": {
        "ExecuteTime": {
          "end_time": "2022-06-27T19:44:29.745057Z",
          "start_time": "2022-06-27T19:44:26.138083Z"
        },
        "id": "43e76f10"
      },
      "outputs": [],
      "source": [
        "import pickle \n",
        "import numpy as np"
      ]
    },
    {
      "cell_type": "markdown",
      "id": "4a94c357",
      "metadata": {
        "id": "4a94c357"
      },
      "source": [
        "### read train and test data"
      ]
    },
    {
      "cell_type": "code",
      "execution_count": null,
      "id": "ead0cb85",
      "metadata": {
        "ExecuteTime": {
          "end_time": "2022-06-27T19:46:22.667154Z",
          "start_time": "2022-06-27T19:46:22.603281Z"
        },
        "id": "ead0cb85"
      },
      "outputs": [],
      "source": [
        "with open(\"train_qa.txt\",\"rb\") as train:\n",
        "    train_data=pickle.load(train)"
      ]
    },
    {
      "cell_type": "code",
      "execution_count": null,
      "id": "f664db96",
      "metadata": {
        "ExecuteTime": {
          "end_time": "2022-06-27T19:46:51.803910Z",
          "start_time": "2022-06-27T19:46:51.782519Z"
        },
        "id": "f664db96"
      },
      "outputs": [],
      "source": [
        "with open(\"test_qa.txt\",\"rb\") as test:\n",
        "    test_data=pickle.load(test)"
      ]
    },
    {
      "cell_type": "markdown",
      "id": "21175c00",
      "metadata": {
        "id": "21175c00"
      },
      "source": [
        "### The length will be ?? "
      ]
    },
    {
      "cell_type": "code",
      "execution_count": null,
      "id": "012554a9",
      "metadata": {
        "ExecuteTime": {
          "end_time": "2022-06-27T19:47:39.508844Z",
          "start_time": "2022-06-27T19:47:39.494885Z"
        },
        "id": "012554a9"
      },
      "outputs": [],
      "source": [
        "len(test_data)"
      ]
    },
    {
      "cell_type": "code",
      "execution_count": null,
      "id": "1c7ec111",
      "metadata": {
        "ExecuteTime": {
          "end_time": "2022-06-27T19:47:45.459283Z",
          "start_time": "2022-06-27T19:47:45.443282Z"
        },
        "id": "1c7ec111"
      },
      "outputs": [],
      "source": [
        "len(train_data)"
      ]
    },
    {
      "cell_type": "markdown",
      "id": "a32a4a87",
      "metadata": {
        "id": "a32a4a87"
      },
      "source": [
        "### what the data look like??"
      ]
    },
    {
      "cell_type": "markdown",
      "id": "d61aa165",
      "metadata": {
        "id": "d61aa165"
      },
      "source": [
        "#### The first element in the list is the story the second element is the question of the story the last element is the question answer"
      ]
    },
    {
      "cell_type": "code",
      "execution_count": null,
      "id": "76db4f27",
      "metadata": {
        "ExecuteTime": {
          "end_time": "2022-06-27T19:48:12.071601Z",
          "start_time": "2022-06-27T19:48:12.056124Z"
        },
        "scrolled": true,
        "id": "76db4f27"
      },
      "outputs": [],
      "source": [
        "train_data[0]"
      ]
    },
    {
      "cell_type": "markdown",
      "id": "0c9cef25",
      "metadata": {
        "id": "0c9cef25"
      },
      "source": [
        "### Story is"
      ]
    },
    {
      "cell_type": "code",
      "execution_count": null,
      "id": "89ed261f",
      "metadata": {
        "ExecuteTime": {
          "end_time": "2022-06-27T19:51:19.289450Z",
          "start_time": "2022-06-27T19:51:19.276484Z"
        },
        "id": "89ed261f"
      },
      "outputs": [],
      "source": [
        "\" \".join(train_data[0][0])"
      ]
    },
    {
      "cell_type": "markdown",
      "id": "a1a4ffa3",
      "metadata": {
        "id": "a1a4ffa3"
      },
      "source": [
        "### Question is"
      ]
    },
    {
      "cell_type": "code",
      "execution_count": null,
      "id": "12bc457c",
      "metadata": {
        "ExecuteTime": {
          "end_time": "2022-06-27T19:51:26.082206Z",
          "start_time": "2022-06-27T19:51:26.062016Z"
        },
        "id": "12bc457c"
      },
      "outputs": [],
      "source": [
        "\" \".join(train_data[0][1])"
      ]
    },
    {
      "cell_type": "markdown",
      "id": "7bb626ee",
      "metadata": {
        "id": "7bb626ee"
      },
      "source": [
        "### Answer is "
      ]
    },
    {
      "cell_type": "code",
      "execution_count": null,
      "id": "5e889eba",
      "metadata": {
        "ExecuteTime": {
          "end_time": "2022-06-27T19:51:47.630247Z",
          "start_time": "2022-06-27T19:51:47.621241Z"
        },
        "id": "5e889eba"
      },
      "outputs": [],
      "source": [
        "\" \".join(train_data[0][2])"
      ]
    },
    {
      "cell_type": "markdown",
      "id": "f4ab8fbb",
      "metadata": {
        "id": "f4ab8fbb"
      },
      "source": [
        "## Now we need to make an vocabulary of our large data to "
      ]
    },
    {
      "cell_type": "code",
      "execution_count": null,
      "id": "66d7008d",
      "metadata": {
        "ExecuteTime": {
          "end_time": "2022-06-28T00:37:46.696890Z",
          "start_time": "2022-06-28T00:37:46.691868Z"
        },
        "id": "66d7008d"
      },
      "outputs": [],
      "source": [
        "alldata=test_data+train_data"
      ]
    },
    {
      "cell_type": "markdown",
      "id": "cf85e443",
      "metadata": {
        "id": "cf85e443"
      },
      "source": [
        "## Will make a set to contains the unique words"
      ]
    },
    {
      "cell_type": "code",
      "execution_count": null,
      "id": "53e996b9",
      "metadata": {
        "ExecuteTime": {
          "end_time": "2022-06-28T00:40:32.939334Z",
          "start_time": "2022-06-28T00:40:32.898438Z"
        },
        "id": "53e996b9"
      },
      "outputs": [],
      "source": [
        "vocab=set()\n",
        "for story,question,answer in alldata:\n",
        "    vocab=vocab.union(set(story))\n",
        "    vocab=vocab.union(set(question))\n",
        "vocab.add(\"yes\")\n",
        "vocab.add(\"no\")"
      ]
    },
    {
      "cell_type": "markdown",
      "id": "94484e08",
      "metadata": {
        "id": "94484e08"
      },
      "source": [
        "# Vocab length is "
      ]
    },
    {
      "cell_type": "code",
      "execution_count": null,
      "id": "e686e178",
      "metadata": {
        "ExecuteTime": {
          "end_time": "2022-06-28T00:41:18.984530Z",
          "start_time": "2022-06-28T00:41:18.968530Z"
        },
        "id": "e686e178"
      },
      "outputs": [],
      "source": [
        "vocableng=len(vocab)+1  ## +1 for keras "
      ]
    },
    {
      "cell_type": "markdown",
      "id": "cbb4d03d",
      "metadata": {
        "id": "cbb4d03d"
      },
      "source": [
        "## Get all stories length"
      ]
    },
    {
      "cell_type": "code",
      "execution_count": null,
      "id": "ffb8e538",
      "metadata": {
        "ExecuteTime": {
          "end_time": "2022-06-28T01:17:45.692535Z",
          "start_time": "2022-06-28T01:17:45.684574Z"
        },
        "id": "ffb8e538"
      },
      "outputs": [],
      "source": [
        "storieslength=[len(i[0]) for i in alldata]"
      ]
    },
    {
      "cell_type": "code",
      "execution_count": null,
      "id": "8e70cb8d",
      "metadata": {
        "ExecuteTime": {
          "end_time": "2022-06-28T01:17:46.501815Z",
          "start_time": "2022-06-28T01:17:46.494814Z"
        },
        "id": "8e70cb8d"
      },
      "outputs": [],
      "source": [
        "max_story_len=max(storieslength)"
      ]
    },
    {
      "cell_type": "code",
      "execution_count": null,
      "id": "3d7024da",
      "metadata": {
        "ExecuteTime": {
          "end_time": "2022-06-28T00:43:53.786649Z",
          "start_time": "2022-06-28T00:43:53.778672Z"
        },
        "id": "3d7024da"
      },
      "outputs": [],
      "source": [
        "Qlength=[len(i[1]) for i in alldata]"
      ]
    },
    {
      "cell_type": "code",
      "execution_count": null,
      "id": "b196c91c",
      "metadata": {
        "ExecuteTime": {
          "end_time": "2022-06-28T00:44:21.064438Z",
          "start_time": "2022-06-28T00:44:21.058454Z"
        },
        "id": "b196c91c"
      },
      "outputs": [],
      "source": [
        "max_Qlength_len=max(Qlength)"
      ]
    },
    {
      "cell_type": "code",
      "source": [
        "max_Qlength_len"
      ],
      "metadata": {
        "id": "Qih5kBaWK5Wm"
      },
      "id": "Qih5kBaWK5Wm",
      "execution_count": null,
      "outputs": []
    },
    {
      "cell_type": "code",
      "source": [
        "vocab"
      ],
      "metadata": {
        "id": "kK9W-SLkLTB7"
      },
      "id": "kK9W-SLkLTB7",
      "execution_count": null,
      "outputs": []
    },
    {
      "cell_type": "code",
      "execution_count": null,
      "id": "c73c79f8",
      "metadata": {
        "ExecuteTime": {
          "end_time": "2022-06-28T00:46:43.779879Z",
          "start_time": "2022-06-28T00:46:43.775884Z"
        },
        "id": "c73c79f8"
      },
      "outputs": [],
      "source": [
        "## time for preprocessing"
      ]
    },
    {
      "cell_type": "code",
      "execution_count": null,
      "id": "bb6221c5",
      "metadata": {
        "ExecuteTime": {
          "end_time": "2022-06-28T00:48:00.069113Z",
          "start_time": "2022-06-28T00:48:00.061125Z"
        },
        "id": "bb6221c5"
      },
      "outputs": [],
      "source": [
        "from keras.preprocessing.sequence import pad_sequences\n",
        "from keras.preprocessing.text import Tokenizer"
      ]
    },
    {
      "cell_type": "code",
      "execution_count": null,
      "id": "e1bd0162",
      "metadata": {
        "ExecuteTime": {
          "end_time": "2022-06-28T00:49:16.456411Z",
          "start_time": "2022-06-28T00:49:16.448391Z"
        },
        "id": "e1bd0162"
      },
      "outputs": [],
      "source": [
        "# integer encode sequences of words\n",
        "tokenizer = Tokenizer(filters=[])\n",
        "tokenizer.fit_on_texts(vocab)"
      ]
    },
    {
      "cell_type": "code",
      "execution_count": null,
      "id": "24611896",
      "metadata": {
        "ExecuteTime": {
          "end_time": "2022-06-28T00:49:24.569415Z",
          "start_time": "2022-06-28T00:49:24.551441Z"
        },
        "scrolled": true,
        "id": "24611896"
      },
      "outputs": [],
      "source": [
        "tokenizer.word_index"
      ]
    },
    {
      "cell_type": "markdown",
      "id": "e8d9066d",
      "metadata": {
        "id": "e8d9066d"
      },
      "source": [
        "### Now the time to convert our text train data to numbers using keras tokenizer sequence "
      ]
    },
    {
      "cell_type": "code",
      "execution_count": null,
      "id": "676c1af4",
      "metadata": {
        "ExecuteTime": {
          "end_time": "2022-06-28T00:57:01.130297Z",
          "start_time": "2022-06-28T00:57:01.120325Z"
        },
        "id": "676c1af4"
      },
      "outputs": [],
      "source": [
        "train_Story_text=[]\n",
        "train_question_text=[]\n",
        "for story,question,answer in train_data:\n",
        "    train_Story_text.append(story)\n",
        "    train_question_text.append(question)\n",
        "    "
      ]
    },
    {
      "cell_type": "code",
      "execution_count": null,
      "id": "f2ccbdfe",
      "metadata": {
        "ExecuteTime": {
          "end_time": "2022-06-28T00:57:40.817804Z",
          "start_time": "2022-06-28T00:57:40.674950Z"
        },
        "id": "f2ccbdfe"
      },
      "outputs": [],
      "source": [
        "train_story_Seq=tokenizer.texts_to_sequences(train_Story_text)"
      ]
    },
    {
      "cell_type": "code",
      "execution_count": null,
      "id": "7ab6b349",
      "metadata": {
        "ExecuteTime": {
          "end_time": "2022-06-28T00:57:46.422417Z",
          "start_time": "2022-06-28T00:57:46.403426Z"
        },
        "id": "7ab6b349"
      },
      "outputs": [],
      "source": [
        "train_story_Seq[0]"
      ]
    },
    {
      "cell_type": "code",
      "execution_count": null,
      "id": "7fba5cd4",
      "metadata": {
        "ExecuteTime": {
          "end_time": "2022-06-28T00:59:15.677449Z",
          "start_time": "2022-06-28T00:59:15.658929Z"
        },
        "id": "7fba5cd4"
      },
      "outputs": [],
      "source": [
        "train_Story_text[0]"
      ]
    },
    {
      "cell_type": "markdown",
      "id": "40704522",
      "metadata": {
        "id": "40704522"
      },
      "source": [
        "#### now we need to padding the text to be sure that all the data that can goes to the neural netword are in same shape and length "
      ]
    },
    {
      "cell_type": "code",
      "execution_count": null,
      "id": "92408576",
      "metadata": {
        "ExecuteTime": {
          "end_time": "2022-06-28T01:32:06.765567Z",
          "start_time": "2022-06-28T01:32:06.744623Z"
        },
        "id": "92408576"
      },
      "outputs": [],
      "source": [
        "def vectorize_Story(data,word_index=tokenizer.word_index,max_story_len=max_story_len,max_question_len=max_Qlength_len):\n",
        "    ## Stories\n",
        "    x=[]\n",
        "    ## question\n",
        "    xq=[]\n",
        "    ## correct answer ()\n",
        "    y=[]\n",
        "    \n",
        "    for story,q,ans in data:\n",
        "        X=[word_index[word.lower()] for word in story] ## index of each word in story\n",
        "        XQ=[word_index[word.lower()] for word in q] ## index of each word in question\n",
        "        Y=np.zeros(len(word_index)+1) ## array of zeros to can contains the reuslts 0 for no one for yes\n",
        "        Y[word_index[ans]]=1 ## using logic to can assign 1 if result is yes\n",
        "        ## append the result to  to can genrate the full document\n",
        "        x.append(X)\n",
        "        xq.append(XQ)\n",
        "        y.append(Y)\n",
        "        \n",
        "   # RETURN TUPLE FOR UNPACKING\n",
        "    return (pad_sequences(x, maxlen=max_story_len),pad_sequences(xq, maxlen=max_question_len), np.array(y))\n",
        "    "
      ]
    },
    {
      "cell_type": "code",
      "execution_count": null,
      "id": "88574f13",
      "metadata": {
        "ExecuteTime": {
          "end_time": "2022-06-28T01:32:16.225803Z",
          "start_time": "2022-06-28T01:32:16.049055Z"
        },
        "id": "88574f13"
      },
      "outputs": [],
      "source": [
        "story_train,ques_train,answer_train=vectorize_Story(train_data)"
      ]
    },
    {
      "cell_type": "code",
      "execution_count": null,
      "id": "561ca88c",
      "metadata": {
        "ExecuteTime": {
          "end_time": "2022-06-28T01:32:23.750771Z",
          "start_time": "2022-06-28T01:32:23.710209Z"
        },
        "id": "561ca88c"
      },
      "outputs": [],
      "source": [
        "story_test,ques_test,answer_test=vectorize_Story(test_data)"
      ]
    },
    {
      "cell_type": "code",
      "execution_count": null,
      "id": "14ec7833",
      "metadata": {
        "ExecuteTime": {
          "end_time": "2022-06-28T01:32:26.149152Z",
          "start_time": "2022-06-28T01:32:26.134192Z"
        },
        "scrolled": true,
        "id": "14ec7833"
      },
      "outputs": [],
      "source": [
        "story_test"
      ]
    },
    {
      "cell_type": "code",
      "execution_count": null,
      "id": "e93f0988",
      "metadata": {
        "ExecuteTime": {
          "end_time": "2022-06-28T01:34:50.418484Z",
          "start_time": "2022-06-28T01:34:50.413493Z"
        },
        "id": "e93f0988"
      },
      "outputs": [],
      "source": [
        "len(story_test)"
      ]
    },
    {
      "cell_type": "code",
      "execution_count": null,
      "id": "72522c2b",
      "metadata": {
        "ExecuteTime": {
          "end_time": "2022-06-28T01:32:28.793009Z",
          "start_time": "2022-06-28T01:32:28.779000Z"
        },
        "id": "72522c2b"
      },
      "outputs": [],
      "source": [
        "answer_test"
      ]
    },
    {
      "cell_type": "code",
      "execution_count": null,
      "id": "1cbcb4e1",
      "metadata": {
        "ExecuteTime": {
          "end_time": "2022-06-28T01:35:21.130181Z",
          "start_time": "2022-06-28T01:35:21.112626Z"
        },
        "id": "1cbcb4e1"
      },
      "outputs": [],
      "source": [
        "tokenizer.word_index['yes']"
      ]
    },
    {
      "cell_type": "code",
      "execution_count": null,
      "id": "ff86f8ce",
      "metadata": {
        "ExecuteTime": {
          "end_time": "2022-06-28T01:35:37.194510Z",
          "start_time": "2022-06-28T01:35:37.172526Z"
        },
        "id": "ff86f8ce"
      },
      "outputs": [],
      "source": [
        "tokenizer.word_index['no']"
      ]
    },
    {
      "cell_type": "code",
      "execution_count": null,
      "id": "eb00dce8",
      "metadata": {
        "ExecuteTime": {
          "end_time": "2022-06-28T01:35:48.831801Z",
          "start_time": "2022-06-28T01:35:48.774907Z"
        },
        "id": "eb00dce8"
      },
      "outputs": [],
      "source": [
        "sum(answer_test)"
      ]
    },
    {
      "cell_type": "markdown",
      "id": "a2418461",
      "metadata": {
        "id": "a2418461"
      },
      "source": [
        "# Now the time for build the network\n",
        "### -input encoder M \n",
        "### -input encoder C\n",
        "### -Question Encoder \n",
        "### the network is based on this paper check it :\n",
        "https://proceedings.neurips.cc/paper/2015/file/8fb21ee7a2207526da55a679f0332de2-Paper.pdf"
      ]
    },
    {
      "cell_type": "code",
      "execution_count": null,
      "id": "19d4e0d4",
      "metadata": {
        "ExecuteTime": {
          "end_time": "2022-06-28T01:44:59.722524Z",
          "start_time": "2022-06-28T01:44:59.703554Z"
        },
        "id": "19d4e0d4"
      },
      "outputs": [],
      "source": [
        "from keras.models import Sequential, Model\n",
        "from keras.layers.embeddings import Embedding\n",
        "from keras.layers import Input, Activation, Dense, Permute, Dropout\n",
        "from keras.layers import add, dot, concatenate\n",
        "from keras.layers import LSTM"
      ]
    },
    {
      "cell_type": "code",
      "execution_count": null,
      "id": "7f885321",
      "metadata": {
        "ExecuteTime": {
          "end_time": "2022-06-28T01:47:59.527779Z",
          "start_time": "2022-06-28T01:47:59.457672Z"
        },
        "id": "7f885321"
      },
      "outputs": [],
      "source": [
        "# Place holder for the length of story and questions since our network takes two inputs\n",
        "input_sequence=Input((max_story_len,))\n",
        "qu=Input((max_Qlength_len,))\n"
      ]
    },
    {
      "cell_type": "code",
      "execution_count": null,
      "id": "ab0e0713",
      "metadata": {
        "ExecuteTime": {
          "end_time": "2022-06-28T01:48:29.056867Z",
          "start_time": "2022-06-28T01:48:29.042905Z"
        },
        "id": "ab0e0713"
      },
      "outputs": [],
      "source": [
        "# size of our vocabs\n",
        "vocab_size=len(vocab)+1"
      ]
    },
    {
      "cell_type": "code",
      "execution_count": null,
      "id": "6bcea605",
      "metadata": {
        "ExecuteTime": {
          "end_time": "2022-06-28T01:50:05.821415Z",
          "start_time": "2022-06-28T01:50:05.489856Z"
        },
        "id": "6bcea605"
      },
      "outputs": [],
      "source": [
        "#Encoder M\n",
        "input_encoder_m=Sequential()\n",
        "input_encoder_m.add(Embedding(input_dim=vocab_size,output_dim=64)) ## 64 from paper\n",
        "## add droup out to avoid the over fitting \n",
        "input_encoder_m.add(Dropout(0.3))"
      ]
    },
    {
      "cell_type": "code",
      "execution_count": null,
      "id": "ca65ae89",
      "metadata": {
        "ExecuteTime": {
          "end_time": "2022-06-28T01:51:19.219782Z",
          "start_time": "2022-06-28T01:51:19.193823Z"
        },
        "id": "ca65ae89"
      },
      "outputs": [],
      "source": [
        "#Encoder C\n",
        "input_encoder_c=Sequential()\n",
        "input_encoder_c.add(Embedding(input_dim=vocab_size,output_dim=max_Qlength_len))\n",
        "## add droup out to avoid the over fitting \n",
        "input_encoder_c.add(Dropout(0.3))"
      ]
    },
    {
      "cell_type": "code",
      "execution_count": null,
      "id": "4643b934",
      "metadata": {
        "ExecuteTime": {
          "end_time": "2022-06-28T01:53:10.937696Z",
          "start_time": "2022-06-28T01:53:10.909729Z"
        },
        "id": "4643b934"
      },
      "outputs": [],
      "source": [
        "question_Encoder=Sequential()\n",
        "question_Encoder.add(Embedding(input_dim=vocab_size,output_dim=64,input_length=max_Qlength_len))\n",
        "## add droup out to avoid the over fitting \n",
        "question_Encoder.add(Dropout(0.3))"
      ]
    },
    {
      "cell_type": "code",
      "execution_count": null,
      "id": "4bc166b6",
      "metadata": {
        "ExecuteTime": {
          "end_time": "2022-06-28T01:57:44.968827Z",
          "start_time": "2022-06-28T01:57:44.948907Z"
        },
        "id": "4bc166b6"
      },
      "outputs": [],
      "source": [
        "input_encoded_m=input_encoder_m(input_sequence)\n",
        "input_encoded_c=input_encoder_c(input_sequence)\n",
        "question_Encoded=question_Encoder(qu)"
      ]
    },
    {
      "cell_type": "code",
      "execution_count": null,
      "id": "8aab4d0e",
      "metadata": {
        "ExecuteTime": {
          "end_time": "2022-06-28T01:59:33.155405Z",
          "start_time": "2022-06-28T01:59:33.137452Z"
        },
        "id": "8aab4d0e"
      },
      "outputs": [],
      "source": [
        "## Now will use the dot product as the paper to can multiplt the m with questions and then passes it to soft max\n",
        "match=dot([input_encoded_m,question_Encoded],axes=(2,2))\n",
        "match=Activation('softmax')(match)"
      ]
    },
    {
      "cell_type": "code",
      "execution_count": null,
      "id": "fdc5fc12",
      "metadata": {
        "ExecuteTime": {
          "end_time": "2022-06-28T02:00:28.860571Z",
          "start_time": "2022-06-28T02:00:28.838629Z"
        },
        "id": "fdc5fc12"
      },
      "outputs": [],
      "source": [
        "response=add([match,input_encoded_c])\n",
        "response=Permute((2,1))(response)"
      ]
    },
    {
      "cell_type": "code",
      "execution_count": null,
      "id": "887e9d63",
      "metadata": {
        "ExecuteTime": {
          "end_time": "2022-06-28T02:00:57.474853Z",
          "start_time": "2022-06-28T02:00:57.461873Z"
        },
        "id": "887e9d63"
      },
      "outputs": [],
      "source": [
        "answer=concatenate([response,question_Encoded])"
      ]
    },
    {
      "cell_type": "code",
      "execution_count": null,
      "id": "4df23532",
      "metadata": {
        "ExecuteTime": {
          "end_time": "2022-06-28T02:01:04.712410Z",
          "start_time": "2022-06-28T02:01:04.699447Z"
        },
        "id": "4df23532"
      },
      "outputs": [],
      "source": [
        "answer"
      ]
    },
    {
      "cell_type": "code",
      "execution_count": null,
      "id": "6f6a6e03",
      "metadata": {
        "ExecuteTime": {
          "end_time": "2022-06-28T02:01:38.003344Z",
          "start_time": "2022-06-28T02:01:37.637837Z"
        },
        "id": "6f6a6e03"
      },
      "outputs": [],
      "source": [
        "answer=LSTM(32)(answer)"
      ]
    },
    {
      "cell_type": "code",
      "execution_count": null,
      "id": "6552d0bc",
      "metadata": {
        "ExecuteTime": {
          "end_time": "2022-06-28T02:02:42.282563Z",
          "start_time": "2022-06-28T02:02:42.270596Z"
        },
        "id": "6552d0bc"
      },
      "outputs": [],
      "source": [
        "## passes the answer to the softmax to get the results"
      ]
    },
    {
      "cell_type": "code",
      "execution_count": null,
      "id": "2f807e52",
      "metadata": {
        "ExecuteTime": {
          "end_time": "2022-06-28T02:02:15.720433Z",
          "start_time": "2022-06-28T02:02:15.692491Z"
        },
        "id": "2f807e52"
      },
      "outputs": [],
      "source": [
        "answer=Dropout(0.5)(answer)\n",
        "answer=Dense(vocab_size)(answer)\n",
        "answer = Activation('softmax')(answer)"
      ]
    },
    {
      "cell_type": "code",
      "execution_count": null,
      "id": "fc6e24d5",
      "metadata": {
        "ExecuteTime": {
          "end_time": "2022-06-28T02:03:14.172793Z",
          "start_time": "2022-06-28T02:03:14.154853Z"
        },
        "id": "fc6e24d5"
      },
      "outputs": [],
      "source": [
        "model=Model([input_sequence,qu],answer)"
      ]
    },
    {
      "cell_type": "code",
      "execution_count": null,
      "id": "a903d244",
      "metadata": {
        "ExecuteTime": {
          "end_time": "2022-06-28T02:04:14.037235Z",
          "start_time": "2022-06-28T02:04:14.013255Z"
        },
        "id": "a903d244"
      },
      "outputs": [],
      "source": [
        "model.compile(optimizer='rmsprop',loss='categorical_crossentropy',metrics=['accuracy'])"
      ]
    },
    {
      "cell_type": "code",
      "execution_count": null,
      "id": "6f76c81e",
      "metadata": {
        "ExecuteTime": {
          "end_time": "2022-06-28T02:04:28.659098Z",
          "start_time": "2022-06-28T02:04:28.627186Z"
        },
        "id": "6f76c81e"
      },
      "outputs": [],
      "source": [
        "model.summary()"
      ]
    },
    {
      "cell_type": "code",
      "execution_count": null,
      "id": "adf14e76",
      "metadata": {
        "id": "adf14e76"
      },
      "outputs": [],
      "source": [
        "history=model.fit([story_train,ques_train],answer_train,batch_size=32,epochs=120,validation_data=([story_test,ques_test],answer_test))"
      ]
    },
    {
      "cell_type": "code",
      "source": [
        "filename = 'chatbot_120_epochs.h5'\n",
        "model.save(filename)"
      ],
      "metadata": {
        "id": "s8_HmQipQK0f"
      },
      "id": "s8_HmQipQK0f",
      "execution_count": null,
      "outputs": []
    },
    {
      "cell_type": "code",
      "source": [
        "import matplotlib.pyplot as plt\n",
        "%matplotlib inline\n",
        "print(history.history.keys())\n",
        "# summarize history for accuracy\n",
        "plt.plot(history.history['accuracy'])\n",
        "plt.plot(history.history['val_accuracy'])\n",
        "plt.title('model accuracy')\n",
        "plt.ylabel('accuracy')\n",
        "plt.xlabel('epoch')\n",
        "plt.legend(['train', 'test'], loc='lower right')\n",
        "plt.show()"
      ],
      "metadata": {
        "id": "HdKveB32QRSw"
      },
      "id": "HdKveB32QRSw",
      "execution_count": null,
      "outputs": []
    },
    {
      "cell_type": "markdown",
      "source": [
        "### Now will try the model on the test sets but will change the questions and the stories"
      ],
      "metadata": {
        "id": "7PRrkZWRbdPR"
      },
      "id": "7PRrkZWRbdPR"
    },
    {
      "cell_type": "code",
      "source": [
        "test_data[0]"
      ],
      "metadata": {
        "id": "m_PWr2QtZKha"
      },
      "id": "m_PWr2QtZKha",
      "execution_count": null,
      "outputs": []
    },
    {
      "cell_type": "markdown",
      "source": [
        "## The question will change here and get them in form of numbers to can predict \n",
        "sorry for using the old fuction should build new one for prediction "
      ],
      "metadata": {
        "id": "5Ra4re9Dbo1x"
      },
      "id": "5Ra4re9Dbo1x"
    },
    {
      "cell_type": "code",
      "source": [
        "data=(['Mary',\n",
        "  'got',\n",
        "  'the',\n",
        "  'milk',\n",
        "  'there',\n",
        "  '.',\n",
        "  'John',\n",
        "  'moved',\n",
        "  'to',\n",
        "  'the',\n",
        "  'bedroom',\n",
        "  '.'],\n",
        " ['Is', 'John', 'in', 'the', 'bedroom', '?'],\n",
        " 'no')\n",
        "storypre,question_pre,res=vectorize_Story([data])"
      ],
      "metadata": {
        "id": "GHq5v-l-Rhos"
      },
      "id": "GHq5v-l-Rhos",
      "execution_count": null,
      "outputs": []
    },
    {
      "cell_type": "code",
      "source": [
        "storypre"
      ],
      "metadata": {
        "id": "FKwHWJ0PaNAl"
      },
      "id": "FKwHWJ0PaNAl",
      "execution_count": null,
      "outputs": []
    },
    {
      "cell_type": "code",
      "source": [
        "respre=model.predict(([storypre,question_pre]))"
      ],
      "metadata": {
        "id": "KW6hT2x9XAV5"
      },
      "id": "KW6hT2x9XAV5",
      "execution_count": null,
      "outputs": []
    },
    {
      "cell_type": "code",
      "source": [
        "respre.argmax()"
      ],
      "metadata": {
        "id": "C1pf3sVXaIiX"
      },
      "id": "C1pf3sVXaIiX",
      "execution_count": null,
      "outputs": []
    },
    {
      "cell_type": "code",
      "source": [
        "tokenizer.word_index['yes']"
      ],
      "metadata": {
        "id": "crXV9Bw4aZtl"
      },
      "id": "crXV9Bw4aZtl",
      "execution_count": null,
      "outputs": []
    },
    {
      "cell_type": "code",
      "source": [
        "test_data[100]"
      ],
      "metadata": {
        "id": "OjzwHzaBaex1"
      },
      "id": "OjzwHzaBaex1",
      "execution_count": null,
      "outputs": []
    },
    {
      "cell_type": "code",
      "source": [
        "data=(['John',\n",
        "  'took',\n",
        "  'the',\n",
        "  'apple',\n",
        "  'there',\n",
        "  '.',\n",
        "  'John',\n",
        "  'went',\n",
        "  'to',\n",
        "  'the',\n",
        "  'bathroom',\n",
        "  '.'],\n",
        " ['Is', 'John', 'in', 'the', 'bathroom', '?'],\n",
        " 'no')\n",
        "storypre,question_pre,res=vectorize_Story([data])"
      ],
      "metadata": {
        "id": "_doVViSTb737"
      },
      "id": "_doVViSTb737",
      "execution_count": null,
      "outputs": []
    },
    {
      "cell_type": "code",
      "source": [
        "respre=model.predict(([storypre,question_pre]))\n",
        "respre.argmax()"
      ],
      "metadata": {
        "id": "buVtsWFZcIOx"
      },
      "id": "buVtsWFZcIOx",
      "execution_count": null,
      "outputs": []
    },
    {
      "cell_type": "code",
      "source": [
        "test_data[250]"
      ],
      "metadata": {
        "id": "pM7xMsO-cKyp"
      },
      "id": "pM7xMsO-cKyp",
      "execution_count": null,
      "outputs": []
    },
    {
      "cell_type": "code",
      "source": [
        "data=(['Mary',\n",
        "  'got',\n",
        "  'the',\n",
        "  'apple',\n",
        "  'there',\n",
        "  '.',\n",
        "  'John',\n",
        "  'moved',\n",
        "  'to',\n",
        "  'the',\n",
        "  'bathroom',\n",
        "  '.'],\n",
        " ['Is', 'John', 'in', 'the', 'office', '?'],\n",
        " 'no')\n",
        "storypre,question_pre,res=vectorize_Story([data])"
      ],
      "metadata": {
        "id": "Wc-85iw8cPNC"
      },
      "id": "Wc-85iw8cPNC",
      "execution_count": null,
      "outputs": []
    },
    {
      "cell_type": "code",
      "source": [
        "respre=model.predict(([storypre,question_pre]))\n",
        "respre.argmax()"
      ],
      "metadata": {
        "id": "mGJGFMA1cbbl"
      },
      "id": "mGJGFMA1cbbl",
      "execution_count": null,
      "outputs": []
    }
  ],
  "metadata": {
    "kernelspec": {
      "display_name": "Python 3 (ipykernel)",
      "language": "python",
      "name": "python3"
    },
    "language_info": {
      "codemirror_mode": {
        "name": "ipython",
        "version": 3
      },
      "file_extension": ".py",
      "mimetype": "text/x-python",
      "name": "python",
      "nbconvert_exporter": "python",
      "pygments_lexer": "ipython3",
      "version": "3.9.7"
    },
    "colab": {
      "name": "Q&A-ChatBot-UsingBabi.ipynb",
      "private_outputs": true,
      "provenance": [],
      "collapsed_sections": []
    },
    "accelerator": "GPU",
    "gpuClass": "standard"
  },
  "nbformat": 4,
  "nbformat_minor": 5
}