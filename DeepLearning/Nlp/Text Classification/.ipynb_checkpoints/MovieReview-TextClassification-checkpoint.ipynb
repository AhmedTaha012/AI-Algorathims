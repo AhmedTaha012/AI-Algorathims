{
 "cells": [
  {
   "cell_type": "markdown",
   "id": "dbd3de6e",
   "metadata": {},
   "source": [
    " ## Required modules"
   ]
  },
  {
   "cell_type": "code",
   "execution_count": 40,
   "id": "963a6340",
   "metadata": {
    "ExecuteTime": {
     "end_time": "2022-06-24T23:32:45.529869Z",
     "start_time": "2022-06-24T23:32:45.517231Z"
    }
   },
   "outputs": [],
   "source": [
    "import numpy as np \n",
    "import pandas as pd\n",
    "from sklearn.model_selection import train_test_split\n",
    "from sklearn import metrics \n",
    "import seaborn as sns\n",
    "from sklearn.pipeline import Pipeline\n",
    "from sklearn.feature_extraction.text import TfidfVectorizer\n",
    "from sklearn.svm import LinearSVC\n",
    "import matplotlib.pyplot as plt"
   ]
  },
  {
   "cell_type": "code",
   "execution_count": 2,
   "id": "8273f9e1",
   "metadata": {
    "ExecuteTime": {
     "end_time": "2022-06-24T23:15:32.242377Z",
     "start_time": "2022-06-24T23:15:32.139652Z"
    }
   },
   "outputs": [],
   "source": [
    "df=pd.read_csv(\"moviereviews.tsv\",sep='\\t')"
   ]
  },
  {
   "cell_type": "code",
   "execution_count": 3,
   "id": "f724d31a",
   "metadata": {
    "ExecuteTime": {
     "end_time": "2022-06-24T23:15:41.790385Z",
     "start_time": "2022-06-24T23:15:41.776381Z"
    },
    "scrolled": true
   },
   "outputs": [
    {
     "data": {
      "text/html": [
       "<div>\n",
       "<style scoped>\n",
       "    .dataframe tbody tr th:only-of-type {\n",
       "        vertical-align: middle;\n",
       "    }\n",
       "\n",
       "    .dataframe tbody tr th {\n",
       "        vertical-align: top;\n",
       "    }\n",
       "\n",
       "    .dataframe thead th {\n",
       "        text-align: right;\n",
       "    }\n",
       "</style>\n",
       "<table border=\"1\" class=\"dataframe\">\n",
       "  <thead>\n",
       "    <tr style=\"text-align: right;\">\n",
       "      <th></th>\n",
       "      <th>label</th>\n",
       "      <th>review</th>\n",
       "    </tr>\n",
       "  </thead>\n",
       "  <tbody>\n",
       "    <tr>\n",
       "      <th>0</th>\n",
       "      <td>neg</td>\n",
       "      <td>how do films like mouse hunt get into theatres...</td>\n",
       "    </tr>\n",
       "    <tr>\n",
       "      <th>1</th>\n",
       "      <td>neg</td>\n",
       "      <td>some talented actresses are blessed with a dem...</td>\n",
       "    </tr>\n",
       "    <tr>\n",
       "      <th>2</th>\n",
       "      <td>pos</td>\n",
       "      <td>this has been an extraordinary year for austra...</td>\n",
       "    </tr>\n",
       "    <tr>\n",
       "      <th>3</th>\n",
       "      <td>pos</td>\n",
       "      <td>according to hollywood movies made in last few...</td>\n",
       "    </tr>\n",
       "    <tr>\n",
       "      <th>4</th>\n",
       "      <td>neg</td>\n",
       "      <td>my first press screening of 1998 and already i...</td>\n",
       "    </tr>\n",
       "  </tbody>\n",
       "</table>\n",
       "</div>"
      ],
      "text/plain": [
       "  label                                             review\n",
       "0   neg  how do films like mouse hunt get into theatres...\n",
       "1   neg  some talented actresses are blessed with a dem...\n",
       "2   pos  this has been an extraordinary year for austra...\n",
       "3   pos  according to hollywood movies made in last few...\n",
       "4   neg  my first press screening of 1998 and already i..."
      ]
     },
     "execution_count": 3,
     "metadata": {},
     "output_type": "execute_result"
    }
   ],
   "source": [
    "df.head()"
   ]
  },
  {
   "cell_type": "code",
   "execution_count": 10,
   "id": "7f5e915e",
   "metadata": {
    "ExecuteTime": {
     "end_time": "2022-06-24T23:17:21.008746Z",
     "start_time": "2022-06-24T23:17:20.995780Z"
    }
   },
   "outputs": [
    {
     "data": {
      "text/plain": [
       "2000"
      ]
     },
     "execution_count": 10,
     "metadata": {},
     "output_type": "execute_result"
    }
   ],
   "source": [
    "len(df)"
   ]
  },
  {
   "cell_type": "code",
   "execution_count": 9,
   "id": "ca4ab5b8",
   "metadata": {
    "ExecuteTime": {
     "end_time": "2022-06-24T23:17:07.716203Z",
     "start_time": "2022-06-24T23:17:07.698249Z"
    }
   },
   "outputs": [
    {
     "data": {
      "text/plain": [
       "label      0\n",
       "review    35\n",
       "dtype: int64"
      ]
     },
     "execution_count": 9,
     "metadata": {},
     "output_type": "execute_result"
    }
   ],
   "source": [
    "df.isnull().sum()"
   ]
  },
  {
   "cell_type": "code",
   "execution_count": 11,
   "id": "ff8b071f",
   "metadata": {
    "ExecuteTime": {
     "end_time": "2022-06-24T23:17:54.794553Z",
     "start_time": "2022-06-24T23:17:54.774487Z"
    }
   },
   "outputs": [],
   "source": [
    "df.dropna(inplace=True)"
   ]
  },
  {
   "cell_type": "code",
   "execution_count": 13,
   "id": "e7218cf4",
   "metadata": {
    "ExecuteTime": {
     "end_time": "2022-06-24T23:18:10.911235Z",
     "start_time": "2022-06-24T23:18:10.898226Z"
    }
   },
   "outputs": [
    {
     "data": {
      "text/plain": [
       "label     0\n",
       "review    0\n",
       "dtype: int64"
      ]
     },
     "execution_count": 13,
     "metadata": {},
     "output_type": "execute_result"
    }
   ],
   "source": [
    "df.isnull().sum()"
   ]
  },
  {
   "cell_type": "markdown",
   "id": "8a900c59",
   "metadata": {},
   "source": [
    "## data preprocessing"
   ]
  },
  {
   "cell_type": "markdown",
   "id": "ce97480f",
   "metadata": {},
   "source": [
    "### check if there is review is empty string"
   ]
  },
  {
   "cell_type": "code",
   "execution_count": 17,
   "id": "6a4cb4a4",
   "metadata": {
    "ExecuteTime": {
     "end_time": "2022-06-24T23:21:43.631488Z",
     "start_time": "2022-06-24T23:21:43.616505Z"
    }
   },
   "outputs": [
    {
     "data": {
      "text/plain": [
       "[57,\n",
       " 71,\n",
       " 147,\n",
       " 151,\n",
       " 283,\n",
       " 307,\n",
       " 313,\n",
       " 323,\n",
       " 343,\n",
       " 351,\n",
       " 427,\n",
       " 501,\n",
       " 633,\n",
       " 675,\n",
       " 815,\n",
       " 851,\n",
       " 977,\n",
       " 1079,\n",
       " 1299,\n",
       " 1455,\n",
       " 1493,\n",
       " 1525,\n",
       " 1531,\n",
       " 1763,\n",
       " 1851,\n",
       " 1905,\n",
       " 1993]"
      ]
     },
     "execution_count": 17,
     "metadata": {},
     "output_type": "execute_result"
    }
   ],
   "source": [
    "blanks=[]\n",
    "for i,label,review in df.itertuples():\n",
    "    if review.isspace():\n",
    "        blanks.append(i)\n",
    "blanks"
   ]
  },
  {
   "cell_type": "code",
   "execution_count": 21,
   "id": "c6312fc8",
   "metadata": {
    "ExecuteTime": {
     "end_time": "2022-06-24T23:23:07.801266Z",
     "start_time": "2022-06-24T23:23:07.788293Z"
    }
   },
   "outputs": [],
   "source": [
    "df=df.drop(blanks)"
   ]
  },
  {
   "cell_type": "code",
   "execution_count": 22,
   "id": "e837e603",
   "metadata": {
    "ExecuteTime": {
     "end_time": "2022-06-24T23:23:10.353343Z",
     "start_time": "2022-06-24T23:23:10.338382Z"
    }
   },
   "outputs": [
    {
     "data": {
      "text/plain": [
       "[]"
      ]
     },
     "execution_count": 22,
     "metadata": {},
     "output_type": "execute_result"
    }
   ],
   "source": [
    "blanks2=[]\n",
    "for i,label,review in df.itertuples():\n",
    "    if review.isspace():\n",
    "        blanks2.append(i)\n",
    "blanks2"
   ]
  },
  {
   "cell_type": "markdown",
   "id": "828ea0ee",
   "metadata": {},
   "source": [
    " ## Now the original dataframe are cleaned "
   ]
  },
  {
   "cell_type": "markdown",
   "id": "467a00ff",
   "metadata": {},
   "source": [
    "# Spliting data to train and test using sklearn"
   ]
  },
  {
   "cell_type": "code",
   "execution_count": 24,
   "id": "272d4cbc",
   "metadata": {
    "ExecuteTime": {
     "end_time": "2022-06-24T23:25:49.300535Z",
     "start_time": "2022-06-24T23:25:49.291517Z"
    }
   },
   "outputs": [],
   "source": [
    "xtrain,xtest,ytrain,ytest=train_test_split(df['review'],df['label'],test_size=0.3,random_state=42)"
   ]
  },
  {
   "cell_type": "code",
   "execution_count": 25,
   "id": "d8347f2a",
   "metadata": {
    "ExecuteTime": {
     "end_time": "2022-06-24T23:26:14.219047Z",
     "start_time": "2022-06-24T23:26:14.199056Z"
    }
   },
   "outputs": [
    {
     "name": "stdout",
     "output_type": "stream",
     "text": [
      "Train size is (1356,)\n"
     ]
    }
   ],
   "source": [
    "print(f\"Train size is {xtrain.shape}\")"
   ]
  },
  {
   "cell_type": "code",
   "execution_count": 26,
   "id": "0efb700b",
   "metadata": {
    "ExecuteTime": {
     "end_time": "2022-06-24T23:26:28.489202Z",
     "start_time": "2022-06-24T23:26:28.474241Z"
    }
   },
   "outputs": [
    {
     "name": "stdout",
     "output_type": "stream",
     "text": [
      "Test size is (582,)\n"
     ]
    }
   ],
   "source": [
    "print(f\"Test size is {xtest.shape}\")"
   ]
  },
  {
   "cell_type": "code",
   "execution_count": 52,
   "id": "c7780a04",
   "metadata": {
    "ExecuteTime": {
     "end_time": "2022-06-24T23:34:12.109900Z",
     "start_time": "2022-06-24T23:34:12.098931Z"
    }
   },
   "outputs": [],
   "source": [
    "classifier=Pipeline([('tfidf',TfidfVectorizer()),('svm',LinearSVC())])"
   ]
  },
  {
   "cell_type": "code",
   "execution_count": 53,
   "id": "74c1fce7",
   "metadata": {
    "ExecuteTime": {
     "end_time": "2022-06-24T23:34:14.649702Z",
     "start_time": "2022-06-24T23:34:13.987100Z"
    }
   },
   "outputs": [
    {
     "data": {
      "text/plain": [
       "Pipeline(steps=[('tfidf', TfidfVectorizer()), ('svm', LinearSVC())])"
      ]
     },
     "execution_count": 53,
     "metadata": {},
     "output_type": "execute_result"
    }
   ],
   "source": [
    "classifier.fit(xtrain,ytrain)"
   ]
  },
  {
   "cell_type": "code",
   "execution_count": 47,
   "id": "5b0b57d7",
   "metadata": {
    "ExecuteTime": {
     "end_time": "2022-06-24T23:33:58.041678Z",
     "start_time": "2022-06-24T23:33:57.800290Z"
    }
   },
   "outputs": [],
   "source": [
    "predictions=classifier.predict(xtest)"
   ]
  },
  {
   "cell_type": "code",
   "execution_count": 48,
   "id": "b9ec73e7",
   "metadata": {
    "ExecuteTime": {
     "end_time": "2022-06-24T23:33:59.027812Z",
     "start_time": "2022-06-24T23:33:59.015842Z"
    }
   },
   "outputs": [],
   "source": [
    "cm=metrics.confusion_matrix(ytest,predictions)"
   ]
  },
  {
   "cell_type": "code",
   "execution_count": 49,
   "id": "969bb4a8",
   "metadata": {
    "ExecuteTime": {
     "end_time": "2022-06-24T23:34:00.558892Z",
     "start_time": "2022-06-24T23:34:00.404031Z"
    }
   },
   "outputs": [
    {
     "data": {
      "text/plain": [
       "Text(42.0, 0.5, 'Truth')"
      ]
     },
     "execution_count": 49,
     "metadata": {},
     "output_type": "execute_result"
    },
    {
     "data": {
      "image/png": "[encoded data removed]",
      "text/plain": [
       "<Figure size 504x360 with 2 Axes>"
      ]
     },
     "metadata": {
      "needs_background": "light"
     },
     "output_type": "display_data"
    }
   ],
   "source": [
    "plt.figure(figsize=(7,5))\n",
    "sns.heatmap(cm, annot=True)\n",
    "plt.xlabel('Predicted')\n",
    "plt.ylabel('Truth')"
   ]
  },
  {
   "cell_type": "code",
   "execution_count": 50,
   "id": "9d6f1aed",
   "metadata": {
    "ExecuteTime": {
     "end_time": "2022-06-24T23:34:02.662816Z",
     "start_time": "2022-06-24T23:34:02.633268Z"
    }
   },
   "outputs": [
    {
     "name": "stdout",
     "output_type": "stream",
     "text": [
      "              precision    recall  f1-score   support\n",
      "\n",
      "         neg       0.85      0.83      0.84       282\n",
      "         pos       0.85      0.86      0.85       300\n",
      "\n",
      "    accuracy                           0.85       582\n",
      "   macro avg       0.85      0.85      0.85       582\n",
      "weighted avg       0.85      0.85      0.85       582\n",
      "\n"
     ]
    }
   ],
   "source": [
    "print(metrics.classification_report(ytest,predictions))"
   ]
  },
  {
   "cell_type": "code",
   "execution_count": 51,
   "id": "c6aae468",
   "metadata": {
    "ExecuteTime": {
     "end_time": "2022-06-24T23:34:04.816785Z",
     "start_time": "2022-06-24T23:34:04.803780Z"
    }
   },
   "outputs": [
    {
     "name": "stdout",
     "output_type": "stream",
     "text": [
      "0.8487972508591065\n"
     ]
    }
   ],
   "source": [
    "print(metrics.accuracy_score(ytest,predictions))"
   ]
  },
  {
   "attachments": {
    "image.png": {
     "image/png": "[encoded data removed]"
    }
   },
   "cell_type": "markdown",
   "id": "68e4fc02",
   "metadata": {},
   "source": [
    "## Try predict review from imddb on mouse hunt \n",
    "![image.png](attachment:image.png)"
   ]
  },
  {
   "cell_type": "code",
   "execution_count": 59,
   "id": "a8d202c5",
   "metadata": {
    "ExecuteTime": {
     "end_time": "2022-06-24T23:51:23.510623Z",
     "start_time": "2022-06-24T23:51:23.492698Z"
    }
   },
   "outputs": [
    {
     "data": {
      "text/plain": [
       "array(['pos'], dtype=object)"
      ]
     },
     "execution_count": 59,
     "metadata": {},
     "output_type": "execute_result"
    }
   ],
   "source": [
    "classifier.predict([\"I love this movie because Nathan Lane and Lee Evans both seem to be doing an homage to the slapstick movies of Laurel And Hardy. One of my favorite actors, Nathan Lane has quite a few scenes where he looks like he's duplicating Oliver Hardy's mannerisms and quirks. Bronson Pinchot could have made a better sidekick especially for the physical humor, but even with Evans, the movie is a fast furious laugh riot as the guys try to catch one inescapable mouse which knows the house better than they do. Ian Abercrombie of Seinfeld fame also joins the fun as does veteran actor William Hickey of Wings in this his last role. The mouse which is in part portrayed by real mice, puppets and computer animation steals much of the movie as does a cat from Hades which then in turn unleashes a wild and funny John and Larry (Tom and Jerry ???) sequence far funnier than the sadisticly lousy cartoon. This movie rates a ten for humor, plot and camera effects as we see the world within the walls of our house.\"])"
   ]
  },
  {
   "attachments": {
    "image.png": {
     "image/png": "[encoded data removed]"
    }
   },
   "cell_type": "markdown",
   "id": "e3122590",
   "metadata": {},
   "source": [
    "# Predict other review\n",
    "![image.png](attachment:image.png)"
   ]
  },
  {
   "cell_type": "code",
   "execution_count": 58,
   "id": "09edadde",
   "metadata": {
    "ExecuteTime": {
     "end_time": "2022-06-24T23:48:47.323006Z",
     "start_time": "2022-06-24T23:48:47.309044Z"
    }
   },
   "outputs": [
    {
     "data": {
      "text/plain": [
       "array(['neg'], dtype=object)"
      ]
     },
     "execution_count": 58,
     "metadata": {},
     "output_type": "execute_result"
    }
   ],
   "source": [
    "classifier.predict([\"String magnate Rudolf Smuntz (William Hickey) dies leaving his ancient factory and run-down mansion to his sons Lars (Lee Evans) and Ernie (Nathan Lane). Ernie loses his trendy restaurant after poisoning the mayor by serving food with a cockroach and reduced to being a fry cook. Lars rejects a large offer for the factory and his wife April (Vicki Lewis) throws him out of the house. The brothers go to the house and discover it to be built by famed architect LaRue. LaRue fanatic Alexander Falko (Maury Chaykin) is eager to buy but Ernie greedily arranges for an auction in a week's time. They are shocked when Falko indicates a value of as much as $10 million. They are hounded by an elusive mouse and Ernie intends not to repeat the cockroach incident. They use various methods including a cat named Catzilla and an exterminator named Caesar (Christopher Walken) This is simply not that funny. It's a sort of reverse Home Alone. It is following the Wet Bandits without Macaulay. I actually think this movie needs a cute animated mouse whom the audience can root for. It might be funnier from the viewpoint of the mouse. Ernie's motivation doesn't make much sense. It's a lot slapstick and destruction resulting in limited laughs. The movie could go full throttle Three Stooges but it doesn't have that childlike quality. They are too money grubbing for that. There is nothing particularly bad or hateful about this. It's just not that funny.\"])"
   ]
  },
  {
   "cell_type": "code",
   "execution_count": null,
   "id": "5514f6a2",
   "metadata": {},
   "outputs": [],
   "source": []
  }
 ],
 "metadata": {
  "kernelspec": {
   "display_name": "Python 3 (ipykernel)",
   "language": "python",
   "name": "python3"
  },
  "language_info": {
   "codemirror_mode": {
    "name": "ipython",
    "version": 3
   },
   "file_extension": ".py",
   "mimetype": "text/x-python",
   "name": "python",
   "nbconvert_exporter": "python",
   "pygments_lexer": "ipython3",
   "version": "3.9.7"
  }
 },
 "nbformat": 4,
 "nbformat_minor": 5
}
