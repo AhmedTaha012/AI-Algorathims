{
 "cells": [
  {
   "cell_type": "code",
   "execution_count": 10,
   "id": "6a1f23b5",
   "metadata": {
    "ExecuteTime": {
     "end_time": "2022-06-24T18:35:14.972468Z",
     "start_time": "2022-06-24T18:35:12.603397Z"
    }
   },
   "outputs": [],
   "source": [
    "import pandas as pd\n",
    "import numpy as np\n",
    "import matplotlib.pyplot as plt"
   ]
  },
  {
   "cell_type": "code",
   "execution_count": 3,
   "id": "5e1603b3",
   "metadata": {
    "ExecuteTime": {
     "end_time": "2022-06-24T18:16:10.426999Z",
     "start_time": "2022-06-24T18:16:09.910219Z"
    }
   },
   "outputs": [],
   "source": [
    "df=pd.read_csv(\"smsspamcollection.tsv\",sep='\\t')"
   ]
  },
  {
   "cell_type": "code",
   "execution_count": 4,
   "id": "e9c3f307",
   "metadata": {
    "ExecuteTime": {
     "end_time": "2022-06-24T18:16:17.037810Z",
     "start_time": "2022-06-24T18:16:16.870369Z"
    }
   },
   "outputs": [
    {
     "data": {
      "text/html": [
       "<div>\n",
       "<style scoped>\n",
       "    .dataframe tbody tr th:only-of-type {\n",
       "        vertical-align: middle;\n",
       "    }\n",
       "\n",
       "    .dataframe tbody tr th {\n",
       "        vertical-align: top;\n",
       "    }\n",
       "\n",
       "    .dataframe thead th {\n",
       "        text-align: right;\n",
       "    }\n",
       "</style>\n",
       "<table border=\"1\" class=\"dataframe\">\n",
       "  <thead>\n",
       "    <tr style=\"text-align: right;\">\n",
       "      <th></th>\n",
       "      <th>label</th>\n",
       "      <th>message</th>\n",
       "      <th>length</th>\n",
       "      <th>punct</th>\n",
       "    </tr>\n",
       "  </thead>\n",
       "  <tbody>\n",
       "    <tr>\n",
       "      <th>0</th>\n",
       "      <td>ham</td>\n",
       "      <td>Go until jurong point, crazy.. Available only ...</td>\n",
       "      <td>111</td>\n",
       "      <td>9</td>\n",
       "    </tr>\n",
       "    <tr>\n",
       "      <th>1</th>\n",
       "      <td>ham</td>\n",
       "      <td>Ok lar... Joking wif u oni...</td>\n",
       "      <td>29</td>\n",
       "      <td>6</td>\n",
       "    </tr>\n",
       "    <tr>\n",
       "      <th>2</th>\n",
       "      <td>spam</td>\n",
       "      <td>Free entry in 2 a wkly comp to win FA Cup fina...</td>\n",
       "      <td>155</td>\n",
       "      <td>6</td>\n",
       "    </tr>\n",
       "    <tr>\n",
       "      <th>3</th>\n",
       "      <td>ham</td>\n",
       "      <td>U dun say so early hor... U c already then say...</td>\n",
       "      <td>49</td>\n",
       "      <td>6</td>\n",
       "    </tr>\n",
       "    <tr>\n",
       "      <th>4</th>\n",
       "      <td>ham</td>\n",
       "      <td>Nah I don't think he goes to usf, he lives aro...</td>\n",
       "      <td>61</td>\n",
       "      <td>2</td>\n",
       "    </tr>\n",
       "  </tbody>\n",
       "</table>\n",
       "</div>"
      ],
      "text/plain": [
       "  label                                            message  length  punct\n",
       "0   ham  Go until jurong point, crazy.. Available only ...     111      9\n",
       "1   ham                      Ok lar... Joking wif u oni...      29      6\n",
       "2  spam  Free entry in 2 a wkly comp to win FA Cup fina...     155      6\n",
       "3   ham  U dun say so early hor... U c already then say...      49      6\n",
       "4   ham  Nah I don't think he goes to usf, he lives aro...      61      2"
      ]
     },
     "execution_count": 4,
     "metadata": {},
     "output_type": "execute_result"
    }
   ],
   "source": [
    "df.head()"
   ]
  },
  {
   "cell_type": "code",
   "execution_count": 5,
   "id": "19d383ec",
   "metadata": {
    "ExecuteTime": {
     "end_time": "2022-06-24T18:16:31.662945Z",
     "start_time": "2022-06-24T18:16:31.642000Z"
    }
   },
   "outputs": [
    {
     "data": {
      "text/plain": [
       "label      0\n",
       "message    0\n",
       "length     0\n",
       "punct      0\n",
       "dtype: int64"
      ]
     },
     "execution_count": 5,
     "metadata": {},
     "output_type": "execute_result"
    }
   ],
   "source": [
    "df.isnull().sum()"
   ]
  },
  {
   "cell_type": "code",
   "execution_count": 6,
   "id": "60649a47",
   "metadata": {
    "ExecuteTime": {
     "end_time": "2022-06-24T18:32:44.148547Z",
     "start_time": "2022-06-24T18:32:44.132550Z"
    }
   },
   "outputs": [
    {
     "name": "stdout",
     "output_type": "stream",
     "text": [
      "The number of rows in  data frame=5572\n"
     ]
    }
   ],
   "source": [
    " print(f\"The number of rows in  data frame={len(df)}\")"
   ]
  },
  {
   "cell_type": "code",
   "execution_count": 9,
   "id": "60d99104",
   "metadata": {
    "ExecuteTime": {
     "end_time": "2022-06-24T18:34:30.110736Z",
     "start_time": "2022-06-24T18:34:30.089794Z"
    }
   },
   "outputs": [
    {
     "name": "stdout",
     "output_type": "stream",
     "text": [
      "How much classes we have??\n"
     ]
    },
    {
     "data": {
      "text/plain": [
       "array(['ham', 'spam'], dtype=object)"
      ]
     },
     "execution_count": 9,
     "metadata": {},
     "output_type": "execute_result"
    }
   ],
   "source": [
    "print(f\"How much classes we have??\")\n",
    "df['label'].unique()"
   ]
  },
  {
   "cell_type": "code",
   "execution_count": 31,
   "id": "a761a5a4",
   "metadata": {
    "ExecuteTime": {
     "end_time": "2022-06-24T18:47:10.488378Z",
     "start_time": "2022-06-24T18:47:10.010105Z"
    },
    "scrolled": true
   },
   "outputs": [
    {
     "data": {
      "image/png": "[encoded data removed]",
      "text/plain": [
       "<Figure size 432x288 with 1 Axes>"
      ]
     },
     "metadata": {
      "needs_background": "light"
     },
     "output_type": "display_data"
    }
   ],
   "source": [
    "plt.xscale('log')\n",
    "plt.hist(df[df['label']=='ham']['length'],bins=1.15**(np.arange(0,50)),alpha=0.5)\n",
    "plt.hist(df[df['label']=='spam']['length'],bins=1.15**(np.arange(0,50)),alpha=1)\n",
    "plt.legend(('ham','spam'))\n",
    "plt.show()"
   ]
  },
  {
   "cell_type": "markdown",
   "id": "0785c4c5",
   "metadata": {},
   "source": [
    "## The length of ham is have a range of lengths but spam always have high values"
   ]
  },
  {
   "cell_type": "code",
   "execution_count": 32,
   "id": "36c926f0",
   "metadata": {
    "ExecuteTime": {
     "end_time": "2022-06-24T18:48:00.241667Z",
     "start_time": "2022-06-24T18:47:59.745557Z"
    },
    "scrolled": false
   },
   "outputs": [
    {
     "data": {
      "image/png": "[encoded data removed]",
      "text/plain": [
       "<Figure size 432x288 with 1 Axes>"
      ]
     },
     "metadata": {
      "needs_background": "light"
     },
     "output_type": "display_data"
    }
   ],
   "source": [
    "plt.xscale('log')\n",
    "plt.hist(df[df['label']=='ham']['punct'],bins=1.15**(np.arange(0,50)),alpha=0.5)\n",
    "plt.hist(df[df['label']=='spam']['punct'],bins=1.15**(np.arange(0,50)),alpha=1)\n",
    "plt.legend(('ham','spam'))\n",
    "plt.show()"
   ]
  },
  {
   "cell_type": "markdown",
   "id": "35effcf4",
   "metadata": {},
   "source": [
    "## Spliting the data "
   ]
  },
  {
   "cell_type": "code",
   "execution_count": 38,
   "id": "271c9378",
   "metadata": {
    "ExecuteTime": {
     "end_time": "2022-06-24T18:52:07.831870Z",
     "start_time": "2022-06-24T18:52:07.822896Z"
    }
   },
   "outputs": [],
   "source": [
    "features=df[['length','punct']]\n",
    "labels=df['label']"
   ]
  },
  {
   "cell_type": "code",
   "execution_count": 40,
   "id": "16e35fac",
   "metadata": {
    "ExecuteTime": {
     "end_time": "2022-06-24T18:52:45.048093Z",
     "start_time": "2022-06-24T18:52:45.038121Z"
    }
   },
   "outputs": [],
   "source": [
    "from sklearn.model_selection import train_test_split"
   ]
  },
  {
   "cell_type": "code",
   "execution_count": 41,
   "id": "1d3bd9b2",
   "metadata": {
    "ExecuteTime": {
     "end_time": "2022-06-24T18:53:23.491684Z",
     "start_time": "2022-06-24T18:53:23.444753Z"
    }
   },
   "outputs": [],
   "source": [
    "xtrain,xtest,ytrain,ytest=train_test_split(features,labels,test_size=0.3,random_state=42)"
   ]
  },
  {
   "cell_type": "code",
   "execution_count": 44,
   "id": "2500bf32",
   "metadata": {
    "ExecuteTime": {
     "end_time": "2022-06-24T18:53:53.729822Z",
     "start_time": "2022-06-24T18:53:53.717816Z"
    }
   },
   "outputs": [
    {
     "data": {
      "text/plain": [
       "(3900, 2)"
      ]
     },
     "execution_count": 44,
     "metadata": {},
     "output_type": "execute_result"
    }
   ],
   "source": [
    "xtrain.shape"
   ]
  },
  {
   "cell_type": "code",
   "execution_count": 43,
   "id": "381a7c54",
   "metadata": {
    "ExecuteTime": {
     "end_time": "2022-06-24T18:53:45.718247Z",
     "start_time": "2022-06-24T18:53:45.704283Z"
    }
   },
   "outputs": [
    {
     "data": {
      "text/plain": [
       "(1672, 2)"
      ]
     },
     "execution_count": 43,
     "metadata": {},
     "output_type": "execute_result"
    }
   ],
   "source": [
    "xtest.shape"
   ]
  },
  {
   "cell_type": "code",
   "execution_count": 45,
   "id": "6ac4724f",
   "metadata": {
    "ExecuteTime": {
     "end_time": "2022-06-24T18:54:06.833582Z",
     "start_time": "2022-06-24T18:54:06.827574Z"
    }
   },
   "outputs": [
    {
     "data": {
      "text/plain": [
       "3245     ham\n",
       "944      ham\n",
       "1044     ham\n",
       "2484     ham\n",
       "812      ham\n",
       "        ... \n",
       "2505     ham\n",
       "2525    spam\n",
       "4975     ham\n",
       "650     spam\n",
       "4463     ham\n",
       "Name: label, Length: 1672, dtype: object"
      ]
     },
     "execution_count": 45,
     "metadata": {},
     "output_type": "execute_result"
    }
   ],
   "source": [
    "ytest"
   ]
  },
  {
   "cell_type": "code",
   "execution_count": 46,
   "id": "78cf2811",
   "metadata": {
    "ExecuteTime": {
     "end_time": "2022-06-24T18:55:07.529929Z",
     "start_time": "2022-06-24T18:55:07.515958Z"
    }
   },
   "outputs": [],
   "source": [
    "from sklearn.linear_model import LogisticRegression"
   ]
  },
  {
   "cell_type": "code",
   "execution_count": 51,
   "id": "d523d3f9",
   "metadata": {
    "ExecuteTime": {
     "end_time": "2022-06-24T18:57:15.790464Z",
     "start_time": "2022-06-24T18:57:15.751568Z"
    }
   },
   "outputs": [
    {
     "data": {
      "text/plain": [
       "LogisticRegression()"
      ]
     },
     "execution_count": 51,
     "metadata": {},
     "output_type": "execute_result"
    }
   ],
   "source": [
    "model=LogisticRegression(solver='lbfgs')\n",
    "model.fit(xtrain,ytrain)"
   ]
  },
  {
   "cell_type": "code",
   "execution_count": 55,
   "id": "57647449",
   "metadata": {
    "ExecuteTime": {
     "end_time": "2022-06-24T18:57:53.278725Z",
     "start_time": "2022-06-24T18:57:53.272739Z"
    }
   },
   "outputs": [],
   "source": [
    "predictions=model.predict(xtest)"
   ]
  },
  {
   "cell_type": "code",
   "execution_count": 53,
   "id": "d33c6f23",
   "metadata": {
    "ExecuteTime": {
     "end_time": "2022-06-24T18:57:20.063171Z",
     "start_time": "2022-06-24T18:57:20.041227Z"
    }
   },
   "outputs": [
    {
     "data": {
      "text/plain": [
       "0.8427033492822966"
      ]
     },
     "execution_count": 53,
     "metadata": {},
     "output_type": "execute_result"
    }
   ],
   "source": [
    "model.score(xtest,ytest)"
   ]
  },
  {
   "cell_type": "code",
   "execution_count": 54,
   "id": "9c40c60e",
   "metadata": {
    "ExecuteTime": {
     "end_time": "2022-06-24T18:57:42.829860Z",
     "start_time": "2022-06-24T18:57:42.824880Z"
    }
   },
   "outputs": [],
   "source": [
    "from sklearn import metrics "
   ]
  },
  {
   "cell_type": "code",
   "execution_count": 58,
   "id": "4fbe8103",
   "metadata": {
    "ExecuteTime": {
     "end_time": "2022-06-24T19:01:37.446465Z",
     "start_time": "2022-06-24T19:01:37.427516Z"
    }
   },
   "outputs": [],
   "source": [
    "cm=metrics.confusion_matrix(ytest,predictions)"
   ]
  },
  {
   "cell_type": "code",
   "execution_count": 62,
   "id": "9b179c63",
   "metadata": {
    "ExecuteTime": {
     "end_time": "2022-06-24T19:03:01.436154Z",
     "start_time": "2022-06-24T19:03:01.243875Z"
    }
   },
   "outputs": [
    {
     "data": {
      "text/plain": [
       "Text(69.0, 0.5, 'Truth')"
      ]
     },
     "execution_count": 62,
     "metadata": {},
     "output_type": "execute_result"
    },
    {
     "data": {
      "image/png": "[encoded data removed]",
      "text/plain": [
       "<Figure size 720x720 with 2 Axes>"
      ]
     },
     "metadata": {
      "needs_background": "light"
     },
     "output_type": "display_data"
    }
   ],
   "source": [
    "import seaborn as sns\n",
    "plt.figure(figsize=(10,10))\n",
    "sns.heatmap(cm, annot=True)\n",
    "plt.xlabel('Predicted')\n",
    "plt.ylabel('Truth')"
   ]
  },
  {
   "cell_type": "code",
   "execution_count": 63,
   "id": "397e381a",
   "metadata": {
    "ExecuteTime": {
     "end_time": "2022-06-24T19:03:39.273985Z",
     "start_time": "2022-06-24T19:03:39.212156Z"
    }
   },
   "outputs": [
    {
     "name": "stdout",
     "output_type": "stream",
     "text": [
      "              precision    recall  f1-score   support\n",
      "\n",
      "         ham       0.87      0.97      0.91      1448\n",
      "        spam       0.10      0.02      0.04       224\n",
      "\n",
      "    accuracy                           0.84      1672\n",
      "   macro avg       0.48      0.50      0.48      1672\n",
      "weighted avg       0.76      0.84      0.80      1672\n",
      "\n"
     ]
    }
   ],
   "source": [
    "print(metrics.classification_report(ytest,predictions))"
   ]
  },
  {
   "cell_type": "code",
   "execution_count": 64,
   "id": "e2aca473",
   "metadata": {
    "ExecuteTime": {
     "end_time": "2022-06-24T19:04:06.472116Z",
     "start_time": "2022-06-24T19:04:06.455119Z"
    }
   },
   "outputs": [
    {
     "name": "stdout",
     "output_type": "stream",
     "text": [
      "0.8427033492822966\n"
     ]
    }
   ],
   "source": [
    "print(metrics.accuracy_score(ytest,predictions))"
   ]
  },
  {
   "cell_type": "code",
   "execution_count": 65,
   "id": "2bff82de",
   "metadata": {
    "ExecuteTime": {
     "end_time": "2022-06-24T19:06:51.559737Z",
     "start_time": "2022-06-24T19:06:51.552726Z"
    }
   },
   "outputs": [],
   "source": [
    "from sklearn.naive_bayes import MultinomialNB "
   ]
  },
  {
   "cell_type": "code",
   "execution_count": 66,
   "id": "1eae262a",
   "metadata": {
    "ExecuteTime": {
     "end_time": "2022-06-24T19:06:59.494018Z",
     "start_time": "2022-06-24T19:06:59.490028Z"
    }
   },
   "outputs": [],
   "source": [
    "model=MultinomialNB()"
   ]
  },
  {
   "cell_type": "code",
   "execution_count": 67,
   "id": "d5f7b6a1",
   "metadata": {
    "ExecuteTime": {
     "end_time": "2022-06-24T19:07:12.443179Z",
     "start_time": "2022-06-24T19:07:12.379520Z"
    }
   },
   "outputs": [
    {
     "data": {
      "text/plain": [
       "MultinomialNB()"
      ]
     },
     "execution_count": 67,
     "metadata": {},
     "output_type": "execute_result"
    }
   ],
   "source": [
    "model.fit(xtrain,ytrain)"
   ]
  },
  {
   "cell_type": "code",
   "execution_count": 68,
   "id": "03944243",
   "metadata": {
    "ExecuteTime": {
     "end_time": "2022-06-24T19:07:37.402299Z",
     "start_time": "2022-06-24T19:07:37.294874Z"
    }
   },
   "outputs": [],
   "source": [
    "predictions=model.predict(xtest)"
   ]
  },
  {
   "cell_type": "code",
   "execution_count": 69,
   "id": "6e8a33f1",
   "metadata": {
    "ExecuteTime": {
     "end_time": "2022-06-24T19:07:52.572356Z",
     "start_time": "2022-06-24T19:07:52.561342Z"
    }
   },
   "outputs": [],
   "source": [
    "cm=metrics.confusion_matrix(ytest,predictions)"
   ]
  },
  {
   "cell_type": "code",
   "execution_count": 70,
   "id": "71a96fae",
   "metadata": {
    "ExecuteTime": {
     "end_time": "2022-06-24T19:08:00.821221Z",
     "start_time": "2022-06-24T19:08:00.641111Z"
    }
   },
   "outputs": [
    {
     "data": {
      "text/plain": [
       "Text(69.0, 0.5, 'Truth')"
      ]
     },
     "execution_count": 70,
     "metadata": {},
     "output_type": "execute_result"
    },
    {
     "data": {
      "image/png": "[encoded data removed]",
      "text/plain": [
       "<Figure size 720x720 with 2 Axes>"
      ]
     },
     "metadata": {
      "needs_background": "light"
     },
     "output_type": "display_data"
    }
   ],
   "source": [
    "plt.figure(figsize=(10,10))\n",
    "sns.heatmap(cm, annot=True)\n",
    "plt.xlabel('Predicted')\n",
    "plt.ylabel('Truth')"
   ]
  },
  {
   "cell_type": "code",
   "execution_count": 71,
   "id": "b5fcb96f",
   "metadata": {
    "ExecuteTime": {
     "end_time": "2022-06-24T19:08:10.584083Z",
     "start_time": "2022-06-24T19:08:10.564094Z"
    }
   },
   "outputs": [
    {
     "name": "stdout",
     "output_type": "stream",
     "text": [
      "0.8600478468899522\n"
     ]
    }
   ],
   "source": [
    "print(metrics.accuracy_score(ytest,predictions))"
   ]
  },
  {
   "cell_type": "code",
   "execution_count": 72,
   "id": "2c717bd6",
   "metadata": {
    "ExecuteTime": {
     "end_time": "2022-06-24T19:08:27.458830Z",
     "start_time": "2022-06-24T19:08:27.412971Z"
    }
   },
   "outputs": [
    {
     "name": "stdout",
     "output_type": "stream",
     "text": [
      "              precision    recall  f1-score   support\n",
      "\n",
      "         ham       0.87      0.99      0.92      1448\n",
      "        spam       0.00      0.00      0.00       224\n",
      "\n",
      "    accuracy                           0.86      1672\n",
      "   macro avg       0.43      0.50      0.46      1672\n",
      "weighted avg       0.75      0.86      0.80      1672\n",
      "\n"
     ]
    }
   ],
   "source": [
    "print(metrics.classification_report(ytest,predictions))"
   ]
  },
  {
   "cell_type": "code",
   "execution_count": 73,
   "id": "42fc1c61",
   "metadata": {
    "ExecuteTime": {
     "end_time": "2022-06-24T19:08:55.498936Z",
     "start_time": "2022-06-24T19:08:55.489914Z"
    }
   },
   "outputs": [],
   "source": [
    "from sklearn.svm import SVC"
   ]
  },
  {
   "cell_type": "code",
   "execution_count": 74,
   "id": "89a2db75",
   "metadata": {
    "ExecuteTime": {
     "end_time": "2022-06-24T19:09:11.429903Z",
     "start_time": "2022-06-24T19:09:11.417892Z"
    }
   },
   "outputs": [],
   "source": [
    "model=SVC(gamma='auto')"
   ]
  },
  {
   "cell_type": "code",
   "execution_count": 75,
   "id": "11437360",
   "metadata": {
    "ExecuteTime": {
     "end_time": "2022-06-24T19:09:20.918061Z",
     "start_time": "2022-06-24T19:09:20.145739Z"
    }
   },
   "outputs": [
    {
     "data": {
      "text/plain": [
       "SVC(gamma='auto')"
      ]
     },
     "execution_count": 75,
     "metadata": {},
     "output_type": "execute_result"
    }
   ],
   "source": [
    "model.fit(xtrain,ytrain)"
   ]
  },
  {
   "cell_type": "code",
   "execution_count": 76,
   "id": "d9834d4e",
   "metadata": {
    "ExecuteTime": {
     "end_time": "2022-06-24T19:09:28.875332Z",
     "start_time": "2022-06-24T19:09:28.517503Z"
    }
   },
   "outputs": [],
   "source": [
    "predictions=model.predict(xtest)"
   ]
  },
  {
   "cell_type": "code",
   "execution_count": 77,
   "id": "a6cdf3da",
   "metadata": {
    "ExecuteTime": {
     "end_time": "2022-06-24T19:09:34.809683Z",
     "start_time": "2022-06-24T19:09:34.786947Z"
    }
   },
   "outputs": [],
   "source": [
    "cm=metrics.confusion_matrix(ytest,predictions)"
   ]
  },
  {
   "cell_type": "code",
   "execution_count": 78,
   "id": "252fd508",
   "metadata": {
    "ExecuteTime": {
     "end_time": "2022-06-24T19:09:44.968149Z",
     "start_time": "2022-06-24T19:09:44.803591Z"
    }
   },
   "outputs": [
    {
     "data": {
      "text/plain": [
       "Text(69.0, 0.5, 'Truth')"
      ]
     },
     "execution_count": 78,
     "metadata": {},
     "output_type": "execute_result"
    },
    {
     "data": {
      "image/png": "[encoded data removed]",
      "text/plain": [
       "<Figure size 720x720 with 2 Axes>"
      ]
     },
     "metadata": {
      "needs_background": "light"
     },
     "output_type": "display_data"
    }
   ],
   "source": [
    "plt.figure(figsize=(10,10))\n",
    "sns.heatmap(cm, annot=True)\n",
    "plt.xlabel('Predicted')\n",
    "plt.ylabel('Truth')"
   ]
  },
  {
   "cell_type": "code",
   "execution_count": 79,
   "id": "7417d9b2",
   "metadata": {
    "ExecuteTime": {
     "end_time": "2022-06-24T19:09:52.491304Z",
     "start_time": "2022-06-24T19:09:52.475300Z"
    }
   },
   "outputs": [
    {
     "name": "stdout",
     "output_type": "stream",
     "text": [
      "0.8827751196172249\n"
     ]
    }
   ],
   "source": [
    "print(metrics.accuracy_score(ytest,predictions))"
   ]
  },
  {
   "cell_type": "code",
   "execution_count": 80,
   "id": "5573d257",
   "metadata": {
    "ExecuteTime": {
     "end_time": "2022-06-24T19:10:16.929388Z",
     "start_time": "2022-06-24T19:10:16.875526Z"
    }
   },
   "outputs": [
    {
     "name": "stdout",
     "output_type": "stream",
     "text": [
      "              precision    recall  f1-score   support\n",
      "\n",
      "         ham       0.92      0.95      0.93      1448\n",
      "        spam       0.58      0.46      0.51       224\n",
      "\n",
      "    accuracy                           0.88      1672\n",
      "   macro avg       0.75      0.70      0.72      1672\n",
      "weighted avg       0.87      0.88      0.88      1672\n",
      "\n"
     ]
    }
   ],
   "source": [
    "print(metrics.classification_report(ytest,predictions))"
   ]
  },
  {
   "cell_type": "code",
   "execution_count": null,
   "id": "c71bf1e8",
   "metadata": {},
   "outputs": [],
   "source": []
  }
 ],
 "metadata": {
  "kernelspec": {
   "display_name": "Python 3 (ipykernel)",
   "language": "python",
   "name": "python3"
  },
  "language_info": {
   "codemirror_mode": {
    "name": "ipython",
    "version": 3
   },
   "file_extension": ".py",
   "mimetype": "text/x-python",
   "name": "python",
   "nbconvert_exporter": "python",
   "pygments_lexer": "ipython3",
   "version": "3.9.7"
  }
 },
 "nbformat": 4,
 "nbformat_minor": 5
}
