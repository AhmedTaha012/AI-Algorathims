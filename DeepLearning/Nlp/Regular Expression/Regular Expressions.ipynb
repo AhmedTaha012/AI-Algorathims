{
 "cells": [
  {
   "cell_type": "code",
   "execution_count": 3,
   "id": "5c4904c6",
   "metadata": {
    "ExecuteTime": {
     "end_time": "2022-06-21T21:25:42.270570Z",
     "start_time": "2022-06-21T21:25:42.253269Z"
    }
   },
   "outputs": [],
   "source": [
    "import re"
   ]
  },
  {
   "cell_type": "code",
   "execution_count": 1,
   "id": "ad9a1c02",
   "metadata": {
    "ExecuteTime": {
     "end_time": "2022-06-21T21:25:19.459896Z",
     "start_time": "2022-06-21T21:25:19.454906Z"
    }
   },
   "outputs": [],
   "source": [
    "my_string=\"Let's write RegEx!  Won't that be fun?  I sure think so.  Can you find 4 sentences?  Or perhaps, all 19 words?\""
   ]
  },
  {
   "cell_type": "code",
   "execution_count": 10,
   "id": "29395745",
   "metadata": {
    "ExecuteTime": {
     "end_time": "2022-06-21T21:27:02.271662Z",
     "start_time": "2022-06-21T21:27:02.252408Z"
    }
   },
   "outputs": [
    {
     "name": "stdout",
     "output_type": "stream",
     "text": [
      "[\"Let's write RegEx\", \"  Won't that be fun\", '  I sure think so', '  Can you find 4 sentences', '  Or perhaps, all 19 words', '']\n"
     ]
    }
   ],
   "source": [
    "# Write a pattern to match sentence endings: sentence_endings\n",
    "sentence_endings = r\"[\\.?!+]\"\n",
    "# Split my_string on sentence endings and print the result\n",
    "print(re.split(sentence_endings,my_string))"
   ]
  },
  {
   "cell_type": "code",
   "execution_count": 6,
   "id": "d2704c32",
   "metadata": {
    "ExecuteTime": {
     "end_time": "2022-06-21T21:26:00.765838Z",
     "start_time": "2022-06-21T21:26:00.753335Z"
    }
   },
   "outputs": [
    {
     "name": "stdout",
     "output_type": "stream",
     "text": [
      "['Let', 'RegEx', 'Won', 'Can', 'Or']\n"
     ]
    }
   ],
   "source": [
    "# Find all capitalized words in my_string and print the result\n",
    "capitalized_words = r\"[A-Z]\\w+\"\n",
    "print(re.findall(capitalized_words, my_string))"
   ]
  },
  {
   "cell_type": "code",
   "execution_count": 7,
   "id": "84847ada",
   "metadata": {
    "ExecuteTime": {
     "end_time": "2022-06-21T21:26:06.730108Z",
     "start_time": "2022-06-21T21:26:06.721133Z"
    }
   },
   "outputs": [
    {
     "name": "stdout",
     "output_type": "stream",
     "text": [
      "[\"Let's\", 'write', 'RegEx!', \"Won't\", 'that', 'be', 'fun?', 'I', 'sure', 'think', 'so.', 'Can', 'you', 'find', '4', 'sentences?', 'Or', 'perhaps,', 'all', '19', 'words?']\n"
     ]
    }
   ],
   "source": [
    "# Split my_string on spaces and print the result\n",
    "spaces = r\"\\s+\"\n",
    "print(re.split(spaces, my_string))"
   ]
  },
  {
   "cell_type": "code",
   "execution_count": 8,
   "id": "2e9dde2d",
   "metadata": {
    "ExecuteTime": {
     "end_time": "2022-06-21T21:26:11.229499Z",
     "start_time": "2022-06-21T21:26:11.220487Z"
    }
   },
   "outputs": [
    {
     "name": "stdout",
     "output_type": "stream",
     "text": [
      "['4', '19']\n"
     ]
    }
   ],
   "source": [
    "# Find all digits in my_string and print the result\n",
    "digits = r\"\\d+\"\n",
    "print(re.findall(digits, my_string))"
   ]
  },
  {
   "cell_type": "code",
   "execution_count": null,
   "id": "94375f9d",
   "metadata": {},
   "outputs": [],
   "source": []
  }
 ],
 "metadata": {
  "kernelspec": {
   "display_name": "Python 3 (ipykernel)",
   "language": "python",
   "name": "python3"
  },
  "language_info": {
   "codemirror_mode": {
    "name": "ipython",
    "version": 3
   },
   "file_extension": ".py",
   "mimetype": "text/x-python",
   "name": "python",
   "nbconvert_exporter": "python",
   "pygments_lexer": "ipython3",
   "version": "3.9.7"
  }
 },
 "nbformat": 4,
 "nbformat_minor": 5
}
