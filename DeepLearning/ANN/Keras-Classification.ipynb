{
 "cells": [
  {
   "cell_type": "code",
   "execution_count": 40,
   "id": "83c4bcd0",
   "metadata": {
    "ExecuteTime": {
     "end_time": "2022-04-29T02:17:20.819820Z",
     "start_time": "2022-04-29T02:17:20.812827Z"
    }
   },
   "outputs": [],
   "source": [
    "import tensorflow as tf\n",
    "import matplotlib.pyplot as plt\n",
    "import numpy as np"
   ]
  },
  {
   "cell_type": "code",
   "execution_count": 41,
   "id": "514e5978",
   "metadata": {
    "ExecuteTime": {
     "end_time": "2022-04-29T02:17:22.632652Z",
     "start_time": "2022-04-29T02:17:22.624028Z"
    }
   },
   "outputs": [
    {
     "name": "stdout",
     "output_type": "stream",
     "text": [
      "2.8.0\n"
     ]
    }
   ],
   "source": [
    "print(tf.__version__)\n"
   ]
  },
  {
   "cell_type": "code",
   "execution_count": 42,
   "id": "1b9c00c3",
   "metadata": {
    "ExecuteTime": {
     "end_time": "2022-04-29T02:17:23.948550Z",
     "start_time": "2022-04-29T02:17:23.576305Z"
    }
   },
   "outputs": [],
   "source": [
    "fashionmnist=tf.keras.datasets.fashion_mnist\n",
    "(train_fea,train_lab),(test_fea,test_lab)=fashionmnist.load_data()"
   ]
  },
  {
   "cell_type": "code",
   "execution_count": 43,
   "id": "b378bde3",
   "metadata": {
    "ExecuteTime": {
     "end_time": "2022-04-29T02:17:24.529020Z",
     "start_time": "2022-04-29T02:17:24.518918Z"
    }
   },
   "outputs": [
    {
     "data": {
      "text/plain": [
       "(28, 28)"
      ]
     },
     "execution_count": 43,
     "metadata": {},
     "output_type": "execute_result"
    }
   ],
   "source": [
    "train_fea[0].shape"
   ]
  },
  {
   "cell_type": "code",
   "execution_count": 44,
   "id": "751a5e6c",
   "metadata": {
    "ExecuteTime": {
     "end_time": "2022-04-29T02:17:25.336949Z",
     "start_time": "2022-04-29T02:17:25.329935Z"
    }
   },
   "outputs": [
    {
     "data": {
      "text/plain": [
       "28"
      ]
     },
     "execution_count": 44,
     "metadata": {},
     "output_type": "execute_result"
    }
   ],
   "source": [
    "len(train_fea[0])"
   ]
  },
  {
   "cell_type": "code",
   "execution_count": 45,
   "id": "8e9eed13",
   "metadata": {
    "ExecuteTime": {
     "end_time": "2022-04-29T02:17:26.653638Z",
     "start_time": "2022-04-29T02:17:26.520602Z"
    },
    "scrolled": false
   },
   "outputs": [
    {
     "name": "stdout",
     "output_type": "stream",
     "text": [
      "9\n"
     ]
    },
    {
     "data": {
      "image/png": "[encoded data removed]",
      "text/plain": [
       "<Figure size 432x288 with 1 Axes>"
      ]
     },
     "metadata": {
      "needs_background": "light"
     },
     "output_type": "display_data"
    }
   ],
   "source": [
    "plt.imshow(train_fea[0])\n",
    "print(train_lab[0])"
   ]
  },
  {
   "cell_type": "code",
   "execution_count": 46,
   "id": "d9f9d3a7",
   "metadata": {
    "ExecuteTime": {
     "end_time": "2022-04-29T02:17:30.089010Z",
     "start_time": "2022-04-29T02:17:29.873999Z"
    }
   },
   "outputs": [],
   "source": [
    "train_fea = train_fea / 255.0\n",
    "\n",
    "test_fea = test_fea / 255.0\n"
   ]
  },
  {
   "cell_type": "code",
   "execution_count": 47,
   "id": "4d4ccaf1",
   "metadata": {
    "ExecuteTime": {
     "end_time": "2022-04-29T02:17:30.822998Z",
     "start_time": "2022-04-29T02:17:30.809379Z"
    }
   },
   "outputs": [
    {
     "name": "stdout",
     "output_type": "stream",
     "text": [
      "The classes in the data is= 10\n"
     ]
    }
   ],
   "source": [
    "print(\"The classes in the data is=\",len(set(test_lab)))"
   ]
  },
  {
   "cell_type": "code",
   "execution_count": 49,
   "id": "17710c1f",
   "metadata": {
    "ExecuteTime": {
     "end_time": "2022-04-29T02:20:39.786412Z",
     "start_time": "2022-04-29T02:20:39.739382Z"
    }
   },
   "outputs": [],
   "source": [
    "model=tf.keras.Sequential(\n",
    "      [tf.keras.layers.Flatten(input_shape=(28,28)),\n",
    "      tf.keras.layers.Dense(128,activation=\"relu\"),\n",
    "      tf.keras.layers.Dense(10,activation=\"softmax\")\n",
    "      ]\n",
    ")\n"
   ]
  },
  {
   "cell_type": "code",
   "execution_count": 50,
   "id": "0d09370e",
   "metadata": {
    "ExecuteTime": {
     "end_time": "2022-04-29T02:20:43.403247Z",
     "start_time": "2022-04-29T02:20:43.389606Z"
    }
   },
   "outputs": [],
   "source": [
    "model.compile(optimizer=\"adam\",loss=tf.keras.losses.SparseCategoricalCrossentropy(from_logits=True),metrics=[\"accuracy\"])"
   ]
  },
  {
   "cell_type": "code",
   "execution_count": 51,
   "id": "16827104",
   "metadata": {
    "ExecuteTime": {
     "end_time": "2022-04-29T02:21:17.146425Z",
     "start_time": "2022-04-29T02:20:45.574381Z"
    }
   },
   "outputs": [
    {
     "name": "stdout",
     "output_type": "stream",
     "text": [
      "Epoch 1/10\n"
     ]
    },
    {
     "name": "stderr",
     "output_type": "stream",
     "text": [
      "C:\\Users\\DELL\\anaconda3\\lib\\site-packages\\tensorflow\\python\\util\\dispatch.py:1082: UserWarning: \"`sparse_categorical_crossentropy` received `from_logits=True`, but the `output` argument was produced by a sigmoid or softmax activation and thus does not represent logits. Was this intended?\"\n",
      "  return dispatch_target(*args, **kwargs)\n"
     ]
    },
    {
     "name": "stdout",
     "output_type": "stream",
     "text": [
      "1875/1875 [==============================] - 4s 2ms/step - loss: 0.4980 - accuracy: 0.8248\n",
      "Epoch 2/10\n",
      "1875/1875 [==============================] - 3s 2ms/step - loss: 0.3747 - accuracy: 0.8647\n",
      "Epoch 3/10\n",
      "1875/1875 [==============================] - 4s 2ms/step - loss: 0.3375 - accuracy: 0.8760\n",
      "Epoch 4/10\n",
      "1875/1875 [==============================] - 4s 2ms/step - loss: 0.3113 - accuracy: 0.8861\n",
      "Epoch 5/10\n",
      "1875/1875 [==============================] - 3s 2ms/step - loss: 0.2940 - accuracy: 0.8917\n",
      "Epoch 6/10\n",
      "1875/1875 [==============================] - 3s 2ms/step - loss: 0.2798 - accuracy: 0.8971\n",
      "Epoch 7/10\n",
      "1875/1875 [==============================] - 3s 1ms/step - loss: 0.2677 - accuracy: 0.9011\n",
      "Epoch 8/10\n",
      "1875/1875 [==============================] - 3s 1ms/step - loss: 0.2564 - accuracy: 0.9046\n",
      "Epoch 9/10\n",
      "1875/1875 [==============================] - 3s 1ms/step - loss: 0.2488 - accuracy: 0.9073\n",
      "Epoch 10/10\n",
      "1875/1875 [==============================] - 3s 1ms/step - loss: 0.2361 - accuracy: 0.9118\n"
     ]
    },
    {
     "data": {
      "text/plain": [
       "<keras.callbacks.History at 0x1f624985580>"
      ]
     },
     "execution_count": 51,
     "metadata": {},
     "output_type": "execute_result"
    }
   ],
   "source": [
    "model.fit(train_fea,train_lab,epochs=10,verbose=1)"
   ]
  },
  {
   "cell_type": "code",
   "execution_count": 52,
   "id": "116e4bbc",
   "metadata": {
    "ExecuteTime": {
     "end_time": "2022-04-29T02:21:21.130428Z",
     "start_time": "2022-04-29T02:21:20.469479Z"
    }
   },
   "outputs": [
    {
     "name": "stdout",
     "output_type": "stream",
     "text": [
      "313/313 [==============================] - 1s 1ms/step - loss: 0.3329 - accuracy: 0.8822\n"
     ]
    },
    {
     "data": {
      "text/plain": [
       "[0.3329221308231354, 0.8822000026702881]"
      ]
     },
     "execution_count": 52,
     "metadata": {},
     "output_type": "execute_result"
    }
   ],
   "source": [
    "model.evaluate(test_fea,test_lab)"
   ]
  },
  {
   "cell_type": "code",
   "execution_count": 57,
   "id": "0e3eaacc",
   "metadata": {
    "ExecuteTime": {
     "end_time": "2022-04-29T02:23:09.629231Z",
     "start_time": "2022-04-29T02:23:09.088711Z"
    }
   },
   "outputs": [],
   "source": [
    "modelres=model.predict(test_fea)"
   ]
  },
  {
   "cell_type": "code",
   "execution_count": 63,
   "id": "eda017af",
   "metadata": {
    "ExecuteTime": {
     "end_time": "2022-04-29T02:23:54.432770Z",
     "start_time": "2022-04-29T02:23:54.422995Z"
    }
   },
   "outputs": [
    {
     "data": {
      "text/plain": [
       "2"
      ]
     },
     "execution_count": 63,
     "metadata": {},
     "output_type": "execute_result"
    }
   ],
   "source": [
    "np.argmax(modelres[1])"
   ]
  },
  {
   "cell_type": "code",
   "execution_count": 62,
   "id": "a8d3d51f",
   "metadata": {
    "ExecuteTime": {
     "end_time": "2022-04-29T02:23:52.112917Z",
     "start_time": "2022-04-29T02:23:52.096233Z"
    }
   },
   "outputs": [
    {
     "data": {
      "text/plain": [
       "2"
      ]
     },
     "execution_count": 62,
     "metadata": {},
     "output_type": "execute_result"
    }
   ],
   "source": [
    "test_lab[1]"
   ]
  },
  {
   "cell_type": "code",
   "execution_count": null,
   "id": "e93cfbf6",
   "metadata": {},
   "outputs": [],
   "source": []
  }
 ],
 "metadata": {
  "kernelspec": {
   "display_name": "Python 3 (ipykernel)",
   "language": "python",
   "name": "python3"
  },
  "language_info": {
   "codemirror_mode": {
    "name": "ipython",
    "version": 3
   },
   "file_extension": ".py",
   "mimetype": "text/x-python",
   "name": "python",
   "nbconvert_exporter": "python",
   "pygments_lexer": "ipython3",
   "version": "3.9.7"
  }
 },
 "nbformat": 4,
 "nbformat_minor": 5
}
